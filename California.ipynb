{
 "cells": [
  {
   "cell_type": "markdown",
   "metadata": {},
   "source": [
    "# Purpose\n",
    "\n",
    "This notebook is meant to be one place to put all of findings about the VA.\n",
    "\n",
    "## How To Read\n",
    "\n",
    "If you don't know code, ignore everything in a box. "
   ]
  },
  {
   "cell_type": "code",
   "execution_count": 2,
   "metadata": {
    "collapsed": true
   },
   "outputs": [],
   "source": [
    "import pandas as pd\n",
    "%matplotlib inline\n"
   ]
  },
  {
   "cell_type": "code",
   "execution_count": 3,
   "metadata": {
    "collapsed": false
   },
   "outputs": [
    {
     "name": "stdout",
     "output_type": "stream",
     "text": [
      "San Diego was not priortized. It received 144.0 choice hires\n",
      "It's staff went from 3028.0 in May 2014 to 3173.0 in May 2016.\n",
      "That's a staffing level increase of 145.0.\n",
      "San Diego had 60802 completed appointments in Sept 2014 and 60297 in Aug 2016.\n",
      "Primary care Sept 2014: 2.16 Primary care Aug 2016: 2.68\n",
      "Specialty care Sept 2014: 3.84 Specialty care Aug 2016: 8.13\n",
      "Mental health care Sept 2014: 3.0 Mental health care Aug 2016: 5.38\n",
      "Percent of Appts over 30 days Sept 2014: 2.25 Percent of Appts over 30 days Aug 2016: 4.75\n"
     ]
    }
   ],
   "source": [
    "df = pd.read_csv(\"Data/Master/Master.csv\")\n",
    "Diego = df[df[\"Station\"] == 664]# San Diego\n",
    "Linda = df[df[\"Station\"] == 605]# Loma Linda, CA\n",
    "Beach = df[df[\"Station\"] == 600]# Loma Linda, CA\n",
    "\n",
    "LA = df[df[\"ID\"] == \"691gr\"]# LA, CA\n",
    "\n",
    "print \"San Diego was not priortized. It received {} choice hires\".format(Diego[\"Choice_Hires\"].item())\n",
    "print \"It's staff went from {} in May 2014 to {} in May 2016.\".format(Diego[\"MAY-FY14\"].item(),Diego[\"MAY-FY16\"].item())\n",
    "print \"That's a staffing level increase of {}.\".format(Diego[\"MAY-FY16\"].item()-Diego[\"MAY-FY14\"].item())\n",
    "print \"San Diego had {} completed appointments in Sept 2014 and {} in Aug 2016.\".format(Diego[\"Appts_Complete_1409\"].item(),\n",
    "                                                                                                    Diego[\"Appts_Complete_1608\"].item())\n",
    "\n",
    "print \"Primary care Sept 2014: {} Primary care Aug 2016: {}\".format(Diego[\"PC_Wait_Complete_1409\"].item(),Diego[\"PC_Wait_Complete_1608\"].item())\n",
    "print \"Specialty care Sept 2014: {} Specialty care Aug 2016: {}\".format(Diego[\"SC_Wait_Complete_1409\"].item(),Diego[\"SC_Wait_Complete_1608\"].item())\n",
    "print \"Mental health care Sept 2014: {} Mental health care Aug 2016: {}\".format(Diego[\"MH_Wait_Complete_1409\"].item(),Diego[\"MH_Wait_Complete_1608\"].item())\n",
    "print \"Percent of Appts over 30 days Sept 2014: {} Percent of Appts over 30 days Aug 2016: {}\".format(Diego[\"%_Appts_Over_30_Complete_1409\"].item(),Diego[\"%_Appts_Over_30_Complete_1608\"].item())\n"
   ]
  },
  {
   "cell_type": "code",
   "execution_count": 4,
   "metadata": {
    "collapsed": false
   },
   "outputs": [
    {
     "name": "stdout",
     "output_type": "stream",
     "text": [
      "LA was priortized. It received 108.0 choice hires\n",
      "It's staff went from 5041.0 in May 2014 to 5090.0 in May 2016.\n",
      "That's a staffing level increase of 49.0.\n",
      "LA had 65683 completed appointments in Sept 2014 and 70257 in Aug 2016.\n",
      "Primary care Sept 2014: 4.64 Primary care Aug 2016: 5.75\n",
      "Specialty care Sept 2014: 6.68 Specialty care Aug 2016: 9.58\n",
      "Mental health care Sept 2014: 4.49 Mental health care Aug 2016: 4.24\n",
      "Percent of Appts over 30 days Sept 2014: 4.39 Percent of Appts over 30 days Aug 2016: 6.83\n"
     ]
    }
   ],
   "source": [
    "print \"LA was priortized. It received {} choice hires\".format(LA[\"Choice_Hires\"].item())\n",
    "print \"It's staff went from {} in May 2014 to {} in May 2016.\".format(LA[\"MAY-FY14\"].item(),LA[\"MAY-FY16\"].item())\n",
    "print \"That's a staffing level increase of {}.\".format(LA[\"MAY-FY16\"].item()-LA[\"MAY-FY14\"].item())\n",
    "print \"LA had {} completed appointments in Sept 2014 and {} in Aug 2016.\".format(LA[\"Appts_Complete_1409\"].item(),\n",
    "                                                                                                    LA[\"Appts_Complete_1608\"].item())\n",
    "\n",
    "print \"Primary care Sept 2014: {} Primary care Aug 2016: {}\".format(LA[\"PC_Wait_Complete_1409\"].item(),LA[\"PC_Wait_Complete_1608\"].item())\n",
    "print \"Specialty care Sept 2014: {} Specialty care Aug 2016: {}\".format(LA[\"SC_Wait_Complete_1409\"].item(),LA[\"SC_Wait_Complete_1608\"].item())\n",
    "print \"Mental health care Sept 2014: {} Mental health care Aug 2016: {}\".format(LA[\"MH_Wait_Complete_1409\"].item(),LA[\"MH_Wait_Complete_1608\"].item())\n",
    "print \"Percent of Appts over 30 days Sept 2014: {} Percent of Appts over 30 days Aug 2016: {}\".format(LA[\"%_Appts_Over_30_Complete_1409\"].item(),LA[\"%_Appts_Over_30_Complete_1608\"].item())\n"
   ]
  },
  {
   "cell_type": "code",
   "execution_count": 5,
   "metadata": {
    "collapsed": false
   },
   "outputs": [
    {
     "name": "stdout",
     "output_type": "stream",
     "text": [
      "Loma Linda was priortized. It received 215.0 choice hires\n",
      "It's staff went from 2489.0 in May 2014 to 2809.0 in May 2016.\n",
      "That's a staffing level increase of 320.0.\n",
      "Loma Linda had 53584 completed appointments in Sept 2014 and 57647 in Aug 2016.\n",
      "Primary care Sept 2014: 3.46 Primary care Aug 2016: 7.28\n",
      "Specialty care Sept 2014: 6.11 Specialty care Aug 2016: 7.58\n",
      "Mental health care Sept 2014: 3.59 Mental health care Aug 2016: 4.48\n",
      "Percent of Appts over 30 days Sept 2014: 3.08 Percent of Appts over 30 days Aug 2016: 5.89\n"
     ]
    }
   ],
   "source": [
    "print \"Loma Linda was priortized. It received {} choice hires\".format(Linda[\"Choice_Hires\"].item())\n",
    "print \"It's staff went from {} in May 2014 to {} in May 2016.\".format(Linda[\"MAY-FY14\"].item(),Linda[\"MAY-FY16\"].item())\n",
    "print \"That's a staffing level increase of {}.\".format(Linda[\"MAY-FY16\"].item()-Linda[\"MAY-FY14\"].item())\n",
    "print \"Loma Linda had {} completed appointments in Sept 2014 and {} in Aug 2016.\".format(Linda[\"Appts_Complete_1409\"].item(),\n",
    "                                                                                                    Linda[\"Appts_Complete_1608\"].item())\n",
    "\n",
    "print \"Primary care Sept 2014: {} Primary care Aug 2016: {}\".format(Linda[\"PC_Wait_Complete_1409\"].item(),Linda[\"PC_Wait_Complete_1608\"].item())\n",
    "print \"Specialty care Sept 2014: {} Specialty care Aug 2016: {}\".format(Linda[\"SC_Wait_Complete_1409\"].item(),Linda[\"SC_Wait_Complete_1608\"].item())\n",
    "print \"Mental health care Sept 2014: {} Mental health care Aug 2016: {}\".format(Linda[\"MH_Wait_Complete_1409\"].item(),Linda[\"MH_Wait_Complete_1608\"].item())\n",
    "print \"Percent of Appts over 30 days Sept 2014: {} Percent of Appts over 30 days Aug 2016: {}\".format(Linda[\"%_Appts_Over_30_Complete_1409\"].item(),Linda[\"%_Appts_Over_30_Complete_1608\"].item())\n"
   ]
  },
  {
   "cell_type": "code",
   "execution_count": 6,
   "metadata": {
    "collapsed": false
   },
   "outputs": [
    {
     "name": "stdout",
     "output_type": "stream",
     "text": [
      "Primary care Sept 2014: 3.46 Primary care Aug 2016: 7.28\n",
      "Specialty care Sept 2014: 6.11 Specialty care Aug 2016: 7.58\n",
      "Mental health care Sept 2014: 3.59 Mental health care Aug 2016: 4.48\n",
      "Percent of Appts over 30 days Sept 2014: 3.08 Percent of Appts over 30 days Aug 2016: 5.89\n"
     ]
    }
   ],
   "source": [
    "print \"Primary care Sept 2014: {} Primary care Aug 2016: {}\".format(Linda[\"PC_Wait_Complete_1409\"].item(),Linda[\"PC_Wait_Complete_1608\"].item())\n",
    "print \"Specialty care Sept 2014: {} Specialty care Aug 2016: {}\".format(Linda[\"SC_Wait_Complete_1409\"].item(),Linda[\"SC_Wait_Complete_1608\"].item())\n",
    "print \"Mental health care Sept 2014: {} Mental health care Aug 2016: {}\".format(Linda[\"MH_Wait_Complete_1409\"].item(),Linda[\"MH_Wait_Complete_1608\"].item())\n",
    "print \"Percent of Appts over 30 days Sept 2014: {} Percent of Appts over 30 days Aug 2016: {}\".format(Linda[\"%_Appts_Over_30_Complete_1409\"].item(),Linda[\"%_Appts_Over_30_Complete_1608\"].item())\n"
   ]
  },
  {
   "cell_type": "code",
   "execution_count": 7,
   "metadata": {
    "collapsed": false
   },
   "outputs": [
    {
     "name": "stderr",
     "output_type": "stream",
     "text": [
      "/usr/local/lib/python2.7/site-packages/ipykernel/__main__.py:1: FutureWarning: sort(columns=....) is deprecated, use sort_values(by=.....)\n",
      "  if __name__ == '__main__':\n",
      "/usr/local/lib/python2.7/site-packages/ipykernel/__main__.py:2: FutureWarning: sort(columns=....) is deprecated, use sort_values(by=.....)\n",
      "  from ipykernel import kernelapp as app\n",
      "/usr/local/lib/python2.7/site-packages/ipykernel/__main__.py:3: FutureWarning: sort(columns=....) is deprecated, use sort_values(by=.....)\n",
      "  app.launch_new_instance()\n",
      "/usr/local/lib/python2.7/site-packages/ipykernel/__main__.py:4: FutureWarning: sort(columns=....) is deprecated, use sort_values(by=.....)\n"
     ]
    }
   ],
   "source": [
    "most_raw_hires = df.sort(\"Choice_Hires\",ascending=False).head(5)\n",
    "least_raw_hires = df.sort(\"Choice_Hires\",ascending=False).tail(5)\n",
    "most_percent_hires = df.sort(\"Choice_Increase_%\",ascending=False).head(1)\n",
    "least_percent_hires = df.sort(\"Choice_Increase_%\",ascending=False).tail(1)"
   ]
  },
  {
   "cell_type": "code",
   "execution_count": 8,
   "metadata": {
    "collapsed": false
   },
   "outputs": [
    {
     "data": {
      "text/html": [
       "<div>\n",
       "<table border=\"1\" class=\"dataframe\">\n",
       "  <thead>\n",
       "    <tr style=\"text-align: right;\">\n",
       "      <th></th>\n",
       "      <th>Location</th>\n",
       "      <th>Choice_Hires</th>\n",
       "      <th>MAY-FY14</th>\n",
       "    </tr>\n",
       "  </thead>\n",
       "  <tbody>\n",
       "    <tr>\n",
       "      <th>95</th>\n",
       "      <td>(V17) (549) Dallas, TX</td>\n",
       "      <td>298.0</td>\n",
       "      <td>4771.0</td>\n",
       "    </tr>\n",
       "    <tr>\n",
       "      <th>59</th>\n",
       "      <td>(V09) (626) Middle Tennessee HCS, TN</td>\n",
       "      <td>283.0</td>\n",
       "      <td>3749.0</td>\n",
       "    </tr>\n",
       "    <tr>\n",
       "      <th>84</th>\n",
       "      <td>(V15) (657) St. Louis, MO</td>\n",
       "      <td>249.0</td>\n",
       "      <td>4825.0</td>\n",
       "    </tr>\n",
       "    <tr>\n",
       "      <th>28</th>\n",
       "      <td>(V05) (512) Baltimore HCS, MD</td>\n",
       "      <td>230.0</td>\n",
       "      <td>3215.0</td>\n",
       "    </tr>\n",
       "    <tr>\n",
       "      <th>129</th>\n",
       "      <td>(V22) (605) Loma Linda, CA</td>\n",
       "      <td>215.0</td>\n",
       "      <td>2489.0</td>\n",
       "    </tr>\n",
       "  </tbody>\n",
       "</table>\n",
       "</div>"
      ],
      "text/plain": [
       "                                 Location  Choice_Hires  MAY-FY14\n",
       "95                 (V17) (549) Dallas, TX         298.0    4771.0\n",
       "59   (V09) (626) Middle Tennessee HCS, TN         283.0    3749.0\n",
       "84              (V15) (657) St. Louis, MO         249.0    4825.0\n",
       "28          (V05) (512) Baltimore HCS, MD         230.0    3215.0\n",
       "129            (V22) (605) Loma Linda, CA         215.0    2489.0"
      ]
     },
     "execution_count": 8,
     "metadata": {},
     "output_type": "execute_result"
    }
   ],
   "source": [
    "most_raw_hires[[\"Location\",\"Choice_Hires\",\"MAY-FY14\"]]"
   ]
  },
  {
   "cell_type": "code",
   "execution_count": 9,
   "metadata": {
    "collapsed": false
   },
   "outputs": [
    {
     "data": {
      "text/plain": [
       "count    140.000000\n",
       "mean       2.583643\n",
       "std        1.735691\n",
       "min        0.100000\n",
       "25%        1.487500\n",
       "50%        2.085000\n",
       "75%        3.212500\n",
       "max        9.340000\n",
       "Name: %_Appts_Over_30_Complete_1409, dtype: float64"
      ]
     },
     "execution_count": 9,
     "metadata": {},
     "output_type": "execute_result"
    }
   ],
   "source": [
    "df[\"%_Appts_Over_30_Complete_1409\"].describe()"
   ]
  },
  {
   "cell_type": "code",
   "execution_count": 10,
   "metadata": {
    "collapsed": false
   },
   "outputs": [
    {
     "data": {
      "text/html": [
       "<div>\n",
       "<table border=\"1\" class=\"dataframe\">\n",
       "  <thead>\n",
       "    <tr style=\"text-align: right;\">\n",
       "      <th></th>\n",
       "      <th>Appts_Pending_1412</th>\n",
       "      <th>%_Appts_Over_30_Pending_1412</th>\n",
       "      <th>PC_Wait_Pending_1412</th>\n",
       "      <th>SC_Wait_Pending_1412</th>\n",
       "      <th>MH_Wait_Pending_1412</th>\n",
       "      <th>for_dups</th>\n",
       "      <th>ORGANIZATION</th>\n",
       "      <th>MAY-FY11</th>\n",
       "      <th>MAY-FY12</th>\n",
       "      <th>MAY-FY13</th>\n",
       "      <th>...</th>\n",
       "      <th>Staff_To_Appts_Pending_16</th>\n",
       "      <th>Staff_To_Appts_Complete_14</th>\n",
       "      <th>Staff_To_Appts_Complete_16</th>\n",
       "      <th>Percentage_Point_Wait_Over_30_Increase_Pending</th>\n",
       "      <th>Percentage_Point_Wait_Over_30_Increase_Complete</th>\n",
       "      <th>qualitative_size</th>\n",
       "      <th>State_Full</th>\n",
       "      <th>Vet_Pop_State_9_30_14</th>\n",
       "      <th>Vet_Pop_State_9_30_34</th>\n",
       "      <th>Vet_Pop_State_Increase_20</th>\n",
       "    </tr>\n",
       "  </thead>\n",
       "  <tbody>\n",
       "    <tr>\n",
       "      <th>122</th>\n",
       "      <td>17194</td>\n",
       "      <td>11.53</td>\n",
       "      <td>0.59</td>\n",
       "      <td>14.50</td>\n",
       "      <td>0.63</td>\n",
       "      <td>570</td>\n",
       "      <td>(V21) (570) HCS FRESNO CA</td>\n",
       "      <td>1055.0</td>\n",
       "      <td>1101.0</td>\n",
       "      <td>1142.0</td>\n",
       "      <td>...</td>\n",
       "      <td>15.356831</td>\n",
       "      <td>17.602141</td>\n",
       "      <td>17.635901</td>\n",
       "      <td>-0.07</td>\n",
       "      <td>-0.49</td>\n",
       "      <td>average</td>\n",
       "      <td>California</td>\n",
       "      <td>1851470.0</td>\n",
       "      <td>1150965.0</td>\n",
       "      <td>-700505.0</td>\n",
       "    </tr>\n",
       "    <tr>\n",
       "      <th>123</th>\n",
       "      <td>62511</td>\n",
       "      <td>13.08</td>\n",
       "      <td>4.82</td>\n",
       "      <td>16.07</td>\n",
       "      <td>2.26</td>\n",
       "      <td>612n.</td>\n",
       "      <td>NaN</td>\n",
       "      <td>NaN</td>\n",
       "      <td>NaN</td>\n",
       "      <td>NaN</td>\n",
       "      <td>...</td>\n",
       "      <td>NaN</td>\n",
       "      <td>NaN</td>\n",
       "      <td>NaN</td>\n",
       "      <td>-2.37</td>\n",
       "      <td>0.54</td>\n",
       "      <td>average</td>\n",
       "      <td>California</td>\n",
       "      <td>1851470.0</td>\n",
       "      <td>1150965.0</td>\n",
       "      <td>-700505.0</td>\n",
       "    </tr>\n",
       "    <tr>\n",
       "      <th>124</th>\n",
       "      <td>49766</td>\n",
       "      <td>6.82</td>\n",
       "      <td>6.54</td>\n",
       "      <td>7.32</td>\n",
       "      <td>5.92</td>\n",
       "      <td>640</td>\n",
       "      <td>(V21) (640) HCS PALO ALTO CA</td>\n",
       "      <td>3791.0</td>\n",
       "      <td>3823.0</td>\n",
       "      <td>4031.0</td>\n",
       "      <td>...</td>\n",
       "      <td>10.420516</td>\n",
       "      <td>10.761674</td>\n",
       "      <td>10.057971</td>\n",
       "      <td>2.96</td>\n",
       "      <td>2.03</td>\n",
       "      <td>large</td>\n",
       "      <td>California</td>\n",
       "      <td>1851470.0</td>\n",
       "      <td>1150965.0</td>\n",
       "      <td>-700505.0</td>\n",
       "    </tr>\n",
       "    <tr>\n",
       "      <th>126</th>\n",
       "      <td>28503</td>\n",
       "      <td>7.63</td>\n",
       "      <td>11.75</td>\n",
       "      <td>7.02</td>\n",
       "      <td>5.23</td>\n",
       "      <td>662</td>\n",
       "      <td>(V21) (662) MC SAN FRANCISCO CA</td>\n",
       "      <td>2194.0</td>\n",
       "      <td>2296.0</td>\n",
       "      <td>2388.0</td>\n",
       "      <td>...</td>\n",
       "      <td>13.061565</td>\n",
       "      <td>16.166406</td>\n",
       "      <td>13.923826</td>\n",
       "      <td>-1.41</td>\n",
       "      <td>0.62</td>\n",
       "      <td>average</td>\n",
       "      <td>California</td>\n",
       "      <td>1851470.0</td>\n",
       "      <td>1150965.0</td>\n",
       "      <td>-700505.0</td>\n",
       "    </tr>\n",
       "    <tr>\n",
       "      <th>128</th>\n",
       "      <td>49174</td>\n",
       "      <td>3.33</td>\n",
       "      <td>8.78</td>\n",
       "      <td>3.75</td>\n",
       "      <td>3.86</td>\n",
       "      <td>600</td>\n",
       "      <td>(V22) (600) HCS LONG BEACH CA</td>\n",
       "      <td>2308.0</td>\n",
       "      <td>2358.0</td>\n",
       "      <td>2343.0</td>\n",
       "      <td>...</td>\n",
       "      <td>19.345604</td>\n",
       "      <td>20.942397</td>\n",
       "      <td>21.037527</td>\n",
       "      <td>4.98</td>\n",
       "      <td>0.51</td>\n",
       "      <td>average</td>\n",
       "      <td>California</td>\n",
       "      <td>1851470.0</td>\n",
       "      <td>1150965.0</td>\n",
       "      <td>-700505.0</td>\n",
       "    </tr>\n",
       "    <tr>\n",
       "      <th>129</th>\n",
       "      <td>62831</td>\n",
       "      <td>7.38</td>\n",
       "      <td>8.00</td>\n",
       "      <td>9.95</td>\n",
       "      <td>4.54</td>\n",
       "      <td>605</td>\n",
       "      <td>(V22) (605) MC LOMA LINDA CA</td>\n",
       "      <td>2374.0</td>\n",
       "      <td>2341.0</td>\n",
       "      <td>2431.0</td>\n",
       "      <td>...</td>\n",
       "      <td>31.927376</td>\n",
       "      <td>21.528325</td>\n",
       "      <td>20.522250</td>\n",
       "      <td>1.99</td>\n",
       "      <td>2.81</td>\n",
       "      <td>average</td>\n",
       "      <td>California</td>\n",
       "      <td>1851470.0</td>\n",
       "      <td>1150965.0</td>\n",
       "      <td>-700505.0</td>\n",
       "    </tr>\n",
       "    <tr>\n",
       "      <th>130</th>\n",
       "      <td>61038</td>\n",
       "      <td>9.40</td>\n",
       "      <td>6.67</td>\n",
       "      <td>9.57</td>\n",
       "      <td>6.86</td>\n",
       "      <td>664</td>\n",
       "      <td>(V22) (664) HCS SAN DIEGO CA</td>\n",
       "      <td>2775.0</td>\n",
       "      <td>2815.0</td>\n",
       "      <td>2991.0</td>\n",
       "      <td>...</td>\n",
       "      <td>21.746297</td>\n",
       "      <td>20.079921</td>\n",
       "      <td>19.003152</td>\n",
       "      <td>0.54</td>\n",
       "      <td>2.50</td>\n",
       "      <td>large</td>\n",
       "      <td>California</td>\n",
       "      <td>1851470.0</td>\n",
       "      <td>1150965.0</td>\n",
       "      <td>-700505.0</td>\n",
       "    </tr>\n",
       "  </tbody>\n",
       "</table>\n",
       "<p>7 rows × 103 columns</p>\n",
       "</div>"
      ],
      "text/plain": [
       "     Appts_Pending_1412  %_Appts_Over_30_Pending_1412  PC_Wait_Pending_1412  \\\n",
       "122               17194                         11.53                  0.59   \n",
       "123               62511                         13.08                  4.82   \n",
       "124               49766                          6.82                  6.54   \n",
       "126               28503                          7.63                 11.75   \n",
       "128               49174                          3.33                  8.78   \n",
       "129               62831                          7.38                  8.00   \n",
       "130               61038                          9.40                  6.67   \n",
       "\n",
       "     SC_Wait_Pending_1412  MH_Wait_Pending_1412 for_dups  \\\n",
       "122                 14.50                  0.63      570   \n",
       "123                 16.07                  2.26    612n.   \n",
       "124                  7.32                  5.92      640   \n",
       "126                  7.02                  5.23      662   \n",
       "128                  3.75                  3.86      600   \n",
       "129                  9.95                  4.54      605   \n",
       "130                  9.57                  6.86      664   \n",
       "\n",
       "                        ORGANIZATION  MAY-FY11  MAY-FY12  MAY-FY13  \\\n",
       "122        (V21) (570) HCS FRESNO CA    1055.0    1101.0    1142.0   \n",
       "123                              NaN       NaN       NaN       NaN   \n",
       "124     (V21) (640) HCS PALO ALTO CA    3791.0    3823.0    4031.0   \n",
       "126  (V21) (662) MC SAN FRANCISCO CA    2194.0    2296.0    2388.0   \n",
       "128    (V22) (600) HCS LONG BEACH CA    2308.0    2358.0    2343.0   \n",
       "129     (V22) (605) MC LOMA LINDA CA    2374.0    2341.0    2431.0   \n",
       "130     (V22) (664) HCS SAN DIEGO CA    2775.0    2815.0    2991.0   \n",
       "\n",
       "               ...              Staff_To_Appts_Pending_16  \\\n",
       "122            ...                              15.356831   \n",
       "123            ...                                    NaN   \n",
       "124            ...                              10.420516   \n",
       "126            ...                              13.061565   \n",
       "128            ...                              19.345604   \n",
       "129            ...                              31.927376   \n",
       "130            ...                              21.746297   \n",
       "\n",
       "     Staff_To_Appts_Complete_14  Staff_To_Appts_Complete_16  \\\n",
       "122                   17.602141                   17.635901   \n",
       "123                         NaN                         NaN   \n",
       "124                   10.761674                   10.057971   \n",
       "126                   16.166406                   13.923826   \n",
       "128                   20.942397                   21.037527   \n",
       "129                   21.528325                   20.522250   \n",
       "130                   20.079921                   19.003152   \n",
       "\n",
       "    Percentage_Point_Wait_Over_30_Increase_Pending  \\\n",
       "122                                          -0.07   \n",
       "123                                          -2.37   \n",
       "124                                           2.96   \n",
       "126                                          -1.41   \n",
       "128                                           4.98   \n",
       "129                                           1.99   \n",
       "130                                           0.54   \n",
       "\n",
       "     Percentage_Point_Wait_Over_30_Increase_Complete  qualitative_size  \\\n",
       "122                                            -0.49           average   \n",
       "123                                             0.54           average   \n",
       "124                                             2.03             large   \n",
       "126                                             0.62           average   \n",
       "128                                             0.51           average   \n",
       "129                                             2.81           average   \n",
       "130                                             2.50             large   \n",
       "\n",
       "     State_Full  Vet_Pop_State_9_30_14  Vet_Pop_State_9_30_34  \\\n",
       "122  California              1851470.0              1150965.0   \n",
       "123  California              1851470.0              1150965.0   \n",
       "124  California              1851470.0              1150965.0   \n",
       "126  California              1851470.0              1150965.0   \n",
       "128  California              1851470.0              1150965.0   \n",
       "129  California              1851470.0              1150965.0   \n",
       "130  California              1851470.0              1150965.0   \n",
       "\n",
       "     Vet_Pop_State_Increase_20  \n",
       "122                  -700505.0  \n",
       "123                  -700505.0  \n",
       "124                  -700505.0  \n",
       "126                  -700505.0  \n",
       "128                  -700505.0  \n",
       "129                  -700505.0  \n",
       "130                  -700505.0  \n",
       "\n",
       "[7 rows x 103 columns]"
      ]
     },
     "execution_count": 10,
     "metadata": {},
     "output_type": "execute_result"
    }
   ],
   "source": [
    "df[df[\"State\"]==\"CA\"]"
   ]
  },
  {
   "cell_type": "code",
   "execution_count": 11,
   "metadata": {
    "collapsed": false
   },
   "outputs": [
    {
     "name": "stdout",
     "output_type": "stream",
     "text": [
      "Long Beach was priortized. It received 140.0 choice hires\n",
      "It's staff went from 2361.0 in May 2014 to 2798.0 in May 2016.\n",
      "That's a staffing level increase of 437.0.\n",
      "Long Beach had 49445 completed appointments in Sept 2014 and 58863 in Aug 2016.\n",
      "Primary care Sept 2014: 5.69 Primary care Aug 2016: 4.16\n",
      "Specialty care Sept 2014: 2.56 Specialty care Aug 2016: 4.24\n",
      "Mental health care Sept 2014: 2.21 Mental health care Aug 2016: 3.27\n",
      "Percent of Appts over 30 days Sept 2014: 1.58 Percent of Appts over 30 days Aug 2016: 2.09\n"
     ]
    }
   ],
   "source": [
    "\n",
    "\n",
    "print \"Long Beach was priortized. It received {} choice hires\".format(Beach[\"Choice_Hires\"].item())\n",
    "print \"It's staff went from {} in May 2014 to {} in May 2016.\".format(Beach[\"MAY-FY14\"].item(),Beach[\"MAY-FY16\"].item())\n",
    "print \"That's a staffing level increase of {}.\".format(Beach[\"MAY-FY16\"].item()-Beach[\"MAY-FY14\"].item())\n",
    "print \"Long Beach had {} completed appointments in Sept 2014 and {} in Aug 2016.\".format(Beach[\"Appts_Complete_1409\"].item(),\n",
    "                                                                                                    Beach[\"Appts_Complete_1608\"].item())\n",
    "\n",
    "print \"Primary care Sept 2014: {} Primary care Aug 2016: {}\".format(Beach[\"PC_Wait_Complete_1409\"].item(),Beach[\"PC_Wait_Complete_1608\"].item())\n",
    "print \"Specialty care Sept 2014: {} Specialty care Aug 2016: {}\".format(Beach[\"SC_Wait_Complete_1409\"].item(),Beach[\"SC_Wait_Complete_1608\"].item())\n",
    "print \"Mental health care Sept 2014: {} Mental health care Aug 2016: {}\".format(Beach[\"MH_Wait_Complete_1409\"].item(),Beach[\"MH_Wait_Complete_1608\"].item())\n",
    "print \"Percent of Appts over 30 days Sept 2014: {} Percent of Appts over 30 days Aug 2016: {}\".format(Beach[\"%_Appts_Over_30_Complete_1409\"].item(),Beach[\"%_Appts_Over_30_Complete_1608\"].item())\n"
   ]
  },
  {
   "cell_type": "code",
   "execution_count": 22,
   "metadata": {
    "collapsed": false
   },
   "outputs": [
    {
     "data": {
      "text/plain": [
       "Choice_Hires                  87.591241\n",
       "MAY-FY14                    2083.945312\n",
       "MAY-FY16                    2249.585938\n",
       "Appts_Complete_1409        34518.742857\n",
       "Appts_Complete_1608        36995.307143\n",
       "PC_Wait_Complete_1409          3.513571\n",
       "SC_Wait_Complete_1409          4.486286\n",
       "MH_Wait_Complete_1409          2.440286\n",
       "PC_Wait_Complete_1608          4.661286\n",
       "SC_Wait_Complete_1608          6.746857\n",
       "MH_Wait_Complete_1608          2.744857\n",
       "Staff_14_To_16_Increase      165.640625\n",
       "dtype: float64"
      ]
     },
     "execution_count": 22,
     "metadata": {},
     "output_type": "execute_result"
    }
   ],
   "source": [
    "factor = [\"Choice_Hires\",\"MAY-FY14\",\"MAY-FY16\",\"Appts_Complete_1409\",\"Appts_Complete_1608\",\n",
    "         \"PC_Wait_Complete_1409\",\"SC_Wait_Complete_1409\",\"MH_Wait_Complete_1409\",\n",
    "         \"PC_Wait_Complete_1608\",\"SC_Wait_Complete_1608\",\"MH_Wait_Complete_1608\",\n",
    "         \"Staff_14_To_16_Increase\"]\n",
    "df[factor].mean()"
   ]
  },
  {
   "cell_type": "code",
   "execution_count": 23,
   "metadata": {
    "collapsed": false
   },
   "outputs": [
    {
     "data": {
      "text/plain": [
       "Choice_Hires                 140.00\n",
       "MAY-FY14                    2361.00\n",
       "MAY-FY16                    2798.00\n",
       "Appts_Complete_1409        49445.00\n",
       "Appts_Complete_1608        58863.00\n",
       "PC_Wait_Complete_1409          5.69\n",
       "SC_Wait_Complete_1409          2.56\n",
       "MH_Wait_Complete_1409          2.21\n",
       "PC_Wait_Complete_1608          4.16\n",
       "SC_Wait_Complete_1608          4.24\n",
       "MH_Wait_Complete_1608          3.27\n",
       "Staff_14_To_16_Increase      437.00\n",
       "dtype: float64"
      ]
     },
     "execution_count": 23,
     "metadata": {},
     "output_type": "execute_result"
    }
   ],
   "source": [
    "Beach[factor].mean()"
   ]
  },
  {
   "cell_type": "code",
   "execution_count": 13,
   "metadata": {
    "collapsed": false
   },
   "outputs": [
    {
     "data": {
      "text/plain": [
       "128    (V22) (600) Long Beach, CA\n",
       "Name: Location, dtype: object"
      ]
     },
     "execution_count": 13,
     "metadata": {},
     "output_type": "execute_result"
    }
   ],
   "source": [
    "Beach[\"Location\"]"
   ]
  },
  {
   "cell_type": "code",
   "execution_count": null,
   "metadata": {
    "collapsed": true
   },
   "outputs": [],
   "source": [
    "df[]"
   ]
  },
  {
   "cell_type": "code",
   "execution_count": 14,
   "metadata": {
    "collapsed": false
   },
   "outputs": [
    {
     "name": "stdout",
     "output_type": "stream",
     "text": [
      "Appts_Pending_1412\n",
      "%_Appts_Over_30_Pending_1412\n",
      "PC_Wait_Pending_1412\n",
      "SC_Wait_Pending_1412\n",
      "MH_Wait_Pending_1412\n",
      "for_dups\n",
      "ORGANIZATION\n",
      "MAY-FY11\n",
      "MAY-FY12\n",
      "MAY-FY13\n",
      "MAY-FY14\n",
      "MAY-FY15\n",
      "MAY-FY16\n",
      "ID\n",
      "Appts_Pending_1610\n",
      "%_Appts_Over_30_Pending_1610\n",
      "PC_Wait_Pending_1610\n",
      "SC_Wait_Pending_1610\n",
      "MH_Wait_Pending_1610\n",
      "Appts_Complete_1608\n",
      "%_Appts_Over_30_Complete_1608\n",
      "PC_Wait_Complete_1608\n",
      "SC_Wait_Complete_1608\n",
      "MH_Wait_Complete_1608\n",
      "Station\n",
      "Location\n",
      "Choice_Hires\n",
      "Interim\n",
      "Vacancy\n",
      "%_Appts_Over_30_Complete_1409\n",
      "Appts_Complete_1409\n",
      "MH_Wait_Complete_1409\n",
      "PC_Wait_Complete_1409\n",
      "SC_Wait_Complete_1409\n",
      "Physician_Turnover_FY11\n",
      "Physician_Turnover_FY12\n",
      "Physician_Turnover_FY13\n",
      "Physician_Turnover_FY14\n",
      "Physician_Turnover_FY15\n",
      "NbrPsychiatrists\n",
      "Name\n",
      "State\n",
      "Geo\n",
      "Confidence\n",
      "County\n",
      "County, St\n",
      "Projected_Increase_5_years\n",
      "Projected_Increase_10_years\n",
      "Projected_Increase_20_years\n",
      "Projected_Increase_30_years\n",
      "9/30/43\n",
      "9/30/33\n",
      "9/30/23\n",
      "9/30/18\n",
      "Pending_Increase\n",
      "Pending_Increase_%\n",
      "Complete_Increase\n",
      "Complete_Increase_%\n",
      "Complete_Pending_Appts_Diff_14\n",
      "Complete_Pending_Appts_Diff_16\n",
      "Complete_Pending_Appts_Diff_14_%\n",
      "Complete_Pending_Appts_Diff_16_%\n",
      "Complete_Pending_Gap_Increase_%\n",
      "Missing_Leadership\n",
      "Staff_11_To_12_Increase\n",
      "Staff_11_To_12_Increase_%\n",
      "Staff_12_To_13_Increase\n",
      "Staff_12_To_13_Increase_%\n",
      "Staff_13_To_14_Increase\n",
      "Staff_13_To_14_Increase_%\n",
      "Staff_14_To_15_Increase\n",
      "Staff_14_To_15_Increase_%\n",
      "Staff_15_To_16_Increase\n",
      "Staff_15_To_16_Increase_%\n",
      "Staff_14_To_16_Increase\n",
      "Staff_14_To_16_Increase_%\n",
      "Choice_Increase_%\n",
      "Choice_Staff_Dif\n",
      "Choice_Increase_%_PC_Wait_Complete_1409_Ratio\n",
      "Choice_Increase_%_PC_Wait_Pending_1412_Ratio\n",
      "PC_Wait_Pending_Increase\n",
      "PC_Wait_Pending_Increase_%\n",
      "PC_Wait_Complete_Increase\n",
      "PC_Wait_Complete_Increase_%\n",
      "SC_Wait_Pending_Increase\n",
      "SC_Wait_Pending_Increase_%\n",
      "SC_Wait_Complete_Increase\n",
      "SC_Wait_Complete_Increase_%\n",
      "MH_Wait_Pending_Increase\n",
      "MH_Wait_Pending_Increase_%\n",
      "MH_Wait_Complete_Increase\n",
      "MH_Wait_Complete_Increase_%\n",
      "Staff_To_Appts_Pending_14\n",
      "Staff_To_Appts_Pending_16\n",
      "Staff_To_Appts_Complete_14\n",
      "Staff_To_Appts_Complete_16\n",
      "Percentage_Point_Wait_Over_30_Increase_Pending\n",
      "Percentage_Point_Wait_Over_30_Increase_Complete\n",
      "qualitative_size\n",
      "State_Full\n",
      "Vet_Pop_State_9_30_14\n",
      "Vet_Pop_State_9_30_34\n",
      "Vet_Pop_State_Increase_20\n"
     ]
    }
   ],
   "source": [
    "for x in LA.columns:\n",
    "    print x"
   ]
  },
  {
   "cell_type": "code",
   "execution_count": 15,
   "metadata": {
    "collapsed": false
   },
   "outputs": [
    {
     "data": {
      "text/plain": [
       "131    large\n",
       "Name: qualitative_size, dtype: object"
      ]
     },
     "execution_count": 15,
     "metadata": {},
     "output_type": "execute_result"
    }
   ],
   "source": [
    "LA[\"qualitative_size\"]"
   ]
  },
  {
   "cell_type": "code",
   "execution_count": 16,
   "metadata": {
    "collapsed": false
   },
   "outputs": [
    {
     "data": {
      "text/plain": [
       "131    13.802947\n",
       "Name: Staff_To_Appts_Complete_16, dtype: float64"
      ]
     },
     "execution_count": 16,
     "metadata": {},
     "output_type": "execute_result"
    }
   ],
   "source": [
    "LA[\"Staff_To_Appts_Complete_16\"]"
   ]
  },
  {
   "cell_type": "code",
   "execution_count": 17,
   "metadata": {
    "collapsed": false
   },
   "outputs": [
    {
     "name": "stderr",
     "output_type": "stream",
     "text": [
      "/usr/local/lib/python2.7/site-packages/numpy/lib/function_base.py:3834: RuntimeWarning: Invalid value encountered in percentile\n",
      "  RuntimeWarning)\n"
     ]
    },
    {
     "data": {
      "text/plain": [
       "count    128.000000\n",
       "mean      21.863340\n",
       "std       44.429653\n",
       "min        5.068304\n",
       "25%             NaN\n",
       "50%             NaN\n",
       "75%             NaN\n",
       "max      518.020833\n",
       "Name: Staff_To_Appts_Complete_14, dtype: float64"
      ]
     },
     "execution_count": 17,
     "metadata": {},
     "output_type": "execute_result"
    }
   ],
   "source": [
    "df[\"Staff_To_Appts_Complete_14\"].describe()"
   ]
  },
  {
   "cell_type": "code",
   "execution_count": 18,
   "metadata": {
    "collapsed": false
   },
   "outputs": [
    {
     "data": {
      "text/plain": [
       "<matplotlib.axes._subplots.AxesSubplot at 0x110380e10>"
      ]
     },
     "execution_count": 18,
     "metadata": {},
     "output_type": "execute_result"
    },
    {
     "data": {
      "image/png": "[encoded data removed]",
      "text/plain": [
       "<matplotlib.figure.Figure at 0x1126043d0>"
      ]
     },
     "metadata": {},
     "output_type": "display_data"
    }
   ],
   "source": [
    "df[\"Staff_To_Appts_Complete_14\"].hist(bins=100)"
   ]
  },
  {
   "cell_type": "code",
   "execution_count": null,
   "metadata": {
    "collapsed": true
   },
   "outputs": [],
   "source": []
  }
 ],
 "metadata": {
  "kernelspec": {
   "display_name": "Python 2",
   "language": "python",
   "name": "python2"
  },
  "language_info": {
   "codemirror_mode": {
    "name": "ipython",
    "version": 2
   },
   "file_extension": ".py",
   "mimetype": "text/x-python",
   "name": "python",
   "nbconvert_exporter": "python",
   "pygments_lexer": "ipython2",
   "version": "2.7.12"
  }
 },
 "nbformat": 4,
 "nbformat_minor": 1
}
