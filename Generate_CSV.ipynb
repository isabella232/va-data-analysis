{
 "cells": [
  {
   "cell_type": "markdown",
   "metadata": {},
   "source": [
    "# Purpose\n",
    "The goal of this notebook is to make a master CSV. \n",
    "\n"
   ]
  },
  {
   "cell_type": "code",
   "execution_count": 259,
   "metadata": {
    "collapsed": true
   },
   "outputs": [],
   "source": [
    "import pandas as pd\n",
    "import re\n",
    "import numpy as np\n",
    "from dateutil import parser"
   ]
  },
  {
   "cell_type": "markdown",
   "metadata": {},
   "source": [
    "## Functions"
   ]
  },
  {
   "cell_type": "code",
   "execution_count": 260,
   "metadata": {
    "collapsed": false,
    "scrolled": true
   },
   "outputs": [],
   "source": [
    "def get_station(new_string):\n",
    "    try:\n",
    "        query = r\"^\\((V\\d\\d)\\) \\((.*)\\)\"\n",
    "        m = re.search(query, new_string)\n",
    "        return m.group(2).upper()\n",
    "    except:\n",
    "        None\n",
    "        \n",
    "def change_percent(test):\n",
    "    if isinstance(test, str):\n",
    "        query = r\"%\"\n",
    "        m = re.search(query, test)\n",
    "\n",
    "        if m:\n",
    "            test = test.strip(\"%\")\n",
    "            test = float(test)/100\n",
    "            return test\n",
    "        else:\n",
    "            return test\n",
    "    else:\n",
    "        return test\n",
    "    \n",
    "def get_state(test):\n",
    "    query = r\"([A-Z][A-Z])\\Z\"\n",
    "    m = re.search(query, test)\n",
    "    return m.group()\n"
   ]
  },
  {
   "cell_type": "markdown",
   "metadata": {},
   "source": [
    "### Bringing in Pending 2014 Wait Times"
   ]
  },
  {
   "cell_type": "code",
   "execution_count": 261,
   "metadata": {
    "collapsed": false
   },
   "outputs": [
    {
     "ename": "IOError",
     "evalue": "File Wait_Time/Pending_Clean/14_12_01_Wait_Pending.csv does not exist",
     "output_type": "error",
     "traceback": [
      "\u001b[0;31m---------------------------------------------------------------------------\u001b[0m",
      "\u001b[0;31mIOError\u001b[0m                                   Traceback (most recent call last)",
      "\u001b[0;32m<ipython-input-261-be3fc7a911d9>\u001b[0m in \u001b[0;36m<module>\u001b[0;34m()\u001b[0m\n\u001b[1;32m     11\u001b[0m     \u001b[0mcsv\u001b[0m\u001b[0;34m[\u001b[0m\u001b[0;34m\"Station\"\u001b[0m\u001b[0;34m]\u001b[0m \u001b[0;34m=\u001b[0m \u001b[0mcsv\u001b[0m\u001b[0;34m[\u001b[0m\u001b[0;34m\"Location\"\u001b[0m\u001b[0;34m]\u001b[0m\u001b[0;34m.\u001b[0m\u001b[0mapply\u001b[0m\u001b[0;34m(\u001b[0m\u001b[0mget_station\u001b[0m\u001b[0;34m)\u001b[0m\u001b[0;34m\u001b[0m\u001b[0m\n\u001b[1;32m     12\u001b[0m     \u001b[0;32mreturn\u001b[0m \u001b[0mcsv\u001b[0m\u001b[0;34m\u001b[0m\u001b[0m\n\u001b[0;32m---> 13\u001b[0;31m \u001b[0mPending_1412\u001b[0m \u001b[0;34m=\u001b[0m \u001b[0mmake_df\u001b[0m\u001b[0;34m(\u001b[0m\u001b[0;34m\"Pending\"\u001b[0m\u001b[0;34m,\u001b[0m\u001b[0;34m\"1412\"\u001b[0m\u001b[0;34m,\u001b[0m\u001b[0;34m\"Wait_Time/Pending_Clean/14_12_01_Wait_Pending.csv\"\u001b[0m\u001b[0;34m)\u001b[0m\u001b[0;34m\u001b[0m\u001b[0m\n\u001b[0m\u001b[1;32m     14\u001b[0m \u001b[0mPending_1412\u001b[0m\u001b[0;34m.\u001b[0m\u001b[0mhead\u001b[0m\u001b[0;34m(\u001b[0m\u001b[0;34m)\u001b[0m\u001b[0;34m\u001b[0m\u001b[0m\n",
      "\u001b[0;32m<ipython-input-261-be3fc7a911d9>\u001b[0m in \u001b[0;36mmake_df\u001b[0;34m(Type, Time, File)\u001b[0m\n\u001b[1;32m      8\u001b[0m                                       \u001b[0;34m\"%_Appts_Over_30_{}\"\u001b[0m\u001b[0;34m.\u001b[0m\u001b[0mformat\u001b[0m\u001b[0;34m(\u001b[0m\u001b[0mTitle\u001b[0m\u001b[0;34m)\u001b[0m\u001b[0;34m,\u001b[0m\u001b[0;34m\u001b[0m\u001b[0m\n\u001b[1;32m      9\u001b[0m                                       \u001b[0;34m\"PC_Wait_{}\"\u001b[0m\u001b[0;34m.\u001b[0m\u001b[0mformat\u001b[0m\u001b[0;34m(\u001b[0m\u001b[0mTitle\u001b[0m\u001b[0;34m)\u001b[0m\u001b[0;34m,\u001b[0m\u001b[0;34m\u001b[0m\u001b[0m\n\u001b[0;32m---> 10\u001b[0;31m                                       \"SC_Wait_{}\".format(Title),\"MH_Wait_{}\".format(Title)])\n\u001b[0m\u001b[1;32m     11\u001b[0m     \u001b[0mcsv\u001b[0m\u001b[0;34m[\u001b[0m\u001b[0;34m\"Station\"\u001b[0m\u001b[0;34m]\u001b[0m \u001b[0;34m=\u001b[0m \u001b[0mcsv\u001b[0m\u001b[0;34m[\u001b[0m\u001b[0;34m\"Location\"\u001b[0m\u001b[0;34m]\u001b[0m\u001b[0;34m.\u001b[0m\u001b[0mapply\u001b[0m\u001b[0;34m(\u001b[0m\u001b[0mget_station\u001b[0m\u001b[0;34m)\u001b[0m\u001b[0;34m\u001b[0m\u001b[0m\n\u001b[1;32m     12\u001b[0m     \u001b[0;32mreturn\u001b[0m \u001b[0mcsv\u001b[0m\u001b[0;34m\u001b[0m\u001b[0m\n",
      "\u001b[0;32m/usr/local/lib/python2.7/site-packages/pandas/io/parsers.pyc\u001b[0m in \u001b[0;36mparser_f\u001b[0;34m(filepath_or_buffer, sep, delimiter, header, names, index_col, usecols, squeeze, prefix, mangle_dupe_cols, dtype, engine, converters, true_values, false_values, skipinitialspace, skiprows, skipfooter, nrows, na_values, keep_default_na, na_filter, verbose, skip_blank_lines, parse_dates, infer_datetime_format, keep_date_col, date_parser, dayfirst, iterator, chunksize, compression, thousands, decimal, lineterminator, quotechar, quoting, escapechar, comment, encoding, dialect, tupleize_cols, error_bad_lines, warn_bad_lines, skip_footer, doublequote, delim_whitespace, as_recarray, compact_ints, use_unsigned, low_memory, buffer_lines, memory_map, float_precision)\u001b[0m\n\u001b[1;32m    560\u001b[0m                     skip_blank_lines=skip_blank_lines)\n\u001b[1;32m    561\u001b[0m \u001b[0;34m\u001b[0m\u001b[0m\n\u001b[0;32m--> 562\u001b[0;31m         \u001b[0;32mreturn\u001b[0m \u001b[0m_read\u001b[0m\u001b[0;34m(\u001b[0m\u001b[0mfilepath_or_buffer\u001b[0m\u001b[0;34m,\u001b[0m \u001b[0mkwds\u001b[0m\u001b[0;34m)\u001b[0m\u001b[0;34m\u001b[0m\u001b[0m\n\u001b[0m\u001b[1;32m    563\u001b[0m \u001b[0;34m\u001b[0m\u001b[0m\n\u001b[1;32m    564\u001b[0m     \u001b[0mparser_f\u001b[0m\u001b[0;34m.\u001b[0m\u001b[0m__name__\u001b[0m \u001b[0;34m=\u001b[0m \u001b[0mname\u001b[0m\u001b[0;34m\u001b[0m\u001b[0m\n",
      "\u001b[0;32m/usr/local/lib/python2.7/site-packages/pandas/io/parsers.pyc\u001b[0m in \u001b[0;36m_read\u001b[0;34m(filepath_or_buffer, kwds)\u001b[0m\n\u001b[1;32m    313\u001b[0m \u001b[0;34m\u001b[0m\u001b[0m\n\u001b[1;32m    314\u001b[0m     \u001b[0;31m# Create the parser.\u001b[0m\u001b[0;34m\u001b[0m\u001b[0;34m\u001b[0m\u001b[0m\n\u001b[0;32m--> 315\u001b[0;31m     \u001b[0mparser\u001b[0m \u001b[0;34m=\u001b[0m \u001b[0mTextFileReader\u001b[0m\u001b[0;34m(\u001b[0m\u001b[0mfilepath_or_buffer\u001b[0m\u001b[0;34m,\u001b[0m \u001b[0;34m**\u001b[0m\u001b[0mkwds\u001b[0m\u001b[0;34m)\u001b[0m\u001b[0;34m\u001b[0m\u001b[0m\n\u001b[0m\u001b[1;32m    316\u001b[0m \u001b[0;34m\u001b[0m\u001b[0m\n\u001b[1;32m    317\u001b[0m     \u001b[0;32mif\u001b[0m \u001b[0;34m(\u001b[0m\u001b[0mnrows\u001b[0m \u001b[0;32mis\u001b[0m \u001b[0;32mnot\u001b[0m \u001b[0mNone\u001b[0m\u001b[0;34m)\u001b[0m \u001b[0;32mand\u001b[0m \u001b[0;34m(\u001b[0m\u001b[0mchunksize\u001b[0m \u001b[0;32mis\u001b[0m \u001b[0;32mnot\u001b[0m \u001b[0mNone\u001b[0m\u001b[0;34m)\u001b[0m\u001b[0;34m:\u001b[0m\u001b[0;34m\u001b[0m\u001b[0m\n",
      "\u001b[0;32m/usr/local/lib/python2.7/site-packages/pandas/io/parsers.pyc\u001b[0m in \u001b[0;36m__init__\u001b[0;34m(self, f, engine, **kwds)\u001b[0m\n\u001b[1;32m    643\u001b[0m             \u001b[0mself\u001b[0m\u001b[0;34m.\u001b[0m\u001b[0moptions\u001b[0m\u001b[0;34m[\u001b[0m\u001b[0;34m'has_index_names'\u001b[0m\u001b[0;34m]\u001b[0m \u001b[0;34m=\u001b[0m \u001b[0mkwds\u001b[0m\u001b[0;34m[\u001b[0m\u001b[0;34m'has_index_names'\u001b[0m\u001b[0;34m]\u001b[0m\u001b[0;34m\u001b[0m\u001b[0m\n\u001b[1;32m    644\u001b[0m \u001b[0;34m\u001b[0m\u001b[0m\n\u001b[0;32m--> 645\u001b[0;31m         \u001b[0mself\u001b[0m\u001b[0;34m.\u001b[0m\u001b[0m_make_engine\u001b[0m\u001b[0;34m(\u001b[0m\u001b[0mself\u001b[0m\u001b[0;34m.\u001b[0m\u001b[0mengine\u001b[0m\u001b[0;34m)\u001b[0m\u001b[0;34m\u001b[0m\u001b[0m\n\u001b[0m\u001b[1;32m    646\u001b[0m \u001b[0;34m\u001b[0m\u001b[0m\n\u001b[1;32m    647\u001b[0m     \u001b[0;32mdef\u001b[0m \u001b[0mclose\u001b[0m\u001b[0;34m(\u001b[0m\u001b[0mself\u001b[0m\u001b[0;34m)\u001b[0m\u001b[0;34m:\u001b[0m\u001b[0;34m\u001b[0m\u001b[0m\n",
      "\u001b[0;32m/usr/local/lib/python2.7/site-packages/pandas/io/parsers.pyc\u001b[0m in \u001b[0;36m_make_engine\u001b[0;34m(self, engine)\u001b[0m\n\u001b[1;32m    797\u001b[0m     \u001b[0;32mdef\u001b[0m \u001b[0m_make_engine\u001b[0m\u001b[0;34m(\u001b[0m\u001b[0mself\u001b[0m\u001b[0;34m,\u001b[0m \u001b[0mengine\u001b[0m\u001b[0;34m=\u001b[0m\u001b[0;34m'c'\u001b[0m\u001b[0;34m)\u001b[0m\u001b[0;34m:\u001b[0m\u001b[0;34m\u001b[0m\u001b[0m\n\u001b[1;32m    798\u001b[0m         \u001b[0;32mif\u001b[0m \u001b[0mengine\u001b[0m \u001b[0;34m==\u001b[0m \u001b[0;34m'c'\u001b[0m\u001b[0;34m:\u001b[0m\u001b[0;34m\u001b[0m\u001b[0m\n\u001b[0;32m--> 799\u001b[0;31m             \u001b[0mself\u001b[0m\u001b[0;34m.\u001b[0m\u001b[0m_engine\u001b[0m \u001b[0;34m=\u001b[0m \u001b[0mCParserWrapper\u001b[0m\u001b[0;34m(\u001b[0m\u001b[0mself\u001b[0m\u001b[0;34m.\u001b[0m\u001b[0mf\u001b[0m\u001b[0;34m,\u001b[0m \u001b[0;34m**\u001b[0m\u001b[0mself\u001b[0m\u001b[0;34m.\u001b[0m\u001b[0moptions\u001b[0m\u001b[0;34m)\u001b[0m\u001b[0;34m\u001b[0m\u001b[0m\n\u001b[0m\u001b[1;32m    800\u001b[0m         \u001b[0;32melse\u001b[0m\u001b[0;34m:\u001b[0m\u001b[0;34m\u001b[0m\u001b[0m\n\u001b[1;32m    801\u001b[0m             \u001b[0;32mif\u001b[0m \u001b[0mengine\u001b[0m \u001b[0;34m==\u001b[0m \u001b[0;34m'python'\u001b[0m\u001b[0;34m:\u001b[0m\u001b[0;34m\u001b[0m\u001b[0m\n",
      "\u001b[0;32m/usr/local/lib/python2.7/site-packages/pandas/io/parsers.pyc\u001b[0m in \u001b[0;36m__init__\u001b[0;34m(self, src, **kwds)\u001b[0m\n\u001b[1;32m   1211\u001b[0m         \u001b[0mkwds\u001b[0m\u001b[0;34m[\u001b[0m\u001b[0;34m'allow_leading_cols'\u001b[0m\u001b[0;34m]\u001b[0m \u001b[0;34m=\u001b[0m \u001b[0mself\u001b[0m\u001b[0;34m.\u001b[0m\u001b[0mindex_col\u001b[0m \u001b[0;32mis\u001b[0m \u001b[0;32mnot\u001b[0m \u001b[0mFalse\u001b[0m\u001b[0;34m\u001b[0m\u001b[0m\n\u001b[1;32m   1212\u001b[0m \u001b[0;34m\u001b[0m\u001b[0m\n\u001b[0;32m-> 1213\u001b[0;31m         \u001b[0mself\u001b[0m\u001b[0;34m.\u001b[0m\u001b[0m_reader\u001b[0m \u001b[0;34m=\u001b[0m \u001b[0m_parser\u001b[0m\u001b[0;34m.\u001b[0m\u001b[0mTextReader\u001b[0m\u001b[0;34m(\u001b[0m\u001b[0msrc\u001b[0m\u001b[0;34m,\u001b[0m \u001b[0;34m**\u001b[0m\u001b[0mkwds\u001b[0m\u001b[0;34m)\u001b[0m\u001b[0;34m\u001b[0m\u001b[0m\n\u001b[0m\u001b[1;32m   1214\u001b[0m \u001b[0;34m\u001b[0m\u001b[0m\n\u001b[1;32m   1215\u001b[0m         \u001b[0;31m# XXX\u001b[0m\u001b[0;34m\u001b[0m\u001b[0;34m\u001b[0m\u001b[0m\n",
      "\u001b[0;32mpandas/parser.pyx\u001b[0m in \u001b[0;36mpandas.parser.TextReader.__cinit__ (pandas/parser.c:3427)\u001b[0;34m()\u001b[0m\n",
      "\u001b[0;32mpandas/parser.pyx\u001b[0m in \u001b[0;36mpandas.parser.TextReader._setup_parser_source (pandas/parser.c:6861)\u001b[0;34m()\u001b[0m\n",
      "\u001b[0;31mIOError\u001b[0m: File Wait_Time/Pending_Clean/14_12_01_Wait_Pending.csv does not exist"
     ]
    }
   ],
   "source": [
    "# A function to format \n",
    "def make_df(Type,Time,File):\n",
    "    Title = \"{}_{}\".format(Type,Time)\n",
    "    csv = pd.read_csv(File,\n",
    "                               usecols=[0,1,5,24,25,26],\n",
    "                               skiprows=[0], #skipping the original header\n",
    "                               names=[\"Location\",\"Appts_{}\".format(Title),\n",
    "                                      \"%_Appts_Over_30_{}\".format(Title),\n",
    "                                      \"PC_Wait_{}\".format(Title),\n",
    "                                      \"SC_Wait_{}\".format(Title),\"MH_Wait_{}\".format(Title)])\n",
    "    csv[\"Station\"] = csv[\"Location\"].apply(get_station)\n",
    "    return csv\n",
    "Pending_1412 = make_df(\"Pending\",\"1412\",\"Wait_Time/Pending_Clean/14_12_01_Wait_Pending.csv\")\n",
    "Pending_1412.head()"
   ]
  },
  {
   "cell_type": "markdown",
   "metadata": {},
   "source": [
    "# Staff Size"
   ]
  },
  {
   "cell_type": "code",
   "execution_count": null,
   "metadata": {
    "collapsed": false
   },
   "outputs": [],
   "source": [
    "staff = pd.read_csv(\"Staff_Size/Onboard_By_statyion_By_FY.csv\")\n",
    "staff = staff.drop(0).drop(1) # dropping first and second lines because these don't refer to actual stations.\n",
    "staff[\"Station\"] = staff[\"ORGANIZATION\"].apply(get_station)\n",
    "staff.head()\n",
    "#staff"
   ]
  },
  {
   "cell_type": "markdown",
   "metadata": {},
   "source": [
    "### Trying To Consolidate Staff And Pending"
   ]
  },
  {
   "cell_type": "code",
   "execution_count": null,
   "metadata": {
    "collapsed": false
   },
   "outputs": [],
   "source": [
    "#Grabbing all stations in pending that have duplicates\n",
    "multiple_pending_series = Pending_1412[\"Station\"].value_counts()\n",
    "multiple_pending_dataframe = multiple_pending_series.to_frame()\n",
    "multiple_pending_list = multiple_pending_dataframe[multiple_pending_dataframe[\"Station\"] > 1].index.tolist()\n",
    "\n",
    "pending_unique = pd.DataFrame()\n",
    "for item in multiple_pending_list:\n",
    "    new = Pending_1412[Pending_1412[\"Station\"]==item]\n",
    "    pending_unique = pending_unique.append(new)\n",
    "    \n",
    "    \n",
    "#grabbing all in staff that aren't in pending...  \n",
    "in_staff_not_pending = [x for x in staff[\"Station\"].tolist() if x not in Pending_1412[\"Station\"].tolist()]\n",
    "staff_unique = pd.DataFrame()\n",
    "for item in in_staff_not_pending:\n",
    "    new = staff[staff[\"Station\"]==item]\n",
    "    staff_unique = staff_unique.append(new)\n",
    "    \n",
    "# ...and including that in a dataframe with the uniques from \n",
    "for item in multiple_pending_list:\n",
    "    new = staff[staff[\"Station\"]==item]\n",
    "    staff_unique = staff_unique.append(new)\n",
    "\n"
   ]
  },
  {
   "cell_type": "markdown",
   "metadata": {},
   "source": [
    "#### Cleaning\n",
    "Identified areas that need to be clean and stations that match. At this point I'm going to try and generate unique IDs and then I'm going to bring in other data to join. \n",
    "\n",
    "Many of the locations in station in the hiring csv don't match the wait time csv. \n"
   ]
  },
  {
   "cell_type": "code",
   "execution_count": null,
   "metadata": {
    "collapsed": false
   },
   "outputs": [],
   "source": [
    "# identified these as not stations, but facilities. Dropping from dataframe. \n",
    "to_drop = [18,29,50,59,66,77,87,96,105,114,123,144,152]\n",
    "for index in to_drop:\n",
    "    Pending_1412 = Pending_1412.drop(index)\n",
    "\n"
   ]
  },
  {
   "cell_type": "markdown",
   "metadata": {},
   "source": [
    "### Generating Unique IDs"
   ]
  },
  {
   "cell_type": "code",
   "execution_count": null,
   "metadata": {
    "collapsed": false
   },
   "outputs": [],
   "source": [
    "IDs = []\n",
    "query = r\"^\\((V\\d\\d)\\) \\((\\d\\d\\d)\\) (.{2})\"\n",
    "#m = re.search(query, test)\n",
    "#m.group(3)\n",
    "\n",
    "\n",
    "\n",
    "for index, row in Pending_1412.iterrows():\n",
    "    if row[\"Station\"] not in IDs:\n",
    "        m = re.search(query, row[\"Location\"])\n",
    "        loc = m.group(3).lower()\n",
    "        IDs.append(row[\"Station\"])\n",
    "\n",
    "    else:\n",
    "        m = re.search(query, row[\"Location\"])\n",
    "        loc = m.group(3).lower()\n",
    "        IDs.append(row[\"Station\"]+loc)\n",
    "Pending_1412[\"ID\"] = IDs\n",
    "Pending_1412.head()"
   ]
  },
  {
   "cell_type": "code",
   "execution_count": null,
   "metadata": {
    "collapsed": false
   },
   "outputs": [],
   "source": [
    "#manually changing some IDs in staff based on shared location\n",
    "staff[\"ID\"] = staff[\"Station\"]\n",
    "staff[\"ID\"][11] = \"528\"\n",
    "staff[\"ID\"][92] = \"657st\"\n",
    "staff[\"ID\"][12] = \"528bu\"\n",
    "staff.head()"
   ]
  },
  {
   "cell_type": "code",
   "execution_count": null,
   "metadata": {
    "collapsed": false
   },
   "outputs": [],
   "source": [
    "master = Pending_1412.merge(staff, on=\"ID\", how=\"left\")\n",
    "master[\"Station\"] = master[\"Station_x\"]\n",
    "master= master.drop(\"Station_x\",1).drop(\"Station_y\",1)\n",
    "print master.columns"
   ]
  },
  {
   "cell_type": "markdown",
   "metadata": {},
   "source": [
    "#### So what was the result of our merge?"
   ]
  },
  {
   "cell_type": "code",
   "execution_count": null,
   "metadata": {
    "collapsed": false
   },
   "outputs": [],
   "source": [
    "def check_len(master):\n",
    "    check = len(master) - 141\n",
    "    if check == 0:\n",
    "        print \"Hurray! We didn't lose any rows.\"\n",
    "    if check < 0:\n",
    "        print \"Uh oh. We lost {} rows!\".format(str(abs(check)))\n",
    "    if check > 0:\n",
    "        print \"we somehow...gained {} row? Well that's not right.\".format(str(abs(check)))\n",
    "check_len(master)"
   ]
  },
  {
   "cell_type": "markdown",
   "metadata": {},
   "source": [
    "Great! Now I'm going to redefine ID so that it better matches with future dataframes."
   ]
  },
  {
   "cell_type": "code",
   "execution_count": null,
   "metadata": {
    "collapsed": false
   },
   "outputs": [],
   "source": [
    "ID = []\n",
    "query = r\"^\\((V\\d\\d)\\) \\((\\d\\d\\d)\\) (.{2})\"\n",
    "\n",
    "for index, row in master.iterrows():\n",
    "    m = re.search(query, row[\"Location\"])\n",
    "    loc = m.group(3).lower()\n",
    "    ID.append(row[\"Station\"]+loc)\n",
    "\n",
    "master[\"ID\"] = ID\n",
    "master[\"ID\"][72] = \"537je\" # edge case\n",
    "master.head()\n",
    "\n"
   ]
  },
  {
   "cell_type": "markdown",
   "metadata": {},
   "source": [
    "## Bringing in Pending 2016"
   ]
  },
  {
   "cell_type": "code",
   "execution_count": null,
   "metadata": {
    "collapsed": false
   },
   "outputs": [],
   "source": [
    "#functions to format 2016 \n",
    "def get_station(new_string):\n",
    "    try:\n",
    "        query = r\"^\\((V\\d\\d)\\) \\(([0-9,A-Z]{3,5})\"\n",
    "        m = re.search(query, new_string)\n",
    "        return m.group(2).upper()\n",
    "    except:\n",
    "        None\n",
    "        \n",
    "staff[\"Station\"] = staff[\"ORGANIZATION\"].apply(get_station)\n",
    "\n",
    "\n",
    "\n",
    "\n",
    "def make_df_2016(Type,Time,File):\n",
    "    Title = \"{}_{}\".format(Type,Time)\n",
    "    csv = pd.read_csv(File,\n",
    "                               usecols=[0,1,5,20,21,22],\n",
    "                               skiprows=[0], #skipping the original header\n",
    "                               names=[\"Location\",\"Appts_{}\".format(Title),\n",
    "                                      \"%_Appts_Over_30_{}\".format(Title),\n",
    "                                      \"PC_Wait_{}\".format(Title),\n",
    "                                      \"SC_Wait_{}\".format(Title),\"MH_Wait_{}\".format(Title)])\n",
    "    csv[\"Station\"] = csv[\"Location\"].apply(get_station)\n",
    "    return csv\n",
    "Pending_1610 = make_df_2016(\"Pending\",\"1610\",\"Wait_Time/Pending_Clean/16_10_01_Wait_Pending.csv\")\n",
    "#Pending_1610 = Pending_1610.drop(297).drop(369) # edge case causing issues, not a station anyway"
   ]
  },
  {
   "cell_type": "code",
   "execution_count": null,
   "metadata": {
    "collapsed": false
   },
   "outputs": [],
   "source": [
    "def generate_IDs(df):\n",
    "    ID = []\n",
    "    for index, row in df.iterrows():\n",
    "        #print index\n",
    "        if len(row[\"Station\"]) > 3:\n",
    "            #print row[\"Station\"]\n",
    "            ID.append(None)\n",
    "        else:\n",
    "            try:\n",
    "                #print index\n",
    "                #print \"entering else\"\n",
    "                #print \"This is the location: \"+row[\"Location\"]\n",
    "                query = r\"^\\((V\\d\\d)\\) \\((\\d\\d\\d)\\) (.{2})\"\n",
    "                m = re.search(query, row[\"Location\"].upper())\n",
    "                new_ID = row[\"Station\"]+m.group(3).lower()\n",
    "                if new_ID not in ID:\n",
    "                    ID.append(new_ID)\n",
    "                else:\n",
    "                    ID.append(None)\n",
    "                #print m.group(3).upper()\n",
    "            except AttributeError:\n",
    "                #print \"AttributeError\"\n",
    "                ID.append(None)\n",
    "    return ID\n",
    "ID = generate_IDs(Pending_1610)\n",
    "Pending_1610[\"ID\"] = ID"
   ]
  },
  {
   "cell_type": "code",
   "execution_count": null,
   "metadata": {
    "collapsed": false
   },
   "outputs": [],
   "source": [
    "Pending_1610 = Pending_1610.dropna(subset = [\"ID\"])\n",
    "master = master.merge(Pending_1610,on=\"ID\")\n",
    "print master.columns\n",
    "master[\"Station\"] = master[\"Station_x\"]\n",
    "master[\"Location\"] = master[\"Location_x\"]\n",
    "master= master.drop(\"Station_x\",1).drop(\"Station_y\",1).drop(\"Location_y\",1).drop(\"Location_x\",1)\n",
    "master.head()"
   ]
  },
  {
   "cell_type": "code",
   "execution_count": null,
   "metadata": {
    "collapsed": false
   },
   "outputs": [],
   "source": [
    "check_len(master)"
   ]
  },
  {
   "cell_type": "markdown",
   "metadata": {},
   "source": [
    "## Bringing in Complete 2016"
   ]
  },
  {
   "cell_type": "code",
   "execution_count": null,
   "metadata": {
    "collapsed": false
   },
   "outputs": [],
   "source": [
    "def get_station(new_string):\n",
    "    try:\n",
    "        query = r\"^\\((V\\d\\d)\\) \\(([0-9,A-Z]{3,5})\"\n",
    "        m = re.search(query, new_string)\n",
    "        return m.group(2).upper()\n",
    "    except:\n",
    "        None\n",
    "        \n",
    "staff[\"Station\"] = staff[\"ORGANIZATION\"].apply(get_station)\n",
    "\n",
    "\n",
    "\n",
    "\n",
    "def make_df_2016(Type,Time,File):\n",
    "    Title = \"{}_{}\".format(Type,Time)\n",
    "    csv = pd.read_csv(File,\n",
    "                               usecols=[0,1,5,13,14,15],\n",
    "                               skiprows=[0], #skipping the original header\n",
    "                               names=[\"Location\",\"Appts_{}\".format(Title),\n",
    "                                      \"%_Appts_Over_30_{}\".format(Title),\n",
    "                                      \"PC_Wait_{}\".format(Title),\n",
    "                                      \"SC_Wait_{}\".format(Title),\"MH_Wait_{}\".format(Title)])\n",
    "    csv[\"Station\"] = csv[\"Location\"].apply(get_station)\n",
    "    return csv\n",
    "Complete_1608 = make_df_2016(\"Complete\",\"1608\",\"Wait_Time/Completed_Cleaned/16_08_31_Wait_Complete.csv\")\n",
    "Complete_1608.head()"
   ]
  },
  {
   "cell_type": "code",
   "execution_count": null,
   "metadata": {
    "collapsed": false
   },
   "outputs": [],
   "source": [
    "len(Complete_1608)"
   ]
  },
  {
   "cell_type": "code",
   "execution_count": null,
   "metadata": {
    "collapsed": false
   },
   "outputs": [],
   "source": [
    "ID = generate_IDs(Complete_1608)\n",
    "Complete_1608[\"ID\"] = ID\n",
    "Complete_1608 = Complete_1608.dropna(subset = [\"ID\"])\n",
    "master = master.merge(Complete_1608,on=\"ID\")\n",
    "master[\"Station\"] = master[\"Station_x\"]\n",
    "master[\"Location\"] = master[\"Location_x\"]\n",
    "master= master.drop(\"Station_x\",1).drop(\"Station_y\",1).drop(\"Location_y\",1).drop(\"Location_x\",1)"
   ]
  },
  {
   "cell_type": "code",
   "execution_count": null,
   "metadata": {
    "collapsed": false
   },
   "outputs": [],
   "source": [
    "master.columns"
   ]
  },
  {
   "cell_type": "code",
   "execution_count": null,
   "metadata": {
    "collapsed": false
   },
   "outputs": [],
   "source": [
    "check_len(master)"
   ]
  },
  {
   "cell_type": "code",
   "execution_count": null,
   "metadata": {
    "collapsed": false
   },
   "outputs": [],
   "source": [
    "# Reference for duplicates I need to check out. \n",
    "master[master.duplicated(subset=\"Station\", keep=False)][[\"Location\",\"Station\",\"ID\"]]"
   ]
  },
  {
   "cell_type": "markdown",
   "metadata": {},
   "source": [
    "# Bring in November Complete 2016"
   ]
  },
  {
   "cell_type": "code",
   "execution_count": null,
   "metadata": {
    "collapsed": false
   },
   "outputs": [],
   "source": [
    "def get_station(new_string):\n",
    "    try:\n",
    "        query = r\"^\\((V\\d\\d)\\) \\(([0-9,A-Z]{3,5})\"\n",
    "        m = re.search(query, new_string)\n",
    "        return m.group(2).upper()\n",
    "    except:\n",
    "        None\n",
    "        \n",
    "staff[\"Station\"] = staff[\"ORGANIZATION\"].apply(get_station)\n",
    "\n",
    "\n",
    "\n",
    "\n",
    "def make_df_2016(Type,Time,File):\n",
    "    Title = \"{}_{}\".format(Type,Time)\n",
    "    csv = pd.read_csv(File,\n",
    "                               usecols=[0,1,5,13,14,15],\n",
    "                               skiprows=[0], #skipping the original header\n",
    "                               names=[\"Location\",\"Appts_{}\".format(Title),\n",
    "                                      \"%_Appts_Over_30_{}\".format(Title),\n",
    "                                      \"PC_Wait_{}\".format(Title),\n",
    "                                      \"SC_Wait_{}\".format(Title),\"MH_Wait_{}\".format(Title)])\n",
    "    csv[\"Station\"] = csv[\"Location\"].apply(get_station)\n",
    "    return csv\n",
    "\n",
    "# Complete_1611 = make_df_2016(\"Complete\",\"1611\",\"Wait_Time/Completed_Cleaned/16_11_Wait.csv\")\n",
    "\n",
    "# ID = generate_IDs(Complete_1611)\n",
    "# Complete_1611[\"ID\"] = ID\n",
    "# Complete_1611 = Complete_1611.dropna(subset = [\"ID\"])\n",
    "# master = master.merge(Complete_1611,on=\"ID\",how='left')\n",
    "# master[\"Station\"] = master[\"Station_x\"]\n",
    "# master[\"Location\"] = master[\"Location_x\"]\n",
    "# master= master.drop(\"Station_x\",1).drop(\"Station_y\",1).drop(\"Location_y\",1).drop(\"Location_x\",1)\n"
   ]
  },
  {
   "cell_type": "markdown",
   "metadata": {},
   "source": [
    "# Bring In November Pending 2016"
   ]
  },
  {
   "cell_type": "code",
   "execution_count": null,
   "metadata": {
    "collapsed": true
   },
   "outputs": [],
   "source": []
  },
  {
   "cell_type": "code",
   "execution_count": null,
   "metadata": {
    "collapsed": true
   },
   "outputs": [],
   "source": []
  },
  {
   "cell_type": "markdown",
   "metadata": {},
   "source": [
    "## Bring in Hiring\n",
    "\n",
    "I'm going to have an issue dealing with the stations with the same ID. \n",
    "\n",
    "I made a new CSV called Hiring_Clean where I put the appropriate ID in a new ID column. I put ignore for those that were impossible to join accurately. "
   ]
  },
  {
   "cell_type": "code",
   "execution_count": null,
   "metadata": {
    "collapsed": false
   },
   "outputs": [],
   "source": [
    "master.columns"
   ]
  },
  {
   "cell_type": "code",
   "execution_count": null,
   "metadata": {
    "collapsed": false
   },
   "outputs": [],
   "source": [
    "#Hiring = pd.read_csv(\"Hiring/Hiring_Clean.csv\")\n",
    "#Hiring = Hiring[Hiring[\"ID\"]!= \"Ignore\"] \n",
    "#Hiring_summed = pd.pivot_table(Hiring,index=[\"Station\"],values=[\"NbrEmps\"],aggfunc=np.sum).reset_index()\n",
    "#Hiring_summed = Hiring_summed.rename(columns = {\"NbrEmps\":\"Choice_Hires\"})"
   ]
  },
  {
   "cell_type": "code",
   "execution_count": null,
   "metadata": {
    "collapsed": true
   },
   "outputs": [],
   "source": [
    "#Hiring = pd.read_csv(\"Hiring/Hiring_Clean.csv\")\n",
    "Hiring = pd.read_csv(\"Hiring/Hiring_Clean_All_Positions.csv\")\n",
    "for_dups = []\n",
    "for index, row in Hiring.iterrows():\n",
    "    if type(row[\"ID\"]) == str:\n",
    "        for_dups.append(row[\"ID\"])\n",
    "    else:\n",
    "        for_dups.append(row[\"Station\"])\n",
    "Hiring[\"for_dups\"] = for_dups\n",
    "Hiring_summed = pd.pivot_table(Hiring,index=[\"for_dups\"],values=[\"NbrEmps\"],aggfunc=np.sum).reset_index()\n",
    "Hiring_summed = Hiring_summed.rename(columns = {\"NbrEmps\":\"Choice_Hires\"})\n",
    "\n",
    "\n",
    "dup_list = master[master.duplicated(subset=\"Station\",keep=False)][\"ID\"].tolist()\n",
    "dup_list.append(\"612n.\")\n",
    "dup_list.append(\"537je\")\n",
    "\n",
    "for_dups = []\n",
    "for index, row in master.iterrows():\n",
    "    if row[\"ID\"] in dup_list:\n",
    "        for_dups.append(row[\"ID\"])\n",
    "    else:\n",
    "        for_dups.append(row[\"Station\"])\n",
    "master[\"for_dups\"] = for_dups"
   ]
  },
  {
   "cell_type": "code",
   "execution_count": null,
   "metadata": {
    "collapsed": false
   },
   "outputs": [],
   "source": [
    "master.columns"
   ]
  },
  {
   "cell_type": "code",
   "execution_count": null,
   "metadata": {
    "collapsed": false
   },
   "outputs": [],
   "source": [
    "master = master.merge(Hiring_summed, on=\"for_dups\", how=\"left\")\n",
    "master.head()"
   ]
  },
  {
   "cell_type": "code",
   "execution_count": null,
   "metadata": {
    "collapsed": false
   },
   "outputs": [],
   "source": [
    "check_len(master)"
   ]
  },
  {
   "cell_type": "markdown",
   "metadata": {},
   "source": [
    "## Bring in Leadership\n",
    "\n",
    "Also creating a version of the CSV to deal with duplicate stations."
   ]
  },
  {
   "cell_type": "code",
   "execution_count": null,
   "metadata": {
    "collapsed": false
   },
   "outputs": [],
   "source": [
    "Leadership = pd.read_csv(\"Leadership/Leadership_cleaned.csv\")\n",
    "Leadership = Leadership[Leadership[\"ID\"] != \"Ignore\"]\n",
    "Leadership[\"Vacancy\"] = Leadership[\"Acting/Detailed\"] == \"VACANT\"\n",
    "Leadership[\"Interim\"] = Leadership[\"Acting/Detailed\"] != \"VACANT\"\n",
    "\n",
    "\n",
    "# For easy merging\n",
    "\n",
    "\n",
    "for_dups = []\n",
    "for index, row in Leadership.iterrows():\n",
    "    if type(row[\"ID\"]) == str:\n",
    "        for_dups.append(row[\"ID\"])\n",
    "    else:\n",
    "        for_dups.append(row[\"Station\"])\n",
    "Leadership[\"for_dups\"] = for_dups\n",
    "\n",
    "Leadership_summed = pd.pivot_table(Leadership, index=[\"for_dups\"],values=[\"Vacancy\",\"Interim\"],aggfunc=np.sum).reset_index()\n",
    "#Leadership_summed = Leadership_summed.merge(Leadership[[\"Station\",\"ID\"]], on=\"Station\")\n",
    "\n",
    "\n",
    "\n",
    "\n",
    "\n",
    "\n",
    "\n",
    "\n",
    "\n",
    "\n"
   ]
  },
  {
   "cell_type": "code",
   "execution_count": null,
   "metadata": {
    "collapsed": false
   },
   "outputs": [],
   "source": [
    "master = master.merge(Leadership_summed, on=\"for_dups\", how=\"left\")\n",
    "master[\"Interim\"] = master[\"Interim\"].fillna(0)\n",
    "master[\"Vacancy\"] = master[\"Vacancy\"].fillna(0)"
   ]
  },
  {
   "cell_type": "code",
   "execution_count": null,
   "metadata": {
    "collapsed": false
   },
   "outputs": [],
   "source": [
    "check_len(master)"
   ]
  },
  {
   "cell_type": "code",
   "execution_count": null,
   "metadata": {
    "collapsed": false
   },
   "outputs": [],
   "source": [
    "master.head()"
   ]
  },
  {
   "cell_type": "code",
   "execution_count": null,
   "metadata": {
    "collapsed": false
   },
   "outputs": [],
   "source": [
    "master.columns"
   ]
  },
  {
   "cell_type": "markdown",
   "metadata": {
    "collapsed": true
   },
   "source": [
    "## Bringing in Completed 2014"
   ]
  },
  {
   "cell_type": "code",
   "execution_count": null,
   "metadata": {
    "collapsed": false,
    "scrolled": true
   },
   "outputs": [],
   "source": [
    "pd.read_csv(\"Wait_Time/Completed_Cleaned/14_09_30_Wait_Complete.csv\").head()"
   ]
  },
  {
   "cell_type": "code",
   "execution_count": null,
   "metadata": {
    "collapsed": false
   },
   "outputs": [],
   "source": [
    "def make_df_complete_2014(Type,Time,File):\n",
    "    Title = \"{}_{}\".format(Type,Time)\n",
    "    csv = pd.read_csv(File,\n",
    "                               usecols=[0,1,5,12,13,14],\n",
    "                               skiprows=[0], #skipping the original header\n",
    "                               names=[\"Location\",\"Appts_{}\".format(Title),\n",
    "                                      \"%_Appts_Over_30_{}\".format(Title),\n",
    "                                      \"PC_Wait_{}\".format(Title),\n",
    "                                      \"SC_Wait_{}\".format(Title),\"MH_Wait_{}\".format(Title)])\n",
    "    csv[\"Station\"] = csv[\"Location\"].apply(get_station)\n",
    "    return csv\n",
    "Complete_1409 = make_df_complete_2014(\"Complete\",\"1409\",\"Wait_Time/Completed_Cleaned/14_09_30_Wait_Complete.csv\")\n",
    "Complete_1409[\"ID\"] = generate_IDs(Complete_1409)\n",
    "Complete_1409"
   ]
  },
  {
   "cell_type": "code",
   "execution_count": null,
   "metadata": {
    "collapsed": false
   },
   "outputs": [],
   "source": [
    "for_dups = []\n",
    "for index, row in Complete_1409.iterrows():\n",
    "    if row[\"ID\"] in dup_list:\n",
    "        for_dups.append(row[\"ID\"])\n",
    "    else:\n",
    "        for_dups.append(row[\"Station\"])\n",
    "Complete_1409[\"for_dups\"] = for_dups"
   ]
  },
  {
   "cell_type": "code",
   "execution_count": null,
   "metadata": {
    "collapsed": false,
    "scrolled": true
   },
   "outputs": [],
   "source": [
    "columns_to_use = Complete_1409.columns.difference(master.columns).tolist()\n",
    "columns_to_use.append(\"for_dups\")\n",
    "\n",
    "master = master.merge(Complete_1409[columns_to_use], on=\"for_dups\", how=\"left\")\n",
    "master.columns\n",
    "\n",
    "\n",
    "\n",
    "\n"
   ]
  },
  {
   "cell_type": "code",
   "execution_count": null,
   "metadata": {
    "collapsed": false
   },
   "outputs": [],
   "source": [
    "master.head()"
   ]
  },
  {
   "cell_type": "code",
   "execution_count": null,
   "metadata": {
    "collapsed": false
   },
   "outputs": [],
   "source": [
    "check_len(master)    "
   ]
  },
  {
   "cell_type": "markdown",
   "metadata": {},
   "source": [
    "# Turnover"
   ]
  },
  {
   "cell_type": "code",
   "execution_count": null,
   "metadata": {
    "collapsed": false
   },
   "outputs": [],
   "source": [
    "turnover = pd.read_csv(\"Turnover/Turnover_Physician.csv\",na_values=\"-\")\n",
    "# to drop national numbers and visn\n",
    "turnover = turnover[turnover[\"Organization\"].str.len() > 5]\n",
    "\n",
    "turnover[\"Station\"]= turnover[\"Organization\"].apply(get_station)\n",
    "\n",
    "for_dups = []\n",
    "for index, row in turnover.iterrows():\n",
    "    if type(row[\"ID\"]) == str:\n",
    "        for_dups.append(row[\"ID\"])\n",
    "    else:\n",
    "        for_dups.append(row[\"Station\"])\n",
    "turnover[\"for_dups\"] = for_dups\n",
    "\n",
    "\n",
    "turnover.head()"
   ]
  },
  {
   "cell_type": "markdown",
   "metadata": {},
   "source": [
    "### Not merging in all of turnover\n",
    "\n",
    "To do this would create a massive number of columns. Instead, it makes more sense to merge filtered versions in on a case by case basis.\n",
    "\n",
    "But...it does make sense to merge in specialty "
   ]
  },
  {
   "cell_type": "code",
   "execution_count": null,
   "metadata": {
    "collapsed": true
   },
   "outputs": [],
   "source": [
    "turnover.to_csv(\"turnover/Turnover_Physician_For_Merging.csv\")"
   ]
  },
  {
   "cell_type": "code",
   "execution_count": null,
   "metadata": {
    "collapsed": false
   },
   "outputs": [],
   "source": [
    "\n",
    "physician_turnover = pd.read_csv(\"Turnover/Turnover_Physician_For_Merging.csv\",na_values=\"-\",\n",
    "                           usecols=[2,3,4,5,6,7,10],\n",
    "                           skiprows=[0], #skipping the original header\n",
    "                           names=[\"Specialty\",\"Physician_Turnover_FY11\",\"Physician_Turnover_FY12\",\n",
    "                                  \"Physician_Turnover_FY13\",\"Physician_Turnover_FY14\",\"Physician_Turnover_FY15\",\n",
    "                                  \"for_dups\"])\n",
    "physician_turnover = physician_turnover[physician_turnover[\"Specialty\"]==\"0602 Physician (All Specialties)\"].drop(\"Specialty\",1)\n",
    "master = master.merge(physician_turnover,on=\"for_dups\",how=\"left\")"
   ]
  },
  {
   "cell_type": "markdown",
   "metadata": {},
   "source": [
    "# Looking at pyschiatrists"
   ]
  },
  {
   "cell_type": "code",
   "execution_count": null,
   "metadata": {
    "collapsed": false
   },
   "outputs": [],
   "source": [
    "psychiatrists_hiring = pd.read_csv(\"Hiring/Hiring_Psychiatrist.csv\")\n",
    "psychiatrists_hiring\n",
    "for_dups = []\n",
    "for index, row in psychiatrists_hiring.iterrows():\n",
    "    if type(row[\"ID\"]) == str:\n",
    "        for_dups.append(row[\"ID\"])\n",
    "    else:\n",
    "        for_dups.append(row[\"Station\"])\n",
    "psychiatrists_hiring[\"for_dups\"] = for_dups\n",
    "psychiatrists_hiring[\"NbrPsychiatrists\"] = psychiatrists_hiring[\"NbrEmps\"]\n",
    "\n",
    "master = master.merge(psychiatrists_hiring[[\"NbrPsychiatrists\",\"for_dups\"]], on=\"for_dups\", how=\"left\")\n"
   ]
  },
  {
   "cell_type": "markdown",
   "metadata": {},
   "source": [
    "# Fixing Percents"
   ]
  },
  {
   "cell_type": "code",
   "execution_count": null,
   "metadata": {
    "collapsed": false
   },
   "outputs": [],
   "source": [
    "master = master.applymap(change_percent)"
   ]
  },
  {
   "cell_type": "markdown",
   "metadata": {},
   "source": [
    "# Self Generated Columns"
   ]
  },
  {
   "cell_type": "code",
   "execution_count": null,
   "metadata": {
    "collapsed": false
   },
   "outputs": [],
   "source": [
    "# Appts\n",
    "master[\"Pending_Increase\"] = master[\"Appts_Pending_1610\"] - master[\"Appts_Pending_1412\"]\n",
    "master[\"Pending_Increase_%\"] = (master[\"Pending_Increase\"]/master[\"Appts_Pending_1412\"])*100\n",
    "master[\"Complete_Increase\"] = master[\"Appts_Complete_1608\"] - master[\"Appts_Complete_1409\"]\n",
    "master[\"Complete_Increase_%\"] = (master[\"Complete_Increase\"]/master[\"Appts_Complete_1409\"])*100\n",
    "master[\"Complete_Pending_Appts_Diff_14\"] = master[\"Appts_Pending_1412\"] - master[\"Appts_Complete_1409\"]\n",
    "master[\"Complete_Pending_Appts_Diff_16\"] = master[\"Appts_Pending_1610\"] - master[\"Appts_Complete_1608\"]\n",
    "\n",
    "master[\"Complete_Pending_Appts_Diff_14_%\"] = ((master[\"Appts_Pending_1412\"] - master[\"Appts_Complete_1409\"])/master[\"Appts_Complete_1409\"])*100\n",
    "master[\"Complete_Pending_Appts_Diff_16_%\"] = ((master[\"Appts_Pending_1610\"] - master[\"Appts_Complete_1608\"])/master[\"Appts_Complete_1608\"])*100\n",
    "\n",
    "\n",
    "\n",
    "\n",
    "master[\"Complete_Pending_Gap_Increase_%\"] = (master[\"Complete_Pending_Appts_Diff_16\"] -\n",
    "                                             master[\"Complete_Pending_Appts_Diff_14\"]) / master[\"Complete_Pending_Appts_Diff_14\"]\n",
    "\n",
    "# Leadership\n",
    "master[\"Missing_Leadership\"] = master[\"Vacancy\"] + master[\"Interim\"]\n",
    "\n",
    "#Staff\n",
    "master[\"Staff_11_To_12_Increase\"] = master[\"MAY-FY12\"] - master[\"MAY-FY11\"]\n",
    "master[\"Staff_11_To_12_Increase_%\"] = (master[\"Staff_11_To_12_Increase\"]/master[\"MAY-FY12\"])*100\n",
    "\n",
    "master[\"Staff_12_To_13_Increase\"] = master[\"MAY-FY13\"] - master[\"MAY-FY12\"]\n",
    "master[\"Staff_12_To_13_Increase_%\"] = (master[\"Staff_12_To_13_Increase\"]/master[\"MAY-FY13\"])*100\n",
    "\n",
    "master[\"Staff_13_To_14_Increase\"] = master[\"MAY-FY14\"] - master[\"MAY-FY13\"]\n",
    "master[\"Staff_13_To_14_Increase_%\"] = (master[\"Staff_13_To_14_Increase\"]/master[\"MAY-FY14\"])*100\n",
    "\n",
    "master[\"Staff_14_To_15_Increase\"] = master[\"MAY-FY15\"] - master[\"MAY-FY14\"]\n",
    "master[\"Staff_14_To_15_Increase_%\"] = (master[\"Staff_14_To_15_Increase\"]/master[\"MAY-FY15\"])*100\n",
    "\n",
    "master[\"Staff_15_To_16_Increase\"] = master[\"MAY-FY16\"] - master[\"MAY-FY15\"]\n",
    "master[\"Staff_15_To_16_Increase_%\"] = (master[\"Staff_15_To_16_Increase\"]/master[\"MAY-FY16\"])*100\n",
    "\n",
    "master[\"Staff_14_To_16_Increase\"] = master[\"MAY-FY16\"] - master[\"MAY-FY14\"]\n",
    "master[\"Staff_14_To_16_Increase_%\"] = (master[\"Staff_14_To_16_Increase\"]/master[\"MAY-FY16\"])*100\n",
    "\n",
    "# Hires\n",
    "master[\"Choice_Increase_%\"] = master[\"Choice_Hires\"]/master[\"MAY-FY14\"]\n",
    "master[\"Choice_Staff_Dif\"] = master[\"Staff_14_To_16_Increase\"] - master[\"Choice_Hires\"] \n",
    "master[\"Choice_Increase_%_PC_Wait_Complete_1409_Ratio\"] = master[\"PC_Wait_Complete_1409\"]/master[\"Choice_Increase_%\"]\n",
    "master[\"Choice_Increase_%_PC_Wait_Pending_1412_Ratio\"] = master[\"PC_Wait_Pending_1412\"]/master[\"Choice_Increase_%\"]\n",
    "\n",
    "# Wait Times\n",
    "master[\"PC_Wait_Pending_Increase\"] = master[\"PC_Wait_Pending_1610\"] - master[\"PC_Wait_Pending_1412\"]\n",
    "master[\"PC_Wait_Pending_Increase_%\"] = (master[\"PC_Wait_Pending_Increase\"]/master[\"PC_Wait_Pending_1412\"])*100\n",
    "\n",
    "master[\"PC_Wait_Complete_Increase\"] = master[\"PC_Wait_Complete_1608\"] - master[\"PC_Wait_Complete_1409\"]\n",
    "master[\"PC_Wait_Complete_Increase_%\"] = (master[\"PC_Wait_Complete_Increase\"]/master[\"PC_Wait_Complete_1409\"])*100\n",
    "\n",
    "master[\"SC_Wait_Pending_Increase\"] = master[\"SC_Wait_Pending_1610\"] - master[\"SC_Wait_Pending_1412\"]\n",
    "master[\"SC_Wait_Pending_Increase_%\"] = (master[\"SC_Wait_Pending_Increase\"]/master[\"PC_Wait_Pending_1412\"])*100\n",
    "\n",
    "master[\"SC_Wait_Complete_Increase\"] = master[\"SC_Wait_Complete_1608\"] - master[\"SC_Wait_Complete_1409\"]\n",
    "master[\"SC_Wait_Complete_Increase_%\"] = (master[\"SC_Wait_Complete_Increase\"]/master[\"SC_Wait_Complete_1409\"])*100\n",
    "\n",
    "master[\"MH_Wait_Pending_Increase\"] = master[\"MH_Wait_Pending_1610\"] - master[\"MH_Wait_Pending_1412\"]\n",
    "master[\"MH_Wait_Pending_Increase_%\"] = (master[\"MH_Wait_Pending_Increase\"]/master[\"PC_Wait_Pending_1412\"])*100\n",
    "\n",
    "master[\"MH_Wait_Complete_Increase\"] = (master[\"MH_Wait_Complete_1608\"] - master[\"MH_Wait_Complete_1409\"])*100\n",
    "master[\"MH_Wait_Complete_Increase_%\"] = (master[\"MH_Wait_Complete_Increase\"]/master[\"MH_Wait_Complete_1409\"])*100\n",
    "\n",
    "# Staff size relative to appointments\n",
    "\n",
    "master[\"Staff_To_Appts_Pending_14\"] = master[\"MAY-FY14\"]/master[\"Appts_Pending_1412\"]\n",
    "master[\"Staff_To_Appts_Pending_16\"] = master[\"MAY-FY16\"]/master[\"Appts_Pending_1610\"]\n",
    "master[\"Staff_To_Appts_Complete_14\"] = master[\"MAY-FY14\"]/master[\"Appts_Complete_1409\"]\n",
    "master[\"Staff_To_Appts_Complete_16\"] = master[\"MAY-FY16\"]/master[\"Appts_Complete_1608\"]\n",
    "\n",
    "\n",
    "# Appointments Over 30\n",
    "\n",
    "master[\"Percentage_Point_Wait_Over_30_Increase_Pending\"] = master['%_Appts_Over_30_Pending_1610'] - master['%_Appts_Over_30_Pending_1412']\n",
    "master[\"Percentage_Point_Wait_Over_30_Increase_Complete\"] = master['%_Appts_Over_30_Complete_1608'] - master['%_Appts_Over_30_Complete_1409']\n",
    "\n",
    "# Get State\n",
    "\n",
    "master[\"State\"] = master[\"Location\"].apply(get_state)\n",
    "\n"
   ]
  },
  {
   "cell_type": "markdown",
   "metadata": {},
   "source": [
    "# Export to CSV"
   ]
  },
  {
   "cell_type": "code",
   "execution_count": null,
   "metadata": {
    "collapsed": false
   },
   "outputs": [],
   "source": [
    "master.to_csv(\"Master/Master.csv\", index=False)"
   ]
  },
  {
   "cell_type": "code",
   "execution_count": null,
   "metadata": {
    "collapsed": false
   },
   "outputs": [],
   "source": [
    "master.columns"
   ]
  },
  {
   "cell_type": "code",
   "execution_count": null,
   "metadata": {
    "collapsed": false,
    "scrolled": false
   },
   "outputs": [],
   "source": [
    "for column in master.columns:\n",
    "    print column"
   ]
  },
  {
   "cell_type": "markdown",
   "metadata": {},
   "source": [
    "# National"
   ]
  },
  {
   "cell_type": "code",
   "execution_count": null,
   "metadata": {
    "collapsed": false
   },
   "outputs": [],
   "source": [
    "#Taken from VA site\n",
    "national_complete = pd.read_csv(\"Wait_Time/Completed_Cleaned/National_Complete.csv\")\n",
    "national_pending = pd.read_csv(\"Wait_Time/Pending_Clean/National_Pending.csv\")\n",
    "\n",
    "\n",
    "#used to strip time from Pending_Time\n",
    "def get_date(test):\n",
    "    test = test.strip('National: ')\n",
    "    return parser.parse(test)\n",
    "\n",
    "national_complete[\"date\"] = national_complete[\"Complete_Time\"].apply(get_date)\n",
    "national_pending[\"date\"] = national_pending[\"Pending_Time\"].apply(get_date)\n",
    "national_complete.sort(\"date\")\n",
    "national_pending.sort(\"date\")\n",
    "\n",
    "national_pending = national_pending.drop(20) #for some reason this was read in as 1989. Just dropping it\n",
    "\n",
    "#national_pending.to_csv(\"National/National_Pending.csv\",index=False)\n",
    "#national_complete.to_csv(\"National/National_Complete.csv\",index=False)\n",
    "\n",
    "#NC = national_complete[[\"Appts_Complete_National\",\"date\"]]\n",
    "#NP = national_pending[[\"Appts_Pending_National\",\"date\"]]"
   ]
  },
  {
   "cell_type": "code",
   "execution_count": null,
   "metadata": {
    "collapsed": true
   },
   "outputs": [],
   "source": []
  }
 ],
 "metadata": {
  "kernelspec": {
   "display_name": "Python 2",
   "language": "python",
   "name": "python2"
  },
  "language_info": {
   "codemirror_mode": {
    "name": "ipython",
    "version": 2
   },
   "file_extension": ".py",
   "mimetype": "text/x-python",
   "name": "python",
   "nbconvert_exporter": "python",
   "pygments_lexer": "ipython2",
   "version": "2.7.12"
  }
 },
 "nbformat": 4,
 "nbformat_minor": 1
}
