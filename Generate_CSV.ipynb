{
 "cells": [
  {
   "cell_type": "markdown",
   "metadata": {},
   "source": [
    "# Purpose\n",
    "The goal of this notebook is to make a master CSV. \n",
    "\n"
   ]
  },
  {
   "cell_type": "code",
   "execution_count": 312,
   "metadata": {
    "collapsed": true
   },
   "outputs": [],
   "source": [
    "import pandas as pd\n",
    "import re\n",
    "import numpy as np\n",
    "from dateutil import parser"
   ]
  },
  {
   "cell_type": "markdown",
   "metadata": {},
   "source": [
    "## Functions"
   ]
  },
  {
   "cell_type": "code",
   "execution_count": 313,
   "metadata": {
    "collapsed": false,
    "scrolled": true
   },
   "outputs": [],
   "source": [
    "def get_station(new_string):\n",
    "    try:\n",
    "        query = r\"^\\((V\\d\\d)\\) \\((.*)\\)\"\n",
    "        m = re.search(query, new_string)\n",
    "        return m.group(2).upper()\n",
    "    except:\n",
    "        None\n",
    "        \n",
    "def change_percent(test):\n",
    "    if isinstance(test, str):\n",
    "        query = r\"%\"\n",
    "        m = re.search(query, test)\n",
    "\n",
    "        if m:\n",
    "            test = test.strip(\"%\")\n",
    "            test = float(test)/100\n",
    "            return test\n",
    "        else:\n",
    "            return test\n",
    "    else:\n",
    "        return test\n",
    "    \n",
    "def get_state(test):\n",
    "    query = r\"([A-Z][A-Z])\\Z\"\n",
    "    m = re.search(query, test)\n",
    "    return m.group()\n"
   ]
  },
  {
   "cell_type": "markdown",
   "metadata": {},
   "source": [
    "### Bringing in Pending 2014 Wait Times"
   ]
  },
  {
   "cell_type": "code",
   "execution_count": 314,
   "metadata": {
    "collapsed": false
   },
   "outputs": [
    {
     "data": {
      "text/html": [
       "<div>\n",
       "<table border=\"1\" class=\"dataframe\">\n",
       "  <thead>\n",
       "    <tr style=\"text-align: right;\">\n",
       "      <th></th>\n",
       "      <th>Location</th>\n",
       "      <th>Appts_Pending_1412</th>\n",
       "      <th>%_Appts_Over_30_Pending_1412</th>\n",
       "      <th>PC_Wait_Pending_1412</th>\n",
       "      <th>SC_Wait_Pending_1412</th>\n",
       "      <th>MH_Wait_Pending_1412</th>\n",
       "      <th>Station</th>\n",
       "    </tr>\n",
       "  </thead>\n",
       "  <tbody>\n",
       "    <tr>\n",
       "      <th>0</th>\n",
       "      <td>(V01) (402) Togus, ME</td>\n",
       "      <td>42899</td>\n",
       "      <td>2.70%</td>\n",
       "      <td>2.51</td>\n",
       "      <td>4.07</td>\n",
       "      <td>2.77</td>\n",
       "      <td>402</td>\n",
       "    </tr>\n",
       "    <tr>\n",
       "      <th>1</th>\n",
       "      <td>(V01) (405) White River Junction, VT</td>\n",
       "      <td>23709</td>\n",
       "      <td>2.16%</td>\n",
       "      <td>3.92</td>\n",
       "      <td>3.95</td>\n",
       "      <td>0.79</td>\n",
       "      <td>405</td>\n",
       "    </tr>\n",
       "    <tr>\n",
       "      <th>2</th>\n",
       "      <td>(V01) (518) Bedford, MA</td>\n",
       "      <td>8105</td>\n",
       "      <td>5.17%</td>\n",
       "      <td>1.12</td>\n",
       "      <td>10.53</td>\n",
       "      <td>4.41</td>\n",
       "      <td>518</td>\n",
       "    </tr>\n",
       "    <tr>\n",
       "      <th>3</th>\n",
       "      <td>(V01) (523) VA Boston HCS, MA</td>\n",
       "      <td>85625</td>\n",
       "      <td>1.71%</td>\n",
       "      <td>1.66</td>\n",
       "      <td>3.53</td>\n",
       "      <td>3.92</td>\n",
       "      <td>523</td>\n",
       "    </tr>\n",
       "    <tr>\n",
       "      <th>4</th>\n",
       "      <td>(V01) (608) Manchester, NH</td>\n",
       "      <td>19511</td>\n",
       "      <td>2.64%</td>\n",
       "      <td>2.66</td>\n",
       "      <td>4.21</td>\n",
       "      <td>5.13</td>\n",
       "      <td>608</td>\n",
       "    </tr>\n",
       "  </tbody>\n",
       "</table>\n",
       "</div>"
      ],
      "text/plain": [
       "                               Location  Appts_Pending_1412  \\\n",
       "0                 (V01) (402) Togus, ME               42899   \n",
       "1  (V01) (405) White River Junction, VT               23709   \n",
       "2               (V01) (518) Bedford, MA                8105   \n",
       "3         (V01) (523) VA Boston HCS, MA               85625   \n",
       "4            (V01) (608) Manchester, NH               19511   \n",
       "\n",
       "  %_Appts_Over_30_Pending_1412  PC_Wait_Pending_1412  SC_Wait_Pending_1412  \\\n",
       "0                        2.70%                  2.51                  4.07   \n",
       "1                        2.16%                  3.92                  3.95   \n",
       "2                        5.17%                  1.12                 10.53   \n",
       "3                        1.71%                  1.66                  3.53   \n",
       "4                        2.64%                  2.66                  4.21   \n",
       "\n",
       "   MH_Wait_Pending_1412 Station  \n",
       "0                  2.77     402  \n",
       "1                  0.79     405  \n",
       "2                  4.41     518  \n",
       "3                  3.92     523  \n",
       "4                  5.13     608  "
      ]
     },
     "execution_count": 314,
     "metadata": {},
     "output_type": "execute_result"
    }
   ],
   "source": [
    "# A function to format \n",
    "def make_df(Type,Time,File):\n",
    "    Title = \"{}_{}\".format(Type,Time)\n",
    "    csv = pd.read_csv(File,\n",
    "                               usecols=[0,1,5,24,25,26],\n",
    "                               skiprows=[0], #skipping the original header\n",
    "                               names=[\"Location\",\"Appts_{}\".format(Title),\n",
    "                                      \"%_Appts_Over_30_{}\".format(Title),\n",
    "                                      \"PC_Wait_{}\".format(Title),\n",
    "                                      \"SC_Wait_{}\".format(Title),\"MH_Wait_{}\".format(Title)])\n",
    "    csv[\"Station\"] = csv[\"Location\"].apply(get_station)\n",
    "    return csv\n",
    "Pending_1412 = make_df(\"Pending\",\"1412\",\"Data/Wait_Time/Pending_Clean/14_12_01_Wait_Pending.csv\")\n",
    "Pending_1412.head()"
   ]
  },
  {
   "cell_type": "markdown",
   "metadata": {},
   "source": [
    "# Staff Size"
   ]
  },
  {
   "cell_type": "code",
   "execution_count": 315,
   "metadata": {
    "collapsed": false
   },
   "outputs": [
    {
     "data": {
      "text/html": [
       "<div>\n",
       "<table border=\"1\" class=\"dataframe\">\n",
       "  <thead>\n",
       "    <tr style=\"text-align: right;\">\n",
       "      <th></th>\n",
       "      <th>ORGANIZATION</th>\n",
       "      <th>MAY-FY11</th>\n",
       "      <th>MAY-FY12</th>\n",
       "      <th>MAY-FY13</th>\n",
       "      <th>MAY-FY14</th>\n",
       "      <th>MAY-FY15</th>\n",
       "      <th>MAY-FY16</th>\n",
       "      <th>Station</th>\n",
       "    </tr>\n",
       "  </thead>\n",
       "  <tbody>\n",
       "    <tr>\n",
       "      <th>2</th>\n",
       "      <td>(V01) (402) HCS TOGUS ME</td>\n",
       "      <td>1293</td>\n",
       "      <td>1272.0</td>\n",
       "      <td>1248</td>\n",
       "      <td>1283</td>\n",
       "      <td>1335</td>\n",
       "      <td>1446</td>\n",
       "      <td>402</td>\n",
       "    </tr>\n",
       "    <tr>\n",
       "      <th>3</th>\n",
       "      <td>(V01) (405) MROC WHT RIVER JCT VT</td>\n",
       "      <td>852</td>\n",
       "      <td>853.0</td>\n",
       "      <td>881</td>\n",
       "      <td>921</td>\n",
       "      <td>1022</td>\n",
       "      <td>1177</td>\n",
       "      <td>405</td>\n",
       "    </tr>\n",
       "    <tr>\n",
       "      <th>4</th>\n",
       "      <td>(V01) (478) V1HCSBEDFORD MA</td>\n",
       "      <td>30</td>\n",
       "      <td>36.0</td>\n",
       "      <td>34</td>\n",
       "      <td>53</td>\n",
       "      <td>48</td>\n",
       "      <td>42</td>\n",
       "      <td>478</td>\n",
       "    </tr>\n",
       "    <tr>\n",
       "      <th>5</th>\n",
       "      <td>(V01) (518) MC BEDFORD MA</td>\n",
       "      <td>1313</td>\n",
       "      <td>1265.0</td>\n",
       "      <td>1245</td>\n",
       "      <td>1251</td>\n",
       "      <td>1297</td>\n",
       "      <td>1352</td>\n",
       "      <td>518</td>\n",
       "    </tr>\n",
       "    <tr>\n",
       "      <th>6</th>\n",
       "      <td>(V01) (523) HCS BOSTON MA</td>\n",
       "      <td>4022</td>\n",
       "      <td>4011.0</td>\n",
       "      <td>4041</td>\n",
       "      <td>4032</td>\n",
       "      <td>4123</td>\n",
       "      <td>4303</td>\n",
       "      <td>523</td>\n",
       "    </tr>\n",
       "  </tbody>\n",
       "</table>\n",
       "</div>"
      ],
      "text/plain": [
       "                        ORGANIZATION  MAY-FY11  MAY-FY12  MAY-FY13  MAY-FY14  \\\n",
       "2           (V01) (402) HCS TOGUS ME      1293    1272.0      1248      1283   \n",
       "3  (V01) (405) MROC WHT RIVER JCT VT       852     853.0       881       921   \n",
       "4        (V01) (478) V1HCSBEDFORD MA        30      36.0        34        53   \n",
       "5          (V01) (518) MC BEDFORD MA      1313    1265.0      1245      1251   \n",
       "6          (V01) (523) HCS BOSTON MA      4022    4011.0      4041      4032   \n",
       "\n",
       "   MAY-FY15  MAY-FY16 Station  \n",
       "2      1335      1446     402  \n",
       "3      1022      1177     405  \n",
       "4        48        42     478  \n",
       "5      1297      1352     518  \n",
       "6      4123      4303     523  "
      ]
     },
     "execution_count": 315,
     "metadata": {},
     "output_type": "execute_result"
    }
   ],
   "source": [
    "staff = pd.read_csv(\"Data/Staff_Size/Onboard_By_statyion_By_FY.csv\")\n",
    "staff = staff.drop(0).drop(1) # dropping first and second lines because these don't refer to actual stations.\n",
    "staff[\"Station\"] = staff[\"ORGANIZATION\"].apply(get_station)\n",
    "staff.head()\n",
    "#staff"
   ]
  },
  {
   "cell_type": "markdown",
   "metadata": {},
   "source": [
    "### Trying To Consolidate Staff And Pending"
   ]
  },
  {
   "cell_type": "code",
   "execution_count": 316,
   "metadata": {
    "collapsed": false
   },
   "outputs": [],
   "source": [
    "#Grabbing all stations in pending that have duplicates\n",
    "multiple_pending_series = Pending_1412[\"Station\"].value_counts()\n",
    "multiple_pending_dataframe = multiple_pending_series.to_frame()\n",
    "multiple_pending_list = multiple_pending_dataframe[multiple_pending_dataframe[\"Station\"] > 1].index.tolist()\n",
    "\n",
    "pending_unique = pd.DataFrame()\n",
    "for item in multiple_pending_list:\n",
    "    new = Pending_1412[Pending_1412[\"Station\"]==item]\n",
    "    pending_unique = pending_unique.append(new)\n",
    "    \n",
    "    \n",
    "#grabbing all in staff that aren't in pending...  \n",
    "in_staff_not_pending = [x for x in staff[\"Station\"].tolist() if x not in Pending_1412[\"Station\"].tolist()]\n",
    "staff_unique = pd.DataFrame()\n",
    "for item in in_staff_not_pending:\n",
    "    new = staff[staff[\"Station\"]==item]\n",
    "    staff_unique = staff_unique.append(new)\n",
    "    \n",
    "# ...and including that in a dataframe with the uniques from \n",
    "for item in multiple_pending_list:\n",
    "    new = staff[staff[\"Station\"]==item]\n",
    "    staff_unique = staff_unique.append(new)\n",
    "\n"
   ]
  },
  {
   "cell_type": "markdown",
   "metadata": {},
   "source": [
    "#### Cleaning\n",
    "Identified areas that need to be clean and stations that match. At this point I'm going to try and generate unique IDs and then I'm going to bring in other data to join. \n",
    "\n",
    "Many of the locations in station in the hiring csv don't match the wait time csv. \n"
   ]
  },
  {
   "cell_type": "code",
   "execution_count": 317,
   "metadata": {
    "collapsed": false
   },
   "outputs": [],
   "source": [
    "# identified these as not stations, but facilities. Dropping from dataframe. \n",
    "to_drop = [18,29,50,59,66,77,87,96,105,114,123,144,152]\n",
    "for index in to_drop:\n",
    "    Pending_1412 = Pending_1412.drop(index)\n",
    "\n"
   ]
  },
  {
   "cell_type": "markdown",
   "metadata": {},
   "source": [
    "### Generating Unique IDs"
   ]
  },
  {
   "cell_type": "code",
   "execution_count": 318,
   "metadata": {
    "collapsed": false
   },
   "outputs": [
    {
     "data": {
      "text/html": [
       "<div>\n",
       "<table border=\"1\" class=\"dataframe\">\n",
       "  <thead>\n",
       "    <tr style=\"text-align: right;\">\n",
       "      <th></th>\n",
       "      <th>Location</th>\n",
       "      <th>Appts_Pending_1412</th>\n",
       "      <th>%_Appts_Over_30_Pending_1412</th>\n",
       "      <th>PC_Wait_Pending_1412</th>\n",
       "      <th>SC_Wait_Pending_1412</th>\n",
       "      <th>MH_Wait_Pending_1412</th>\n",
       "      <th>Station</th>\n",
       "      <th>ID</th>\n",
       "    </tr>\n",
       "  </thead>\n",
       "  <tbody>\n",
       "    <tr>\n",
       "      <th>0</th>\n",
       "      <td>(V01) (402) Togus, ME</td>\n",
       "      <td>42899</td>\n",
       "      <td>2.70%</td>\n",
       "      <td>2.51</td>\n",
       "      <td>4.07</td>\n",
       "      <td>2.77</td>\n",
       "      <td>402</td>\n",
       "      <td>402</td>\n",
       "    </tr>\n",
       "    <tr>\n",
       "      <th>1</th>\n",
       "      <td>(V01) (405) White River Junction, VT</td>\n",
       "      <td>23709</td>\n",
       "      <td>2.16%</td>\n",
       "      <td>3.92</td>\n",
       "      <td>3.95</td>\n",
       "      <td>0.79</td>\n",
       "      <td>405</td>\n",
       "      <td>405</td>\n",
       "    </tr>\n",
       "    <tr>\n",
       "      <th>2</th>\n",
       "      <td>(V01) (518) Bedford, MA</td>\n",
       "      <td>8105</td>\n",
       "      <td>5.17%</td>\n",
       "      <td>1.12</td>\n",
       "      <td>10.53</td>\n",
       "      <td>4.41</td>\n",
       "      <td>518</td>\n",
       "      <td>518</td>\n",
       "    </tr>\n",
       "    <tr>\n",
       "      <th>3</th>\n",
       "      <td>(V01) (523) VA Boston HCS, MA</td>\n",
       "      <td>85625</td>\n",
       "      <td>1.71%</td>\n",
       "      <td>1.66</td>\n",
       "      <td>3.53</td>\n",
       "      <td>3.92</td>\n",
       "      <td>523</td>\n",
       "      <td>523</td>\n",
       "    </tr>\n",
       "    <tr>\n",
       "      <th>4</th>\n",
       "      <td>(V01) (608) Manchester, NH</td>\n",
       "      <td>19511</td>\n",
       "      <td>2.64%</td>\n",
       "      <td>2.66</td>\n",
       "      <td>4.21</td>\n",
       "      <td>5.13</td>\n",
       "      <td>608</td>\n",
       "      <td>608</td>\n",
       "    </tr>\n",
       "  </tbody>\n",
       "</table>\n",
       "</div>"
      ],
      "text/plain": [
       "                               Location  Appts_Pending_1412  \\\n",
       "0                 (V01) (402) Togus, ME               42899   \n",
       "1  (V01) (405) White River Junction, VT               23709   \n",
       "2               (V01) (518) Bedford, MA                8105   \n",
       "3         (V01) (523) VA Boston HCS, MA               85625   \n",
       "4            (V01) (608) Manchester, NH               19511   \n",
       "\n",
       "  %_Appts_Over_30_Pending_1412  PC_Wait_Pending_1412  SC_Wait_Pending_1412  \\\n",
       "0                        2.70%                  2.51                  4.07   \n",
       "1                        2.16%                  3.92                  3.95   \n",
       "2                        5.17%                  1.12                 10.53   \n",
       "3                        1.71%                  1.66                  3.53   \n",
       "4                        2.64%                  2.66                  4.21   \n",
       "\n",
       "   MH_Wait_Pending_1412 Station   ID  \n",
       "0                  2.77     402  402  \n",
       "1                  0.79     405  405  \n",
       "2                  4.41     518  518  \n",
       "3                  3.92     523  523  \n",
       "4                  5.13     608  608  "
      ]
     },
     "execution_count": 318,
     "metadata": {},
     "output_type": "execute_result"
    }
   ],
   "source": [
    "IDs = []\n",
    "query = r\"^\\((V\\d\\d)\\) \\((\\d\\d\\d)\\) (.{2})\"\n",
    "#m = re.search(query, test)\n",
    "#m.group(3)\n",
    "\n",
    "\n",
    "\n",
    "for index, row in Pending_1412.iterrows():\n",
    "    if row[\"Station\"] not in IDs:\n",
    "        m = re.search(query, row[\"Location\"])\n",
    "        loc = m.group(3).lower()\n",
    "        IDs.append(row[\"Station\"])\n",
    "\n",
    "    else:\n",
    "        m = re.search(query, row[\"Location\"])\n",
    "        loc = m.group(3).lower()\n",
    "        IDs.append(row[\"Station\"]+loc)\n",
    "Pending_1412[\"ID\"] = IDs\n",
    "Pending_1412.head()"
   ]
  },
  {
   "cell_type": "code",
   "execution_count": 319,
   "metadata": {
    "collapsed": false
   },
   "outputs": [
    {
     "name": "stderr",
     "output_type": "stream",
     "text": [
      "/usr/local/lib/python2.7/site-packages/ipykernel/__main__.py:3: SettingWithCopyWarning: \n",
      "A value is trying to be set on a copy of a slice from a DataFrame\n",
      "\n",
      "See the caveats in the documentation: http://pandas.pydata.org/pandas-docs/stable/indexing.html#indexing-view-versus-copy\n",
      "  app.launch_new_instance()\n",
      "/usr/local/lib/python2.7/site-packages/ipykernel/__main__.py:4: SettingWithCopyWarning: \n",
      "A value is trying to be set on a copy of a slice from a DataFrame\n",
      "\n",
      "See the caveats in the documentation: http://pandas.pydata.org/pandas-docs/stable/indexing.html#indexing-view-versus-copy\n",
      "/usr/local/lib/python2.7/site-packages/ipykernel/__main__.py:5: SettingWithCopyWarning: \n",
      "A value is trying to be set on a copy of a slice from a DataFrame\n",
      "\n",
      "See the caveats in the documentation: http://pandas.pydata.org/pandas-docs/stable/indexing.html#indexing-view-versus-copy\n"
     ]
    },
    {
     "data": {
      "text/html": [
       "<div>\n",
       "<table border=\"1\" class=\"dataframe\">\n",
       "  <thead>\n",
       "    <tr style=\"text-align: right;\">\n",
       "      <th></th>\n",
       "      <th>ORGANIZATION</th>\n",
       "      <th>MAY-FY11</th>\n",
       "      <th>MAY-FY12</th>\n",
       "      <th>MAY-FY13</th>\n",
       "      <th>MAY-FY14</th>\n",
       "      <th>MAY-FY15</th>\n",
       "      <th>MAY-FY16</th>\n",
       "      <th>Station</th>\n",
       "      <th>ID</th>\n",
       "    </tr>\n",
       "  </thead>\n",
       "  <tbody>\n",
       "    <tr>\n",
       "      <th>2</th>\n",
       "      <td>(V01) (402) HCS TOGUS ME</td>\n",
       "      <td>1293</td>\n",
       "      <td>1272.0</td>\n",
       "      <td>1248</td>\n",
       "      <td>1283</td>\n",
       "      <td>1335</td>\n",
       "      <td>1446</td>\n",
       "      <td>402</td>\n",
       "      <td>402</td>\n",
       "    </tr>\n",
       "    <tr>\n",
       "      <th>3</th>\n",
       "      <td>(V01) (405) MROC WHT RIVER JCT VT</td>\n",
       "      <td>852</td>\n",
       "      <td>853.0</td>\n",
       "      <td>881</td>\n",
       "      <td>921</td>\n",
       "      <td>1022</td>\n",
       "      <td>1177</td>\n",
       "      <td>405</td>\n",
       "      <td>405</td>\n",
       "    </tr>\n",
       "    <tr>\n",
       "      <th>4</th>\n",
       "      <td>(V01) (478) V1HCSBEDFORD MA</td>\n",
       "      <td>30</td>\n",
       "      <td>36.0</td>\n",
       "      <td>34</td>\n",
       "      <td>53</td>\n",
       "      <td>48</td>\n",
       "      <td>42</td>\n",
       "      <td>478</td>\n",
       "      <td>478</td>\n",
       "    </tr>\n",
       "    <tr>\n",
       "      <th>5</th>\n",
       "      <td>(V01) (518) MC BEDFORD MA</td>\n",
       "      <td>1313</td>\n",
       "      <td>1265.0</td>\n",
       "      <td>1245</td>\n",
       "      <td>1251</td>\n",
       "      <td>1297</td>\n",
       "      <td>1352</td>\n",
       "      <td>518</td>\n",
       "      <td>518</td>\n",
       "    </tr>\n",
       "    <tr>\n",
       "      <th>6</th>\n",
       "      <td>(V01) (523) HCS BOSTON MA</td>\n",
       "      <td>4022</td>\n",
       "      <td>4011.0</td>\n",
       "      <td>4041</td>\n",
       "      <td>4032</td>\n",
       "      <td>4123</td>\n",
       "      <td>4303</td>\n",
       "      <td>523</td>\n",
       "      <td>523</td>\n",
       "    </tr>\n",
       "  </tbody>\n",
       "</table>\n",
       "</div>"
      ],
      "text/plain": [
       "                        ORGANIZATION  MAY-FY11  MAY-FY12  MAY-FY13  MAY-FY14  \\\n",
       "2           (V01) (402) HCS TOGUS ME      1293    1272.0      1248      1283   \n",
       "3  (V01) (405) MROC WHT RIVER JCT VT       852     853.0       881       921   \n",
       "4        (V01) (478) V1HCSBEDFORD MA        30      36.0        34        53   \n",
       "5          (V01) (518) MC BEDFORD MA      1313    1265.0      1245      1251   \n",
       "6          (V01) (523) HCS BOSTON MA      4022    4011.0      4041      4032   \n",
       "\n",
       "   MAY-FY15  MAY-FY16 Station   ID  \n",
       "2      1335      1446     402  402  \n",
       "3      1022      1177     405  405  \n",
       "4        48        42     478  478  \n",
       "5      1297      1352     518  518  \n",
       "6      4123      4303     523  523  "
      ]
     },
     "execution_count": 319,
     "metadata": {},
     "output_type": "execute_result"
    }
   ],
   "source": [
    "#manually changing some IDs in staff based on shared location\n",
    "staff[\"ID\"] = staff[\"Station\"]\n",
    "staff[\"ID\"][11] = \"528\"\n",
    "staff[\"ID\"][92] = \"657st\"\n",
    "staff[\"ID\"][12] = \"528bu\"\n",
    "staff.head()"
   ]
  },
  {
   "cell_type": "code",
   "execution_count": 320,
   "metadata": {
    "collapsed": false
   },
   "outputs": [
    {
     "name": "stdout",
     "output_type": "stream",
     "text": [
      "Index([u'Location', u'Appts_Pending_1412', u'%_Appts_Over_30_Pending_1412',\n",
      "       u'PC_Wait_Pending_1412', u'SC_Wait_Pending_1412',\n",
      "       u'MH_Wait_Pending_1412', u'ID', u'ORGANIZATION', u'MAY-FY11',\n",
      "       u'MAY-FY12', u'MAY-FY13', u'MAY-FY14', u'MAY-FY15', u'MAY-FY16',\n",
      "       u'Station'],\n",
      "      dtype='object')\n"
     ]
    }
   ],
   "source": [
    "master = Pending_1412.merge(staff, on=\"ID\", how=\"left\")\n",
    "master[\"Station\"] = master[\"Station_x\"]\n",
    "master= master.drop(\"Station_x\",1).drop(\"Station_y\",1)\n",
    "print master.columns"
   ]
  },
  {
   "cell_type": "markdown",
   "metadata": {},
   "source": [
    "#### So what was the result of our merge?"
   ]
  },
  {
   "cell_type": "code",
   "execution_count": 321,
   "metadata": {
    "collapsed": false
   },
   "outputs": [
    {
     "name": "stdout",
     "output_type": "stream",
     "text": [
      "Hurray! We didn't lose any rows.\n"
     ]
    }
   ],
   "source": [
    "def check_len(master):\n",
    "    check = len(master) - 141\n",
    "    if check == 0:\n",
    "        print \"Hurray! We didn't lose any rows.\"\n",
    "    if check < 0:\n",
    "        print \"Uh oh. We lost {} rows!\".format(str(abs(check)))\n",
    "    if check > 0:\n",
    "        print \"we somehow...gained {} row? Well that's not right.\".format(str(abs(check)))\n",
    "check_len(master)"
   ]
  },
  {
   "cell_type": "markdown",
   "metadata": {},
   "source": [
    "Great! Now I'm going to redefine ID so that it better matches with future dataframes."
   ]
  },
  {
   "cell_type": "code",
   "execution_count": 322,
   "metadata": {
    "collapsed": false
   },
   "outputs": [
    {
     "name": "stderr",
     "output_type": "stream",
     "text": [
      "/usr/local/lib/python2.7/site-packages/ipykernel/__main__.py:10: SettingWithCopyWarning: \n",
      "A value is trying to be set on a copy of a slice from a DataFrame\n",
      "\n",
      "See the caveats in the documentation: http://pandas.pydata.org/pandas-docs/stable/indexing.html#indexing-view-versus-copy\n"
     ]
    },
    {
     "data": {
      "text/html": [
       "<div>\n",
       "<table border=\"1\" class=\"dataframe\">\n",
       "  <thead>\n",
       "    <tr style=\"text-align: right;\">\n",
       "      <th></th>\n",
       "      <th>Location</th>\n",
       "      <th>Appts_Pending_1412</th>\n",
       "      <th>%_Appts_Over_30_Pending_1412</th>\n",
       "      <th>PC_Wait_Pending_1412</th>\n",
       "      <th>SC_Wait_Pending_1412</th>\n",
       "      <th>MH_Wait_Pending_1412</th>\n",
       "      <th>ID</th>\n",
       "      <th>ORGANIZATION</th>\n",
       "      <th>MAY-FY11</th>\n",
       "      <th>MAY-FY12</th>\n",
       "      <th>MAY-FY13</th>\n",
       "      <th>MAY-FY14</th>\n",
       "      <th>MAY-FY15</th>\n",
       "      <th>MAY-FY16</th>\n",
       "      <th>Station</th>\n",
       "    </tr>\n",
       "  </thead>\n",
       "  <tbody>\n",
       "    <tr>\n",
       "      <th>0</th>\n",
       "      <td>(V01) (402) Togus, ME</td>\n",
       "      <td>42899</td>\n",
       "      <td>2.70%</td>\n",
       "      <td>2.51</td>\n",
       "      <td>4.07</td>\n",
       "      <td>2.77</td>\n",
       "      <td>402to</td>\n",
       "      <td>(V01) (402) HCS TOGUS ME</td>\n",
       "      <td>1293.0</td>\n",
       "      <td>1272.0</td>\n",
       "      <td>1248.0</td>\n",
       "      <td>1283.0</td>\n",
       "      <td>1335.0</td>\n",
       "      <td>1446.0</td>\n",
       "      <td>402</td>\n",
       "    </tr>\n",
       "    <tr>\n",
       "      <th>1</th>\n",
       "      <td>(V01) (405) White River Junction, VT</td>\n",
       "      <td>23709</td>\n",
       "      <td>2.16%</td>\n",
       "      <td>3.92</td>\n",
       "      <td>3.95</td>\n",
       "      <td>0.79</td>\n",
       "      <td>405wh</td>\n",
       "      <td>(V01) (405) MROC WHT RIVER JCT VT</td>\n",
       "      <td>852.0</td>\n",
       "      <td>853.0</td>\n",
       "      <td>881.0</td>\n",
       "      <td>921.0</td>\n",
       "      <td>1022.0</td>\n",
       "      <td>1177.0</td>\n",
       "      <td>405</td>\n",
       "    </tr>\n",
       "    <tr>\n",
       "      <th>2</th>\n",
       "      <td>(V01) (518) Bedford, MA</td>\n",
       "      <td>8105</td>\n",
       "      <td>5.17%</td>\n",
       "      <td>1.12</td>\n",
       "      <td>10.53</td>\n",
       "      <td>4.41</td>\n",
       "      <td>518be</td>\n",
       "      <td>(V01) (518) MC BEDFORD MA</td>\n",
       "      <td>1313.0</td>\n",
       "      <td>1265.0</td>\n",
       "      <td>1245.0</td>\n",
       "      <td>1251.0</td>\n",
       "      <td>1297.0</td>\n",
       "      <td>1352.0</td>\n",
       "      <td>518</td>\n",
       "    </tr>\n",
       "    <tr>\n",
       "      <th>3</th>\n",
       "      <td>(V01) (523) VA Boston HCS, MA</td>\n",
       "      <td>85625</td>\n",
       "      <td>1.71%</td>\n",
       "      <td>1.66</td>\n",
       "      <td>3.53</td>\n",
       "      <td>3.92</td>\n",
       "      <td>523va</td>\n",
       "      <td>(V01) (523) HCS BOSTON MA</td>\n",
       "      <td>4022.0</td>\n",
       "      <td>4011.0</td>\n",
       "      <td>4041.0</td>\n",
       "      <td>4032.0</td>\n",
       "      <td>4123.0</td>\n",
       "      <td>4303.0</td>\n",
       "      <td>523</td>\n",
       "    </tr>\n",
       "    <tr>\n",
       "      <th>4</th>\n",
       "      <td>(V01) (608) Manchester, NH</td>\n",
       "      <td>19511</td>\n",
       "      <td>2.64%</td>\n",
       "      <td>2.66</td>\n",
       "      <td>4.21</td>\n",
       "      <td>5.13</td>\n",
       "      <td>608ma</td>\n",
       "      <td>(V01) (608) MC MANCHESTER NH</td>\n",
       "      <td>663.0</td>\n",
       "      <td>683.0</td>\n",
       "      <td>691.0</td>\n",
       "      <td>686.0</td>\n",
       "      <td>759.0</td>\n",
       "      <td>803.0</td>\n",
       "      <td>608</td>\n",
       "    </tr>\n",
       "  </tbody>\n",
       "</table>\n",
       "</div>"
      ],
      "text/plain": [
       "                               Location  Appts_Pending_1412  \\\n",
       "0                 (V01) (402) Togus, ME               42899   \n",
       "1  (V01) (405) White River Junction, VT               23709   \n",
       "2               (V01) (518) Bedford, MA                8105   \n",
       "3         (V01) (523) VA Boston HCS, MA               85625   \n",
       "4            (V01) (608) Manchester, NH               19511   \n",
       "\n",
       "  %_Appts_Over_30_Pending_1412  PC_Wait_Pending_1412  SC_Wait_Pending_1412  \\\n",
       "0                        2.70%                  2.51                  4.07   \n",
       "1                        2.16%                  3.92                  3.95   \n",
       "2                        5.17%                  1.12                 10.53   \n",
       "3                        1.71%                  1.66                  3.53   \n",
       "4                        2.64%                  2.66                  4.21   \n",
       "\n",
       "   MH_Wait_Pending_1412     ID                       ORGANIZATION  MAY-FY11  \\\n",
       "0                  2.77  402to           (V01) (402) HCS TOGUS ME    1293.0   \n",
       "1                  0.79  405wh  (V01) (405) MROC WHT RIVER JCT VT     852.0   \n",
       "2                  4.41  518be          (V01) (518) MC BEDFORD MA    1313.0   \n",
       "3                  3.92  523va          (V01) (523) HCS BOSTON MA    4022.0   \n",
       "4                  5.13  608ma       (V01) (608) MC MANCHESTER NH     663.0   \n",
       "\n",
       "   MAY-FY12  MAY-FY13  MAY-FY14  MAY-FY15  MAY-FY16 Station  \n",
       "0    1272.0    1248.0    1283.0    1335.0    1446.0     402  \n",
       "1     853.0     881.0     921.0    1022.0    1177.0     405  \n",
       "2    1265.0    1245.0    1251.0    1297.0    1352.0     518  \n",
       "3    4011.0    4041.0    4032.0    4123.0    4303.0     523  \n",
       "4     683.0     691.0     686.0     759.0     803.0     608  "
      ]
     },
     "execution_count": 322,
     "metadata": {},
     "output_type": "execute_result"
    }
   ],
   "source": [
    "ID = []\n",
    "query = r\"^\\((V\\d\\d)\\) \\((\\d\\d\\d)\\) (.{2})\"\n",
    "\n",
    "for index, row in master.iterrows():\n",
    "    m = re.search(query, row[\"Location\"])\n",
    "    loc = m.group(3).lower()\n",
    "    ID.append(row[\"Station\"]+loc)\n",
    "\n",
    "master[\"ID\"] = ID\n",
    "master[\"ID\"][72] = \"537je\" # edge case\n",
    "master.head()\n",
    "\n"
   ]
  },
  {
   "cell_type": "markdown",
   "metadata": {},
   "source": [
    "## Bringing in Pending 2016"
   ]
  },
  {
   "cell_type": "code",
   "execution_count": 323,
   "metadata": {
    "collapsed": false
   },
   "outputs": [],
   "source": [
    "#functions to format 2016 \n",
    "def get_station(new_string):\n",
    "    try:\n",
    "        query = r\"^\\((V\\d\\d)\\) \\(([0-9,A-Z]{3,5})\"\n",
    "        m = re.search(query, new_string)\n",
    "        return m.group(2).upper()\n",
    "    except:\n",
    "        None\n",
    "        \n",
    "staff[\"Station\"] = staff[\"ORGANIZATION\"].apply(get_station)\n",
    "\n",
    "\n",
    "\n",
    "\n",
    "def make_df_2016(Type,Time,File):\n",
    "    Title = \"{}_{}\".format(Type,Time)\n",
    "    csv = pd.read_csv(File,\n",
    "                               usecols=[0,1,5,20,21,22],\n",
    "                               skiprows=[0], #skipping the original header\n",
    "                               names=[\"Location\",\"Appts_{}\".format(Title),\n",
    "                                      \"%_Appts_Over_30_{}\".format(Title),\n",
    "                                      \"PC_Wait_{}\".format(Title),\n",
    "                                      \"SC_Wait_{}\".format(Title),\"MH_Wait_{}\".format(Title)])\n",
    "    csv[\"Station\"] = csv[\"Location\"].apply(get_station)\n",
    "    return csv\n",
    "Pending_1610 = make_df_2016(\"Pending\",\"1610\",\"Data/Wait_Time/Pending_Clean/16_10_01_Wait_Pending.csv\")\n",
    "#Pending_1610 = Pending_1610.drop(297).drop(369) # edge case causing issues, not a station anyway"
   ]
  },
  {
   "cell_type": "code",
   "execution_count": 324,
   "metadata": {
    "collapsed": false
   },
   "outputs": [],
   "source": [
    "def generate_IDs(df):\n",
    "    ID = []\n",
    "    for index, row in df.iterrows():\n",
    "        #print index\n",
    "        if len(row[\"Station\"]) > 3:\n",
    "            #print row[\"Station\"]\n",
    "            ID.append(None)\n",
    "        else:\n",
    "            try:\n",
    "                #print index\n",
    "                #print \"entering else\"\n",
    "                #print \"This is the location: \"+row[\"Location\"]\n",
    "                query = r\"^\\((V\\d\\d)\\) \\((\\d\\d\\d)\\) (.{2})\"\n",
    "                m = re.search(query, row[\"Location\"].upper())\n",
    "                new_ID = row[\"Station\"]+m.group(3).lower()\n",
    "                if new_ID not in ID:\n",
    "                    ID.append(new_ID)\n",
    "                else:\n",
    "                    ID.append(None)\n",
    "                #print m.group(3).upper()\n",
    "            except AttributeError:\n",
    "                #print \"AttributeError\"\n",
    "                ID.append(None)\n",
    "    return ID\n",
    "ID = generate_IDs(Pending_1610)\n",
    "Pending_1610[\"ID\"] = ID"
   ]
  },
  {
   "cell_type": "code",
   "execution_count": 325,
   "metadata": {
    "collapsed": false
   },
   "outputs": [
    {
     "name": "stdout",
     "output_type": "stream",
     "text": [
      "Index([u'Location_x', u'Appts_Pending_1412', u'%_Appts_Over_30_Pending_1412',\n",
      "       u'PC_Wait_Pending_1412', u'SC_Wait_Pending_1412',\n",
      "       u'MH_Wait_Pending_1412', u'ID', u'ORGANIZATION', u'MAY-FY11',\n",
      "       u'MAY-FY12', u'MAY-FY13', u'MAY-FY14', u'MAY-FY15', u'MAY-FY16',\n",
      "       u'Station_x', u'Location_y', u'Appts_Pending_1610',\n",
      "       u'%_Appts_Over_30_Pending_1610', u'PC_Wait_Pending_1610',\n",
      "       u'SC_Wait_Pending_1610', u'MH_Wait_Pending_1610', u'Station_y'],\n",
      "      dtype='object')\n"
     ]
    },
    {
     "data": {
      "text/html": [
       "<div>\n",
       "<table border=\"1\" class=\"dataframe\">\n",
       "  <thead>\n",
       "    <tr style=\"text-align: right;\">\n",
       "      <th></th>\n",
       "      <th>Appts_Pending_1412</th>\n",
       "      <th>%_Appts_Over_30_Pending_1412</th>\n",
       "      <th>PC_Wait_Pending_1412</th>\n",
       "      <th>SC_Wait_Pending_1412</th>\n",
       "      <th>MH_Wait_Pending_1412</th>\n",
       "      <th>ID</th>\n",
       "      <th>ORGANIZATION</th>\n",
       "      <th>MAY-FY11</th>\n",
       "      <th>MAY-FY12</th>\n",
       "      <th>MAY-FY13</th>\n",
       "      <th>MAY-FY14</th>\n",
       "      <th>MAY-FY15</th>\n",
       "      <th>MAY-FY16</th>\n",
       "      <th>Appts_Pending_1610</th>\n",
       "      <th>%_Appts_Over_30_Pending_1610</th>\n",
       "      <th>PC_Wait_Pending_1610</th>\n",
       "      <th>SC_Wait_Pending_1610</th>\n",
       "      <th>MH_Wait_Pending_1610</th>\n",
       "      <th>Station</th>\n",
       "      <th>Location</th>\n",
       "    </tr>\n",
       "  </thead>\n",
       "  <tbody>\n",
       "    <tr>\n",
       "      <th>0</th>\n",
       "      <td>42899</td>\n",
       "      <td>2.70%</td>\n",
       "      <td>2.51</td>\n",
       "      <td>4.07</td>\n",
       "      <td>2.77</td>\n",
       "      <td>402to</td>\n",
       "      <td>(V01) (402) HCS TOGUS ME</td>\n",
       "      <td>1293.0</td>\n",
       "      <td>1272.0</td>\n",
       "      <td>1248.0</td>\n",
       "      <td>1283.0</td>\n",
       "      <td>1335.0</td>\n",
       "      <td>1446.0</td>\n",
       "      <td>43609</td>\n",
       "      <td>4.18%</td>\n",
       "      <td>7.82</td>\n",
       "      <td>5.67</td>\n",
       "      <td>3.62</td>\n",
       "      <td>402</td>\n",
       "      <td>(V01) (402) Togus, ME</td>\n",
       "    </tr>\n",
       "    <tr>\n",
       "      <th>1</th>\n",
       "      <td>23709</td>\n",
       "      <td>2.16%</td>\n",
       "      <td>3.92</td>\n",
       "      <td>3.95</td>\n",
       "      <td>0.79</td>\n",
       "      <td>405wh</td>\n",
       "      <td>(V01) (405) MROC WHT RIVER JCT VT</td>\n",
       "      <td>852.0</td>\n",
       "      <td>853.0</td>\n",
       "      <td>881.0</td>\n",
       "      <td>921.0</td>\n",
       "      <td>1022.0</td>\n",
       "      <td>1177.0</td>\n",
       "      <td>21091</td>\n",
       "      <td>3.83%</td>\n",
       "      <td>6.09</td>\n",
       "      <td>7.09</td>\n",
       "      <td>1.86</td>\n",
       "      <td>405</td>\n",
       "      <td>(V01) (405) White River Junction, VT</td>\n",
       "    </tr>\n",
       "    <tr>\n",
       "      <th>2</th>\n",
       "      <td>8105</td>\n",
       "      <td>5.17%</td>\n",
       "      <td>1.12</td>\n",
       "      <td>10.53</td>\n",
       "      <td>4.41</td>\n",
       "      <td>518be</td>\n",
       "      <td>(V01) (518) MC BEDFORD MA</td>\n",
       "      <td>1313.0</td>\n",
       "      <td>1265.0</td>\n",
       "      <td>1245.0</td>\n",
       "      <td>1251.0</td>\n",
       "      <td>1297.0</td>\n",
       "      <td>1352.0</td>\n",
       "      <td>14456</td>\n",
       "      <td>7.54%</td>\n",
       "      <td>0.60</td>\n",
       "      <td>11.21</td>\n",
       "      <td>3.07</td>\n",
       "      <td>518</td>\n",
       "      <td>(V01) (518) Bedford, MA</td>\n",
       "    </tr>\n",
       "    <tr>\n",
       "      <th>3</th>\n",
       "      <td>85625</td>\n",
       "      <td>1.71%</td>\n",
       "      <td>1.66</td>\n",
       "      <td>3.53</td>\n",
       "      <td>3.92</td>\n",
       "      <td>523va</td>\n",
       "      <td>(V01) (523) HCS BOSTON MA</td>\n",
       "      <td>4022.0</td>\n",
       "      <td>4011.0</td>\n",
       "      <td>4041.0</td>\n",
       "      <td>4032.0</td>\n",
       "      <td>4123.0</td>\n",
       "      <td>4303.0</td>\n",
       "      <td>84373</td>\n",
       "      <td>4.43%</td>\n",
       "      <td>14.46</td>\n",
       "      <td>6.76</td>\n",
       "      <td>3.08</td>\n",
       "      <td>523</td>\n",
       "      <td>(V01) (523) VA Boston HCS, MA</td>\n",
       "    </tr>\n",
       "    <tr>\n",
       "      <th>4</th>\n",
       "      <td>19511</td>\n",
       "      <td>2.64%</td>\n",
       "      <td>2.66</td>\n",
       "      <td>4.21</td>\n",
       "      <td>5.13</td>\n",
       "      <td>608ma</td>\n",
       "      <td>(V01) (608) MC MANCHESTER NH</td>\n",
       "      <td>663.0</td>\n",
       "      <td>683.0</td>\n",
       "      <td>691.0</td>\n",
       "      <td>686.0</td>\n",
       "      <td>759.0</td>\n",
       "      <td>803.0</td>\n",
       "      <td>25424</td>\n",
       "      <td>4.09%</td>\n",
       "      <td>5.75</td>\n",
       "      <td>4.58</td>\n",
       "      <td>5.21</td>\n",
       "      <td>608</td>\n",
       "      <td>(V01) (608) Manchester, NH</td>\n",
       "    </tr>\n",
       "  </tbody>\n",
       "</table>\n",
       "</div>"
      ],
      "text/plain": [
       "   Appts_Pending_1412 %_Appts_Over_30_Pending_1412  PC_Wait_Pending_1412  \\\n",
       "0               42899                        2.70%                  2.51   \n",
       "1               23709                        2.16%                  3.92   \n",
       "2                8105                        5.17%                  1.12   \n",
       "3               85625                        1.71%                  1.66   \n",
       "4               19511                        2.64%                  2.66   \n",
       "\n",
       "   SC_Wait_Pending_1412  MH_Wait_Pending_1412     ID  \\\n",
       "0                  4.07                  2.77  402to   \n",
       "1                  3.95                  0.79  405wh   \n",
       "2                 10.53                  4.41  518be   \n",
       "3                  3.53                  3.92  523va   \n",
       "4                  4.21                  5.13  608ma   \n",
       "\n",
       "                        ORGANIZATION  MAY-FY11  MAY-FY12  MAY-FY13  MAY-FY14  \\\n",
       "0           (V01) (402) HCS TOGUS ME    1293.0    1272.0    1248.0    1283.0   \n",
       "1  (V01) (405) MROC WHT RIVER JCT VT     852.0     853.0     881.0     921.0   \n",
       "2          (V01) (518) MC BEDFORD MA    1313.0    1265.0    1245.0    1251.0   \n",
       "3          (V01) (523) HCS BOSTON MA    4022.0    4011.0    4041.0    4032.0   \n",
       "4       (V01) (608) MC MANCHESTER NH     663.0     683.0     691.0     686.0   \n",
       "\n",
       "   MAY-FY15  MAY-FY16  Appts_Pending_1610 %_Appts_Over_30_Pending_1610  \\\n",
       "0    1335.0    1446.0               43609                        4.18%   \n",
       "1    1022.0    1177.0               21091                        3.83%   \n",
       "2    1297.0    1352.0               14456                        7.54%   \n",
       "3    4123.0    4303.0               84373                        4.43%   \n",
       "4     759.0     803.0               25424                        4.09%   \n",
       "\n",
       "   PC_Wait_Pending_1610  SC_Wait_Pending_1610  MH_Wait_Pending_1610 Station  \\\n",
       "0                  7.82                  5.67                  3.62     402   \n",
       "1                  6.09                  7.09                  1.86     405   \n",
       "2                  0.60                 11.21                  3.07     518   \n",
       "3                 14.46                  6.76                  3.08     523   \n",
       "4                  5.75                  4.58                  5.21     608   \n",
       "\n",
       "                               Location  \n",
       "0                 (V01) (402) Togus, ME  \n",
       "1  (V01) (405) White River Junction, VT  \n",
       "2               (V01) (518) Bedford, MA  \n",
       "3         (V01) (523) VA Boston HCS, MA  \n",
       "4            (V01) (608) Manchester, NH  "
      ]
     },
     "execution_count": 325,
     "metadata": {},
     "output_type": "execute_result"
    }
   ],
   "source": [
    "Pending_1610 = Pending_1610.dropna(subset = [\"ID\"])\n",
    "master = master.merge(Pending_1610,on=\"ID\")\n",
    "print master.columns\n",
    "master[\"Station\"] = master[\"Station_x\"]\n",
    "master[\"Location\"] = master[\"Location_x\"]\n",
    "master= master.drop(\"Station_x\",1).drop(\"Station_y\",1).drop(\"Location_y\",1).drop(\"Location_x\",1)\n",
    "master.head()"
   ]
  },
  {
   "cell_type": "code",
   "execution_count": 326,
   "metadata": {
    "collapsed": false
   },
   "outputs": [
    {
     "name": "stdout",
     "output_type": "stream",
     "text": [
      "Hurray! We didn't lose any rows.\n"
     ]
    }
   ],
   "source": [
    "check_len(master)"
   ]
  },
  {
   "cell_type": "markdown",
   "metadata": {},
   "source": [
    "## Bringing in Complete 2016"
   ]
  },
  {
   "cell_type": "code",
   "execution_count": 327,
   "metadata": {
    "collapsed": false
   },
   "outputs": [
    {
     "data": {
      "text/html": [
       "<div>\n",
       "<table border=\"1\" class=\"dataframe\">\n",
       "  <thead>\n",
       "    <tr style=\"text-align: right;\">\n",
       "      <th></th>\n",
       "      <th>Location</th>\n",
       "      <th>Appts_Complete_1608</th>\n",
       "      <th>%_Appts_Over_30_Complete_1608</th>\n",
       "      <th>PC_Wait_Complete_1608</th>\n",
       "      <th>SC_Wait_Complete_1608</th>\n",
       "      <th>MH_Wait_Complete_1608</th>\n",
       "      <th>Station</th>\n",
       "    </tr>\n",
       "  </thead>\n",
       "  <tbody>\n",
       "    <tr>\n",
       "      <th>0</th>\n",
       "      <td>(V01) (402) Togus, ME</td>\n",
       "      <td>28683</td>\n",
       "      <td>0.0134</td>\n",
       "      <td>4.96</td>\n",
       "      <td>2.73</td>\n",
       "      <td>1.87</td>\n",
       "      <td>402</td>\n",
       "    </tr>\n",
       "    <tr>\n",
       "      <th>1</th>\n",
       "      <td>(V01) (402) Togus VAMC</td>\n",
       "      <td>17464</td>\n",
       "      <td>0.0163</td>\n",
       "      <td>5.96</td>\n",
       "      <td>2.66</td>\n",
       "      <td>2.59</td>\n",
       "      <td>402</td>\n",
       "    </tr>\n",
       "    <tr>\n",
       "      <th>2</th>\n",
       "      <td>(V01) (402GA) Aroostook County\\r(Caribou)</td>\n",
       "      <td>756</td>\n",
       "      <td>0.0423</td>\n",
       "      <td>8.84</td>\n",
       "      <td>0.00</td>\n",
       "      <td>3.41</td>\n",
       "      <td>402GA</td>\n",
       "    </tr>\n",
       "    <tr>\n",
       "      <th>3</th>\n",
       "      <td>(V01) (402GB) Calais</td>\n",
       "      <td>379</td>\n",
       "      <td>0.0000</td>\n",
       "      <td>1.43</td>\n",
       "      <td>0.00</td>\n",
       "      <td>0.36</td>\n",
       "      <td>402GB</td>\n",
       "    </tr>\n",
       "    <tr>\n",
       "      <th>4</th>\n",
       "      <td>(V01) (402GC) Rumford</td>\n",
       "      <td>428</td>\n",
       "      <td>0.0000</td>\n",
       "      <td>1.31</td>\n",
       "      <td>0.00</td>\n",
       "      <td>1.11</td>\n",
       "      <td>402GC</td>\n",
       "    </tr>\n",
       "  </tbody>\n",
       "</table>\n",
       "</div>"
      ],
      "text/plain": [
       "                                    Location  Appts_Complete_1608  \\\n",
       "0                      (V01) (402) Togus, ME                28683   \n",
       "1                     (V01) (402) Togus VAMC                17464   \n",
       "2  (V01) (402GA) Aroostook County\\r(Caribou)                  756   \n",
       "3                       (V01) (402GB) Calais                  379   \n",
       "4                      (V01) (402GC) Rumford                  428   \n",
       "\n",
       "   %_Appts_Over_30_Complete_1608  PC_Wait_Complete_1608  \\\n",
       "0                         0.0134                   4.96   \n",
       "1                         0.0163                   5.96   \n",
       "2                         0.0423                   8.84   \n",
       "3                         0.0000                   1.43   \n",
       "4                         0.0000                   1.31   \n",
       "\n",
       "   SC_Wait_Complete_1608  MH_Wait_Complete_1608 Station  \n",
       "0                   2.73                   1.87     402  \n",
       "1                   2.66                   2.59     402  \n",
       "2                   0.00                   3.41   402GA  \n",
       "3                   0.00                   0.36   402GB  \n",
       "4                   0.00                   1.11   402GC  "
      ]
     },
     "execution_count": 327,
     "metadata": {},
     "output_type": "execute_result"
    }
   ],
   "source": [
    "def get_station(new_string):\n",
    "    try:\n",
    "        query = r\"^\\((V\\d\\d)\\) \\(([0-9,A-Z]{3,5})\"\n",
    "        m = re.search(query, new_string)\n",
    "        return m.group(2).upper()\n",
    "    except:\n",
    "        None\n",
    "        \n",
    "staff[\"Station\"] = staff[\"ORGANIZATION\"].apply(get_station)\n",
    "\n",
    "\n",
    "\n",
    "\n",
    "def make_df_2016(Type,Time,File):\n",
    "    Title = \"{}_{}\".format(Type,Time)\n",
    "    csv = pd.read_csv(File,\n",
    "                               usecols=[0,1,5,13,14,15],\n",
    "                               skiprows=[0], #skipping the original header\n",
    "                               names=[\"Location\",\"Appts_{}\".format(Title),\n",
    "                                      \"%_Appts_Over_30_{}\".format(Title),\n",
    "                                      \"PC_Wait_{}\".format(Title),\n",
    "                                      \"SC_Wait_{}\".format(Title),\"MH_Wait_{}\".format(Title)])\n",
    "    csv[\"Station\"] = csv[\"Location\"].apply(get_station)\n",
    "    return csv\n",
    "Complete_1608 = make_df_2016(\"Complete\",\"1608\",\"Data/Wait_Time/Completed_Cleaned/16_08_31_Wait_Complete.csv\")\n",
    "Complete_1608.head()"
   ]
  },
  {
   "cell_type": "code",
   "execution_count": 328,
   "metadata": {
    "collapsed": false
   },
   "outputs": [
    {
     "data": {
      "text/plain": [
       "1189"
      ]
     },
     "execution_count": 328,
     "metadata": {},
     "output_type": "execute_result"
    }
   ],
   "source": [
    "len(Complete_1608)"
   ]
  },
  {
   "cell_type": "code",
   "execution_count": 329,
   "metadata": {
    "collapsed": false
   },
   "outputs": [],
   "source": [
    "ID = generate_IDs(Complete_1608)\n",
    "Complete_1608[\"ID\"] = ID\n",
    "Complete_1608 = Complete_1608.dropna(subset = [\"ID\"])\n",
    "master = master.merge(Complete_1608,on=\"ID\")\n",
    "master[\"Station\"] = master[\"Station_x\"]\n",
    "master[\"Location\"] = master[\"Location_x\"]\n",
    "master= master.drop(\"Station_x\",1).drop(\"Station_y\",1).drop(\"Location_y\",1).drop(\"Location_x\",1)"
   ]
  },
  {
   "cell_type": "code",
   "execution_count": 330,
   "metadata": {
    "collapsed": false
   },
   "outputs": [
    {
     "data": {
      "text/plain": [
       "Index([u'Appts_Pending_1412', u'%_Appts_Over_30_Pending_1412',\n",
       "       u'PC_Wait_Pending_1412', u'SC_Wait_Pending_1412',\n",
       "       u'MH_Wait_Pending_1412', u'ID', u'ORGANIZATION', u'MAY-FY11',\n",
       "       u'MAY-FY12', u'MAY-FY13', u'MAY-FY14', u'MAY-FY15', u'MAY-FY16',\n",
       "       u'Appts_Pending_1610', u'%_Appts_Over_30_Pending_1610',\n",
       "       u'PC_Wait_Pending_1610', u'SC_Wait_Pending_1610',\n",
       "       u'MH_Wait_Pending_1610', u'Appts_Complete_1608',\n",
       "       u'%_Appts_Over_30_Complete_1608', u'PC_Wait_Complete_1608',\n",
       "       u'SC_Wait_Complete_1608', u'MH_Wait_Complete_1608', u'Station',\n",
       "       u'Location'],\n",
       "      dtype='object')"
      ]
     },
     "execution_count": 330,
     "metadata": {},
     "output_type": "execute_result"
    }
   ],
   "source": [
    "master.columns"
   ]
  },
  {
   "cell_type": "code",
   "execution_count": 331,
   "metadata": {
    "collapsed": false
   },
   "outputs": [
    {
     "name": "stdout",
     "output_type": "stream",
     "text": [
      "Hurray! We didn't lose any rows.\n"
     ]
    }
   ],
   "source": [
    "check_len(master)"
   ]
  },
  {
   "cell_type": "code",
   "execution_count": 332,
   "metadata": {
    "collapsed": false
   },
   "outputs": [
    {
     "data": {
      "text/html": [
       "<div>\n",
       "<table border=\"1\" class=\"dataframe\">\n",
       "  <thead>\n",
       "    <tr style=\"text-align: right;\">\n",
       "      <th></th>\n",
       "      <th>Location</th>\n",
       "      <th>Station</th>\n",
       "      <th>ID</th>\n",
       "    </tr>\n",
       "  </thead>\n",
       "  <tbody>\n",
       "    <tr>\n",
       "      <th>8</th>\n",
       "      <td>(V02) (528) Albany, NY</td>\n",
       "      <td>528</td>\n",
       "      <td>528al</td>\n",
       "    </tr>\n",
       "    <tr>\n",
       "      <th>9</th>\n",
       "      <td>(V02) (528) Bath, NY</td>\n",
       "      <td>528</td>\n",
       "      <td>528ba</td>\n",
       "    </tr>\n",
       "    <tr>\n",
       "      <th>10</th>\n",
       "      <td>(V02) (528) Western New York, NY</td>\n",
       "      <td>528</td>\n",
       "      <td>528we</td>\n",
       "    </tr>\n",
       "    <tr>\n",
       "      <th>11</th>\n",
       "      <td>(V02) (528) Canandaigua, NY</td>\n",
       "      <td>528</td>\n",
       "      <td>528ca</td>\n",
       "    </tr>\n",
       "    <tr>\n",
       "      <th>12</th>\n",
       "      <td>(V02) (528) Syracuse, NY</td>\n",
       "      <td>528</td>\n",
       "      <td>528sy</td>\n",
       "    </tr>\n",
       "    <tr>\n",
       "      <th>79</th>\n",
       "      <td>(V15) (589) Columbia, MO</td>\n",
       "      <td>589</td>\n",
       "      <td>589co</td>\n",
       "    </tr>\n",
       "    <tr>\n",
       "      <th>80</th>\n",
       "      <td>(V15) (589) Kansas City, MO</td>\n",
       "      <td>589</td>\n",
       "      <td>589ka</td>\n",
       "    </tr>\n",
       "    <tr>\n",
       "      <th>81</th>\n",
       "      <td>(V15) (589) Eastern KS HCS, KS</td>\n",
       "      <td>589</td>\n",
       "      <td>589ea</td>\n",
       "    </tr>\n",
       "    <tr>\n",
       "      <th>82</th>\n",
       "      <td>(V15) (589) Wichita, KS</td>\n",
       "      <td>589</td>\n",
       "      <td>589wi</td>\n",
       "    </tr>\n",
       "    <tr>\n",
       "      <th>83</th>\n",
       "      <td>(V15) (657) Marion, IL</td>\n",
       "      <td>657</td>\n",
       "      <td>657ma</td>\n",
       "    </tr>\n",
       "    <tr>\n",
       "      <th>84</th>\n",
       "      <td>(V15) (657) Poplar Bluff, MO</td>\n",
       "      <td>657</td>\n",
       "      <td>657po</td>\n",
       "    </tr>\n",
       "    <tr>\n",
       "      <th>85</th>\n",
       "      <td>(V15) (657) St. Louis, MO</td>\n",
       "      <td>657</td>\n",
       "      <td>657st</td>\n",
       "    </tr>\n",
       "    <tr>\n",
       "      <th>137</th>\n",
       "      <td>(V23) (636) Central Iowa, IA</td>\n",
       "      <td>636</td>\n",
       "      <td>636ce</td>\n",
       "    </tr>\n",
       "    <tr>\n",
       "      <th>138</th>\n",
       "      <td>(V23) (636) Iowa City, IA</td>\n",
       "      <td>636</td>\n",
       "      <td>636io</td>\n",
       "    </tr>\n",
       "    <tr>\n",
       "      <th>139</th>\n",
       "      <td>(V23) (636) Nebraska��W Iowa, NE</td>\n",
       "      <td>636</td>\n",
       "      <td>636ne</td>\n",
       "    </tr>\n",
       "  </tbody>\n",
       "</table>\n",
       "</div>"
      ],
      "text/plain": [
       "                             Location Station     ID\n",
       "8              (V02) (528) Albany, NY     528  528al\n",
       "9                (V02) (528) Bath, NY     528  528ba\n",
       "10   (V02) (528) Western New York, NY     528  528we\n",
       "11        (V02) (528) Canandaigua, NY     528  528ca\n",
       "12           (V02) (528) Syracuse, NY     528  528sy\n",
       "79           (V15) (589) Columbia, MO     589  589co\n",
       "80        (V15) (589) Kansas City, MO     589  589ka\n",
       "81     (V15) (589) Eastern KS HCS, KS     589  589ea\n",
       "82            (V15) (589) Wichita, KS     589  589wi\n",
       "83             (V15) (657) Marion, IL     657  657ma\n",
       "84       (V15) (657) Poplar Bluff, MO     657  657po\n",
       "85          (V15) (657) St. Louis, MO     657  657st\n",
       "137      (V23) (636) Central Iowa, IA     636  636ce\n",
       "138         (V23) (636) Iowa City, IA     636  636io\n",
       "139  (V23) (636) Nebraska��W Iowa, NE     636  636ne"
      ]
     },
     "execution_count": 332,
     "metadata": {},
     "output_type": "execute_result"
    }
   ],
   "source": [
    "# Reference for duplicates I need to check out. \n",
    "master[master.duplicated(subset=\"Station\", keep=False)][[\"Location\",\"Station\",\"ID\"]]"
   ]
  },
  {
   "cell_type": "markdown",
   "metadata": {},
   "source": [
    "# Bring in November Complete 2016"
   ]
  },
  {
   "cell_type": "code",
   "execution_count": 333,
   "metadata": {
    "collapsed": false
   },
   "outputs": [],
   "source": [
    "def get_station(new_string):\n",
    "    try:\n",
    "        query = r\"^\\((V\\d\\d)\\) \\(([0-9,A-Z]{3,5})\"\n",
    "        m = re.search(query, new_string)\n",
    "        return m.group(2).upper()\n",
    "    except:\n",
    "        None\n",
    "        \n",
    "staff[\"Station\"] = staff[\"ORGANIZATION\"].apply(get_station)\n",
    "\n",
    "\n",
    "\n",
    "\n",
    "def make_df_2016(Type,Time,File):\n",
    "    Title = \"{}_{}\".format(Type,Time)\n",
    "    csv = pd.read_csv(File,\n",
    "                               usecols=[0,1,5,13,14,15],\n",
    "                               skiprows=[0], #skipping the original header\n",
    "                               names=[\"Location\",\"Appts_{}\".format(Title),\n",
    "                                      \"%_Appts_Over_30_{}\".format(Title),\n",
    "                                      \"PC_Wait_{}\".format(Title),\n",
    "                                      \"SC_Wait_{}\".format(Title),\"MH_Wait_{}\".format(Title)])\n",
    "    csv[\"Station\"] = csv[\"Location\"].apply(get_station)\n",
    "    return csv\n",
    "\n",
    "# Complete_1611 = make_df_2016(\"Complete\",\"1611\",\"Wait_Time/Completed_Cleaned/16_11_Wait.csv\")\n",
    "\n",
    "# ID = generate_IDs(Complete_1611)\n",
    "# Complete_1611[\"ID\"] = ID\n",
    "# Complete_1611 = Complete_1611.dropna(subset = [\"ID\"])\n",
    "# master = master.merge(Complete_1611,on=\"ID\",how='left')\n",
    "# master[\"Station\"] = master[\"Station_x\"]\n",
    "# master[\"Location\"] = master[\"Location_x\"]\n",
    "# master= master.drop(\"Station_x\",1).drop(\"Station_y\",1).drop(\"Location_y\",1).drop(\"Location_x\",1)\n"
   ]
  },
  {
   "cell_type": "markdown",
   "metadata": {},
   "source": [
    "# Bring In November Pending 2016"
   ]
  },
  {
   "cell_type": "code",
   "execution_count": null,
   "metadata": {
    "collapsed": true
   },
   "outputs": [],
   "source": []
  },
  {
   "cell_type": "code",
   "execution_count": null,
   "metadata": {
    "collapsed": true
   },
   "outputs": [],
   "source": []
  },
  {
   "cell_type": "markdown",
   "metadata": {},
   "source": [
    "## Bring in Hiring\n",
    "\n",
    "I'm going to have an issue dealing with the stations with the same ID. \n",
    "\n",
    "I made a new CSV called Hiring_Clean where I put the appropriate ID in a new ID column. I put ignore for those that were impossible to join accurately. "
   ]
  },
  {
   "cell_type": "code",
   "execution_count": 334,
   "metadata": {
    "collapsed": false
   },
   "outputs": [
    {
     "data": {
      "text/plain": [
       "Index([u'Appts_Pending_1412', u'%_Appts_Over_30_Pending_1412',\n",
       "       u'PC_Wait_Pending_1412', u'SC_Wait_Pending_1412',\n",
       "       u'MH_Wait_Pending_1412', u'ID', u'ORGANIZATION', u'MAY-FY11',\n",
       "       u'MAY-FY12', u'MAY-FY13', u'MAY-FY14', u'MAY-FY15', u'MAY-FY16',\n",
       "       u'Appts_Pending_1610', u'%_Appts_Over_30_Pending_1610',\n",
       "       u'PC_Wait_Pending_1610', u'SC_Wait_Pending_1610',\n",
       "       u'MH_Wait_Pending_1610', u'Appts_Complete_1608',\n",
       "       u'%_Appts_Over_30_Complete_1608', u'PC_Wait_Complete_1608',\n",
       "       u'SC_Wait_Complete_1608', u'MH_Wait_Complete_1608', u'Station',\n",
       "       u'Location'],\n",
       "      dtype='object')"
      ]
     },
     "execution_count": 334,
     "metadata": {},
     "output_type": "execute_result"
    }
   ],
   "source": [
    "master.columns"
   ]
  },
  {
   "cell_type": "code",
   "execution_count": 335,
   "metadata": {
    "collapsed": false
   },
   "outputs": [],
   "source": [
    "#Hiring = pd.read_csv(\"Hiring/Hiring_Clean.csv\")\n",
    "#Hiring = Hiring[Hiring[\"ID\"]!= \"Ignore\"] \n",
    "#Hiring_summed = pd.pivot_table(Hiring,index=[\"Station\"],values=[\"NbrEmps\"],aggfunc=np.sum).reset_index()\n",
    "#Hiring_summed = Hiring_summed.rename(columns = {\"NbrEmps\":\"Choice_Hires\"})"
   ]
  },
  {
   "cell_type": "code",
   "execution_count": 336,
   "metadata": {
    "collapsed": false
   },
   "outputs": [],
   "source": [
    "#Hiring = pd.read_csv(\"Hiring/Hiring_Clean.csv\")\n",
    "Hiring = pd.read_csv(\"Data/Hiring/Hiring_Clean_All_Positions.csv\")\n",
    "for_dups = []\n",
    "for index, row in Hiring.iterrows():\n",
    "    if type(row[\"ID\"]) == str:\n",
    "        for_dups.append(row[\"ID\"])\n",
    "    else:\n",
    "        for_dups.append(row[\"Station\"])\n",
    "Hiring[\"for_dups\"] = for_dups\n",
    "Hiring_summed = pd.pivot_table(Hiring,index=[\"for_dups\"],values=[\"NbrEmps\"],aggfunc=np.sum).reset_index()\n",
    "Hiring_summed = Hiring_summed.rename(columns = {\"NbrEmps\":\"Choice_Hires\"})\n",
    "\n",
    "\n",
    "dup_list = master[master.duplicated(subset=\"Station\",keep=False)][\"ID\"].tolist()\n",
    "dup_list.append(\"612n.\")\n",
    "dup_list.append(\"537je\")\n",
    "\n",
    "for_dups = []\n",
    "for index, row in master.iterrows():\n",
    "    if row[\"ID\"] in dup_list:\n",
    "        for_dups.append(row[\"ID\"])\n",
    "    else:\n",
    "        for_dups.append(row[\"Station\"])\n",
    "master[\"for_dups\"] = for_dups"
   ]
  },
  {
   "cell_type": "code",
   "execution_count": 337,
   "metadata": {
    "collapsed": false
   },
   "outputs": [
    {
     "data": {
      "text/plain": [
       "Index([u'Appts_Pending_1412', u'%_Appts_Over_30_Pending_1412',\n",
       "       u'PC_Wait_Pending_1412', u'SC_Wait_Pending_1412',\n",
       "       u'MH_Wait_Pending_1412', u'ID', u'ORGANIZATION', u'MAY-FY11',\n",
       "       u'MAY-FY12', u'MAY-FY13', u'MAY-FY14', u'MAY-FY15', u'MAY-FY16',\n",
       "       u'Appts_Pending_1610', u'%_Appts_Over_30_Pending_1610',\n",
       "       u'PC_Wait_Pending_1610', u'SC_Wait_Pending_1610',\n",
       "       u'MH_Wait_Pending_1610', u'Appts_Complete_1608',\n",
       "       u'%_Appts_Over_30_Complete_1608', u'PC_Wait_Complete_1608',\n",
       "       u'SC_Wait_Complete_1608', u'MH_Wait_Complete_1608', u'Station',\n",
       "       u'Location', u'for_dups'],\n",
       "      dtype='object')"
      ]
     },
     "execution_count": 337,
     "metadata": {},
     "output_type": "execute_result"
    }
   ],
   "source": [
    "master.columns"
   ]
  },
  {
   "cell_type": "code",
   "execution_count": 338,
   "metadata": {
    "collapsed": false
   },
   "outputs": [
    {
     "data": {
      "text/html": [
       "<div>\n",
       "<table border=\"1\" class=\"dataframe\">\n",
       "  <thead>\n",
       "    <tr style=\"text-align: right;\">\n",
       "      <th></th>\n",
       "      <th>Appts_Pending_1412</th>\n",
       "      <th>%_Appts_Over_30_Pending_1412</th>\n",
       "      <th>PC_Wait_Pending_1412</th>\n",
       "      <th>SC_Wait_Pending_1412</th>\n",
       "      <th>MH_Wait_Pending_1412</th>\n",
       "      <th>ID</th>\n",
       "      <th>ORGANIZATION</th>\n",
       "      <th>MAY-FY11</th>\n",
       "      <th>MAY-FY12</th>\n",
       "      <th>MAY-FY13</th>\n",
       "      <th>...</th>\n",
       "      <th>MH_Wait_Pending_1610</th>\n",
       "      <th>Appts_Complete_1608</th>\n",
       "      <th>%_Appts_Over_30_Complete_1608</th>\n",
       "      <th>PC_Wait_Complete_1608</th>\n",
       "      <th>SC_Wait_Complete_1608</th>\n",
       "      <th>MH_Wait_Complete_1608</th>\n",
       "      <th>Station</th>\n",
       "      <th>Location</th>\n",
       "      <th>for_dups</th>\n",
       "      <th>Choice_Hires</th>\n",
       "    </tr>\n",
       "  </thead>\n",
       "  <tbody>\n",
       "    <tr>\n",
       "      <th>0</th>\n",
       "      <td>42899</td>\n",
       "      <td>2.70%</td>\n",
       "      <td>2.51</td>\n",
       "      <td>4.07</td>\n",
       "      <td>2.77</td>\n",
       "      <td>402to</td>\n",
       "      <td>(V01) (402) HCS TOGUS ME</td>\n",
       "      <td>1293.0</td>\n",
       "      <td>1272.0</td>\n",
       "      <td>1248.0</td>\n",
       "      <td>...</td>\n",
       "      <td>3.62</td>\n",
       "      <td>28683</td>\n",
       "      <td>0.0134</td>\n",
       "      <td>4.96</td>\n",
       "      <td>2.73</td>\n",
       "      <td>1.87</td>\n",
       "      <td>402</td>\n",
       "      <td>(V01) (402) Togus, ME</td>\n",
       "      <td>402</td>\n",
       "      <td>47.0</td>\n",
       "    </tr>\n",
       "    <tr>\n",
       "      <th>1</th>\n",
       "      <td>23709</td>\n",
       "      <td>2.16%</td>\n",
       "      <td>3.92</td>\n",
       "      <td>3.95</td>\n",
       "      <td>0.79</td>\n",
       "      <td>405wh</td>\n",
       "      <td>(V01) (405) MROC WHT RIVER JCT VT</td>\n",
       "      <td>852.0</td>\n",
       "      <td>853.0</td>\n",
       "      <td>881.0</td>\n",
       "      <td>...</td>\n",
       "      <td>1.86</td>\n",
       "      <td>21581</td>\n",
       "      <td>0.0177</td>\n",
       "      <td>3.62</td>\n",
       "      <td>4.08</td>\n",
       "      <td>1.32</td>\n",
       "      <td>405</td>\n",
       "      <td>(V01) (405) White River Junction, VT</td>\n",
       "      <td>405</td>\n",
       "      <td>47.0</td>\n",
       "    </tr>\n",
       "    <tr>\n",
       "      <th>2</th>\n",
       "      <td>8105</td>\n",
       "      <td>5.17%</td>\n",
       "      <td>1.12</td>\n",
       "      <td>10.53</td>\n",
       "      <td>4.41</td>\n",
       "      <td>518be</td>\n",
       "      <td>(V01) (518) MC BEDFORD MA</td>\n",
       "      <td>1313.0</td>\n",
       "      <td>1265.0</td>\n",
       "      <td>1245.0</td>\n",
       "      <td>...</td>\n",
       "      <td>3.07</td>\n",
       "      <td>13170</td>\n",
       "      <td>0.0115</td>\n",
       "      <td>0.43</td>\n",
       "      <td>6.01</td>\n",
       "      <td>0.76</td>\n",
       "      <td>518</td>\n",
       "      <td>(V01) (518) Bedford, MA</td>\n",
       "      <td>518</td>\n",
       "      <td>13.0</td>\n",
       "    </tr>\n",
       "    <tr>\n",
       "      <th>3</th>\n",
       "      <td>85625</td>\n",
       "      <td>1.71%</td>\n",
       "      <td>1.66</td>\n",
       "      <td>3.53</td>\n",
       "      <td>3.92</td>\n",
       "      <td>523va</td>\n",
       "      <td>(V01) (523) HCS BOSTON MA</td>\n",
       "      <td>4022.0</td>\n",
       "      <td>4011.0</td>\n",
       "      <td>4041.0</td>\n",
       "      <td>...</td>\n",
       "      <td>3.08</td>\n",
       "      <td>46306</td>\n",
       "      <td>0.0271</td>\n",
       "      <td>7.47</td>\n",
       "      <td>5.75</td>\n",
       "      <td>2.17</td>\n",
       "      <td>523</td>\n",
       "      <td>(V01) (523) VA Boston HCS, MA</td>\n",
       "      <td>523</td>\n",
       "      <td>86.0</td>\n",
       "    </tr>\n",
       "    <tr>\n",
       "      <th>4</th>\n",
       "      <td>19511</td>\n",
       "      <td>2.64%</td>\n",
       "      <td>2.66</td>\n",
       "      <td>4.21</td>\n",
       "      <td>5.13</td>\n",
       "      <td>608ma</td>\n",
       "      <td>(V01) (608) MC MANCHESTER NH</td>\n",
       "      <td>663.0</td>\n",
       "      <td>683.0</td>\n",
       "      <td>691.0</td>\n",
       "      <td>...</td>\n",
       "      <td>5.21</td>\n",
       "      <td>18849</td>\n",
       "      <td>0.0160</td>\n",
       "      <td>4.99</td>\n",
       "      <td>2.93</td>\n",
       "      <td>2.94</td>\n",
       "      <td>608</td>\n",
       "      <td>(V01) (608) Manchester, NH</td>\n",
       "      <td>608</td>\n",
       "      <td>48.0</td>\n",
       "    </tr>\n",
       "  </tbody>\n",
       "</table>\n",
       "<p>5 rows × 27 columns</p>\n",
       "</div>"
      ],
      "text/plain": [
       "   Appts_Pending_1412 %_Appts_Over_30_Pending_1412  PC_Wait_Pending_1412  \\\n",
       "0               42899                        2.70%                  2.51   \n",
       "1               23709                        2.16%                  3.92   \n",
       "2                8105                        5.17%                  1.12   \n",
       "3               85625                        1.71%                  1.66   \n",
       "4               19511                        2.64%                  2.66   \n",
       "\n",
       "   SC_Wait_Pending_1412  MH_Wait_Pending_1412     ID  \\\n",
       "0                  4.07                  2.77  402to   \n",
       "1                  3.95                  0.79  405wh   \n",
       "2                 10.53                  4.41  518be   \n",
       "3                  3.53                  3.92  523va   \n",
       "4                  4.21                  5.13  608ma   \n",
       "\n",
       "                        ORGANIZATION  MAY-FY11  MAY-FY12  MAY-FY13  \\\n",
       "0           (V01) (402) HCS TOGUS ME    1293.0    1272.0    1248.0   \n",
       "1  (V01) (405) MROC WHT RIVER JCT VT     852.0     853.0     881.0   \n",
       "2          (V01) (518) MC BEDFORD MA    1313.0    1265.0    1245.0   \n",
       "3          (V01) (523) HCS BOSTON MA    4022.0    4011.0    4041.0   \n",
       "4       (V01) (608) MC MANCHESTER NH     663.0     683.0     691.0   \n",
       "\n",
       "       ...       MH_Wait_Pending_1610  Appts_Complete_1608  \\\n",
       "0      ...                       3.62                28683   \n",
       "1      ...                       1.86                21581   \n",
       "2      ...                       3.07                13170   \n",
       "3      ...                       3.08                46306   \n",
       "4      ...                       5.21                18849   \n",
       "\n",
       "   %_Appts_Over_30_Complete_1608  PC_Wait_Complete_1608 SC_Wait_Complete_1608  \\\n",
       "0                         0.0134                   4.96                  2.73   \n",
       "1                         0.0177                   3.62                  4.08   \n",
       "2                         0.0115                   0.43                  6.01   \n",
       "3                         0.0271                   7.47                  5.75   \n",
       "4                         0.0160                   4.99                  2.93   \n",
       "\n",
       "   MH_Wait_Complete_1608  Station                              Location  \\\n",
       "0                   1.87      402                 (V01) (402) Togus, ME   \n",
       "1                   1.32      405  (V01) (405) White River Junction, VT   \n",
       "2                   0.76      518               (V01) (518) Bedford, MA   \n",
       "3                   2.17      523         (V01) (523) VA Boston HCS, MA   \n",
       "4                   2.94      608            (V01) (608) Manchester, NH   \n",
       "\n",
       "   for_dups  Choice_Hires  \n",
       "0       402          47.0  \n",
       "1       405          47.0  \n",
       "2       518          13.0  \n",
       "3       523          86.0  \n",
       "4       608          48.0  \n",
       "\n",
       "[5 rows x 27 columns]"
      ]
     },
     "execution_count": 338,
     "metadata": {},
     "output_type": "execute_result"
    }
   ],
   "source": [
    "master = master.merge(Hiring_summed, on=\"for_dups\", how=\"left\")\n",
    "master.head()"
   ]
  },
  {
   "cell_type": "code",
   "execution_count": 339,
   "metadata": {
    "collapsed": false
   },
   "outputs": [
    {
     "name": "stdout",
     "output_type": "stream",
     "text": [
      "Hurray! We didn't lose any rows.\n"
     ]
    }
   ],
   "source": [
    "check_len(master)"
   ]
  },
  {
   "cell_type": "markdown",
   "metadata": {},
   "source": [
    "## Bring in Leadership\n",
    "\n",
    "Also creating a version of the CSV to deal with duplicate stations."
   ]
  },
  {
   "cell_type": "code",
   "execution_count": 340,
   "metadata": {
    "collapsed": false
   },
   "outputs": [],
   "source": [
    "Leadership = pd.read_csv(\"Leadership/Leadership_cleaned.csv\")\n",
    "Leadership = Leadership[Leadership[\"ID\"] != \"Ignore\"]\n",
    "Leadership[\"Vacancy\"] = Leadership[\"Acting/Detailed\"] == \"VACANT\"\n",
    "Leadership[\"Interim\"] = Leadership[\"Acting/Detailed\"] != \"VACANT\"\n",
    "\n",
    "\n",
    "# For easy merging\n",
    "\n",
    "\n",
    "for_dups = []\n",
    "for index, row in Leadership.iterrows():\n",
    "    if type(row[\"ID\"]) == str:\n",
    "        for_dups.append(row[\"ID\"])\n",
    "    else:\n",
    "        for_dups.append(row[\"Station\"])\n",
    "Leadership[\"for_dups\"] = for_dups\n",
    "\n",
    "Leadership_summed = pd.pivot_table(Leadership, index=[\"for_dups\"],values=[\"Vacancy\",\"Interim\"],aggfunc=np.sum).reset_index()\n",
    "#Leadership_summed = Leadership_summed.merge(Leadership[[\"Station\",\"ID\"]], on=\"Station\")\n",
    "\n",
    "\n",
    "\n",
    "\n",
    "\n",
    "\n",
    "\n",
    "\n",
    "\n",
    "\n"
   ]
  },
  {
   "cell_type": "code",
   "execution_count": 341,
   "metadata": {
    "collapsed": false
   },
   "outputs": [],
   "source": [
    "master = master.merge(Leadership_summed, on=\"for_dups\", how=\"left\")\n",
    "master[\"Interim\"] = master[\"Interim\"].fillna(0)\n",
    "master[\"Vacancy\"] = master[\"Vacancy\"].fillna(0)"
   ]
  },
  {
   "cell_type": "code",
   "execution_count": 342,
   "metadata": {
    "collapsed": false
   },
   "outputs": [
    {
     "name": "stdout",
     "output_type": "stream",
     "text": [
      "Hurray! We didn't lose any rows.\n"
     ]
    }
   ],
   "source": [
    "check_len(master)"
   ]
  },
  {
   "cell_type": "code",
   "execution_count": 343,
   "metadata": {
    "collapsed": false
   },
   "outputs": [
    {
     "data": {
      "text/html": [
       "<div>\n",
       "<table border=\"1\" class=\"dataframe\">\n",
       "  <thead>\n",
       "    <tr style=\"text-align: right;\">\n",
       "      <th></th>\n",
       "      <th>Appts_Pending_1412</th>\n",
       "      <th>%_Appts_Over_30_Pending_1412</th>\n",
       "      <th>PC_Wait_Pending_1412</th>\n",
       "      <th>SC_Wait_Pending_1412</th>\n",
       "      <th>MH_Wait_Pending_1412</th>\n",
       "      <th>ID</th>\n",
       "      <th>ORGANIZATION</th>\n",
       "      <th>MAY-FY11</th>\n",
       "      <th>MAY-FY12</th>\n",
       "      <th>MAY-FY13</th>\n",
       "      <th>...</th>\n",
       "      <th>%_Appts_Over_30_Complete_1608</th>\n",
       "      <th>PC_Wait_Complete_1608</th>\n",
       "      <th>SC_Wait_Complete_1608</th>\n",
       "      <th>MH_Wait_Complete_1608</th>\n",
       "      <th>Station</th>\n",
       "      <th>Location</th>\n",
       "      <th>for_dups</th>\n",
       "      <th>Choice_Hires</th>\n",
       "      <th>Interim</th>\n",
       "      <th>Vacancy</th>\n",
       "    </tr>\n",
       "  </thead>\n",
       "  <tbody>\n",
       "    <tr>\n",
       "      <th>0</th>\n",
       "      <td>42899</td>\n",
       "      <td>2.70%</td>\n",
       "      <td>2.51</td>\n",
       "      <td>4.07</td>\n",
       "      <td>2.77</td>\n",
       "      <td>402to</td>\n",
       "      <td>(V01) (402) HCS TOGUS ME</td>\n",
       "      <td>1293.0</td>\n",
       "      <td>1272.0</td>\n",
       "      <td>1248.0</td>\n",
       "      <td>...</td>\n",
       "      <td>0.0134</td>\n",
       "      <td>4.96</td>\n",
       "      <td>2.73</td>\n",
       "      <td>1.87</td>\n",
       "      <td>402</td>\n",
       "      <td>(V01) (402) Togus, ME</td>\n",
       "      <td>402</td>\n",
       "      <td>47.0</td>\n",
       "      <td>0.0</td>\n",
       "      <td>1.0</td>\n",
       "    </tr>\n",
       "    <tr>\n",
       "      <th>1</th>\n",
       "      <td>23709</td>\n",
       "      <td>2.16%</td>\n",
       "      <td>3.92</td>\n",
       "      <td>3.95</td>\n",
       "      <td>0.79</td>\n",
       "      <td>405wh</td>\n",
       "      <td>(V01) (405) MROC WHT RIVER JCT VT</td>\n",
       "      <td>852.0</td>\n",
       "      <td>853.0</td>\n",
       "      <td>881.0</td>\n",
       "      <td>...</td>\n",
       "      <td>0.0177</td>\n",
       "      <td>3.62</td>\n",
       "      <td>4.08</td>\n",
       "      <td>1.32</td>\n",
       "      <td>405</td>\n",
       "      <td>(V01) (405) White River Junction, VT</td>\n",
       "      <td>405</td>\n",
       "      <td>47.0</td>\n",
       "      <td>0.0</td>\n",
       "      <td>0.0</td>\n",
       "    </tr>\n",
       "    <tr>\n",
       "      <th>2</th>\n",
       "      <td>8105</td>\n",
       "      <td>5.17%</td>\n",
       "      <td>1.12</td>\n",
       "      <td>10.53</td>\n",
       "      <td>4.41</td>\n",
       "      <td>518be</td>\n",
       "      <td>(V01) (518) MC BEDFORD MA</td>\n",
       "      <td>1313.0</td>\n",
       "      <td>1265.0</td>\n",
       "      <td>1245.0</td>\n",
       "      <td>...</td>\n",
       "      <td>0.0115</td>\n",
       "      <td>0.43</td>\n",
       "      <td>6.01</td>\n",
       "      <td>0.76</td>\n",
       "      <td>518</td>\n",
       "      <td>(V01) (518) Bedford, MA</td>\n",
       "      <td>518</td>\n",
       "      <td>13.0</td>\n",
       "      <td>0.0</td>\n",
       "      <td>1.0</td>\n",
       "    </tr>\n",
       "    <tr>\n",
       "      <th>3</th>\n",
       "      <td>85625</td>\n",
       "      <td>1.71%</td>\n",
       "      <td>1.66</td>\n",
       "      <td>3.53</td>\n",
       "      <td>3.92</td>\n",
       "      <td>523va</td>\n",
       "      <td>(V01) (523) HCS BOSTON MA</td>\n",
       "      <td>4022.0</td>\n",
       "      <td>4011.0</td>\n",
       "      <td>4041.0</td>\n",
       "      <td>...</td>\n",
       "      <td>0.0271</td>\n",
       "      <td>7.47</td>\n",
       "      <td>5.75</td>\n",
       "      <td>2.17</td>\n",
       "      <td>523</td>\n",
       "      <td>(V01) (523) VA Boston HCS, MA</td>\n",
       "      <td>523</td>\n",
       "      <td>86.0</td>\n",
       "      <td>0.0</td>\n",
       "      <td>0.0</td>\n",
       "    </tr>\n",
       "    <tr>\n",
       "      <th>4</th>\n",
       "      <td>19511</td>\n",
       "      <td>2.64%</td>\n",
       "      <td>2.66</td>\n",
       "      <td>4.21</td>\n",
       "      <td>5.13</td>\n",
       "      <td>608ma</td>\n",
       "      <td>(V01) (608) MC MANCHESTER NH</td>\n",
       "      <td>663.0</td>\n",
       "      <td>683.0</td>\n",
       "      <td>691.0</td>\n",
       "      <td>...</td>\n",
       "      <td>0.0160</td>\n",
       "      <td>4.99</td>\n",
       "      <td>2.93</td>\n",
       "      <td>2.94</td>\n",
       "      <td>608</td>\n",
       "      <td>(V01) (608) Manchester, NH</td>\n",
       "      <td>608</td>\n",
       "      <td>48.0</td>\n",
       "      <td>0.0</td>\n",
       "      <td>0.0</td>\n",
       "    </tr>\n",
       "  </tbody>\n",
       "</table>\n",
       "<p>5 rows × 29 columns</p>\n",
       "</div>"
      ],
      "text/plain": [
       "   Appts_Pending_1412 %_Appts_Over_30_Pending_1412  PC_Wait_Pending_1412  \\\n",
       "0               42899                        2.70%                  2.51   \n",
       "1               23709                        2.16%                  3.92   \n",
       "2                8105                        5.17%                  1.12   \n",
       "3               85625                        1.71%                  1.66   \n",
       "4               19511                        2.64%                  2.66   \n",
       "\n",
       "   SC_Wait_Pending_1412  MH_Wait_Pending_1412     ID  \\\n",
       "0                  4.07                  2.77  402to   \n",
       "1                  3.95                  0.79  405wh   \n",
       "2                 10.53                  4.41  518be   \n",
       "3                  3.53                  3.92  523va   \n",
       "4                  4.21                  5.13  608ma   \n",
       "\n",
       "                        ORGANIZATION  MAY-FY11  MAY-FY12  MAY-FY13   ...     \\\n",
       "0           (V01) (402) HCS TOGUS ME    1293.0    1272.0    1248.0   ...      \n",
       "1  (V01) (405) MROC WHT RIVER JCT VT     852.0     853.0     881.0   ...      \n",
       "2          (V01) (518) MC BEDFORD MA    1313.0    1265.0    1245.0   ...      \n",
       "3          (V01) (523) HCS BOSTON MA    4022.0    4011.0    4041.0   ...      \n",
       "4       (V01) (608) MC MANCHESTER NH     663.0     683.0     691.0   ...      \n",
       "\n",
       "   %_Appts_Over_30_Complete_1608  PC_Wait_Complete_1608  \\\n",
       "0                         0.0134                   4.96   \n",
       "1                         0.0177                   3.62   \n",
       "2                         0.0115                   0.43   \n",
       "3                         0.0271                   7.47   \n",
       "4                         0.0160                   4.99   \n",
       "\n",
       "   SC_Wait_Complete_1608  MH_Wait_Complete_1608 Station  \\\n",
       "0                   2.73                   1.87     402   \n",
       "1                   4.08                   1.32     405   \n",
       "2                   6.01                   0.76     518   \n",
       "3                   5.75                   2.17     523   \n",
       "4                   2.93                   2.94     608   \n",
       "\n",
       "                               Location  for_dups  Choice_Hires  Interim  \\\n",
       "0                 (V01) (402) Togus, ME       402          47.0      0.0   \n",
       "1  (V01) (405) White River Junction, VT       405          47.0      0.0   \n",
       "2               (V01) (518) Bedford, MA       518          13.0      0.0   \n",
       "3         (V01) (523) VA Boston HCS, MA       523          86.0      0.0   \n",
       "4            (V01) (608) Manchester, NH       608          48.0      0.0   \n",
       "\n",
       "   Vacancy  \n",
       "0      1.0  \n",
       "1      0.0  \n",
       "2      1.0  \n",
       "3      0.0  \n",
       "4      0.0  \n",
       "\n",
       "[5 rows x 29 columns]"
      ]
     },
     "execution_count": 343,
     "metadata": {},
     "output_type": "execute_result"
    }
   ],
   "source": [
    "master.head()"
   ]
  },
  {
   "cell_type": "code",
   "execution_count": 344,
   "metadata": {
    "collapsed": false
   },
   "outputs": [
    {
     "data": {
      "text/plain": [
       "Index([u'Appts_Pending_1412', u'%_Appts_Over_30_Pending_1412',\n",
       "       u'PC_Wait_Pending_1412', u'SC_Wait_Pending_1412',\n",
       "       u'MH_Wait_Pending_1412', u'ID', u'ORGANIZATION', u'MAY-FY11',\n",
       "       u'MAY-FY12', u'MAY-FY13', u'MAY-FY14', u'MAY-FY15', u'MAY-FY16',\n",
       "       u'Appts_Pending_1610', u'%_Appts_Over_30_Pending_1610',\n",
       "       u'PC_Wait_Pending_1610', u'SC_Wait_Pending_1610',\n",
       "       u'MH_Wait_Pending_1610', u'Appts_Complete_1608',\n",
       "       u'%_Appts_Over_30_Complete_1608', u'PC_Wait_Complete_1608',\n",
       "       u'SC_Wait_Complete_1608', u'MH_Wait_Complete_1608', u'Station',\n",
       "       u'Location', u'for_dups', u'Choice_Hires', u'Interim', u'Vacancy'],\n",
       "      dtype='object')"
      ]
     },
     "execution_count": 344,
     "metadata": {},
     "output_type": "execute_result"
    }
   ],
   "source": [
    "master.columns"
   ]
  },
  {
   "cell_type": "markdown",
   "metadata": {
    "collapsed": true
   },
   "source": [
    "## Bringing in Completed 2014"
   ]
  },
  {
   "cell_type": "code",
   "execution_count": 345,
   "metadata": {
    "collapsed": false,
    "scrolled": true
   },
   "outputs": [
    {
     "ename": "IOError",
     "evalue": "File Wait_Time/Completed_Cleaned/14_09_30_Wait_Complete.csv does not exist",
     "output_type": "error",
     "traceback": [
      "\u001b[0;31m---------------------------------------------------------------------------\u001b[0m",
      "\u001b[0;31mIOError\u001b[0m                                   Traceback (most recent call last)",
      "\u001b[0;32m<ipython-input-345-1709206ef814>\u001b[0m in \u001b[0;36m<module>\u001b[0;34m()\u001b[0m\n\u001b[0;32m----> 1\u001b[0;31m \u001b[0mpd\u001b[0m\u001b[0;34m.\u001b[0m\u001b[0mread_csv\u001b[0m\u001b[0;34m(\u001b[0m\u001b[0;34m\"Wait_Time/Completed_Cleaned/14_09_30_Wait_Complete.csv\"\u001b[0m\u001b[0;34m)\u001b[0m\u001b[0;34m.\u001b[0m\u001b[0mhead\u001b[0m\u001b[0;34m(\u001b[0m\u001b[0;34m)\u001b[0m\u001b[0;34m\u001b[0m\u001b[0m\n\u001b[0m",
      "\u001b[0;32m/usr/local/lib/python2.7/site-packages/pandas/io/parsers.pyc\u001b[0m in \u001b[0;36mparser_f\u001b[0;34m(filepath_or_buffer, sep, delimiter, header, names, index_col, usecols, squeeze, prefix, mangle_dupe_cols, dtype, engine, converters, true_values, false_values, skipinitialspace, skiprows, skipfooter, nrows, na_values, keep_default_na, na_filter, verbose, skip_blank_lines, parse_dates, infer_datetime_format, keep_date_col, date_parser, dayfirst, iterator, chunksize, compression, thousands, decimal, lineterminator, quotechar, quoting, escapechar, comment, encoding, dialect, tupleize_cols, error_bad_lines, warn_bad_lines, skip_footer, doublequote, delim_whitespace, as_recarray, compact_ints, use_unsigned, low_memory, buffer_lines, memory_map, float_precision)\u001b[0m\n\u001b[1;32m    560\u001b[0m                     skip_blank_lines=skip_blank_lines)\n\u001b[1;32m    561\u001b[0m \u001b[0;34m\u001b[0m\u001b[0m\n\u001b[0;32m--> 562\u001b[0;31m         \u001b[0;32mreturn\u001b[0m \u001b[0m_read\u001b[0m\u001b[0;34m(\u001b[0m\u001b[0mfilepath_or_buffer\u001b[0m\u001b[0;34m,\u001b[0m \u001b[0mkwds\u001b[0m\u001b[0;34m)\u001b[0m\u001b[0;34m\u001b[0m\u001b[0m\n\u001b[0m\u001b[1;32m    563\u001b[0m \u001b[0;34m\u001b[0m\u001b[0m\n\u001b[1;32m    564\u001b[0m     \u001b[0mparser_f\u001b[0m\u001b[0;34m.\u001b[0m\u001b[0m__name__\u001b[0m \u001b[0;34m=\u001b[0m \u001b[0mname\u001b[0m\u001b[0;34m\u001b[0m\u001b[0m\n",
      "\u001b[0;32m/usr/local/lib/python2.7/site-packages/pandas/io/parsers.pyc\u001b[0m in \u001b[0;36m_read\u001b[0;34m(filepath_or_buffer, kwds)\u001b[0m\n\u001b[1;32m    313\u001b[0m \u001b[0;34m\u001b[0m\u001b[0m\n\u001b[1;32m    314\u001b[0m     \u001b[0;31m# Create the parser.\u001b[0m\u001b[0;34m\u001b[0m\u001b[0;34m\u001b[0m\u001b[0m\n\u001b[0;32m--> 315\u001b[0;31m     \u001b[0mparser\u001b[0m \u001b[0;34m=\u001b[0m \u001b[0mTextFileReader\u001b[0m\u001b[0;34m(\u001b[0m\u001b[0mfilepath_or_buffer\u001b[0m\u001b[0;34m,\u001b[0m \u001b[0;34m**\u001b[0m\u001b[0mkwds\u001b[0m\u001b[0;34m)\u001b[0m\u001b[0;34m\u001b[0m\u001b[0m\n\u001b[0m\u001b[1;32m    316\u001b[0m \u001b[0;34m\u001b[0m\u001b[0m\n\u001b[1;32m    317\u001b[0m     \u001b[0;32mif\u001b[0m \u001b[0;34m(\u001b[0m\u001b[0mnrows\u001b[0m \u001b[0;32mis\u001b[0m \u001b[0;32mnot\u001b[0m \u001b[0mNone\u001b[0m\u001b[0;34m)\u001b[0m \u001b[0;32mand\u001b[0m \u001b[0;34m(\u001b[0m\u001b[0mchunksize\u001b[0m \u001b[0;32mis\u001b[0m \u001b[0;32mnot\u001b[0m \u001b[0mNone\u001b[0m\u001b[0;34m)\u001b[0m\u001b[0;34m:\u001b[0m\u001b[0;34m\u001b[0m\u001b[0m\n",
      "\u001b[0;32m/usr/local/lib/python2.7/site-packages/pandas/io/parsers.pyc\u001b[0m in \u001b[0;36m__init__\u001b[0;34m(self, f, engine, **kwds)\u001b[0m\n\u001b[1;32m    643\u001b[0m             \u001b[0mself\u001b[0m\u001b[0;34m.\u001b[0m\u001b[0moptions\u001b[0m\u001b[0;34m[\u001b[0m\u001b[0;34m'has_index_names'\u001b[0m\u001b[0;34m]\u001b[0m \u001b[0;34m=\u001b[0m \u001b[0mkwds\u001b[0m\u001b[0;34m[\u001b[0m\u001b[0;34m'has_index_names'\u001b[0m\u001b[0;34m]\u001b[0m\u001b[0;34m\u001b[0m\u001b[0m\n\u001b[1;32m    644\u001b[0m \u001b[0;34m\u001b[0m\u001b[0m\n\u001b[0;32m--> 645\u001b[0;31m         \u001b[0mself\u001b[0m\u001b[0;34m.\u001b[0m\u001b[0m_make_engine\u001b[0m\u001b[0;34m(\u001b[0m\u001b[0mself\u001b[0m\u001b[0;34m.\u001b[0m\u001b[0mengine\u001b[0m\u001b[0;34m)\u001b[0m\u001b[0;34m\u001b[0m\u001b[0m\n\u001b[0m\u001b[1;32m    646\u001b[0m \u001b[0;34m\u001b[0m\u001b[0m\n\u001b[1;32m    647\u001b[0m     \u001b[0;32mdef\u001b[0m \u001b[0mclose\u001b[0m\u001b[0;34m(\u001b[0m\u001b[0mself\u001b[0m\u001b[0;34m)\u001b[0m\u001b[0;34m:\u001b[0m\u001b[0;34m\u001b[0m\u001b[0m\n",
      "\u001b[0;32m/usr/local/lib/python2.7/site-packages/pandas/io/parsers.pyc\u001b[0m in \u001b[0;36m_make_engine\u001b[0;34m(self, engine)\u001b[0m\n\u001b[1;32m    797\u001b[0m     \u001b[0;32mdef\u001b[0m \u001b[0m_make_engine\u001b[0m\u001b[0;34m(\u001b[0m\u001b[0mself\u001b[0m\u001b[0;34m,\u001b[0m \u001b[0mengine\u001b[0m\u001b[0;34m=\u001b[0m\u001b[0;34m'c'\u001b[0m\u001b[0;34m)\u001b[0m\u001b[0;34m:\u001b[0m\u001b[0;34m\u001b[0m\u001b[0m\n\u001b[1;32m    798\u001b[0m         \u001b[0;32mif\u001b[0m \u001b[0mengine\u001b[0m \u001b[0;34m==\u001b[0m \u001b[0;34m'c'\u001b[0m\u001b[0;34m:\u001b[0m\u001b[0;34m\u001b[0m\u001b[0m\n\u001b[0;32m--> 799\u001b[0;31m             \u001b[0mself\u001b[0m\u001b[0;34m.\u001b[0m\u001b[0m_engine\u001b[0m \u001b[0;34m=\u001b[0m \u001b[0mCParserWrapper\u001b[0m\u001b[0;34m(\u001b[0m\u001b[0mself\u001b[0m\u001b[0;34m.\u001b[0m\u001b[0mf\u001b[0m\u001b[0;34m,\u001b[0m \u001b[0;34m**\u001b[0m\u001b[0mself\u001b[0m\u001b[0;34m.\u001b[0m\u001b[0moptions\u001b[0m\u001b[0;34m)\u001b[0m\u001b[0;34m\u001b[0m\u001b[0m\n\u001b[0m\u001b[1;32m    800\u001b[0m         \u001b[0;32melse\u001b[0m\u001b[0;34m:\u001b[0m\u001b[0;34m\u001b[0m\u001b[0m\n\u001b[1;32m    801\u001b[0m             \u001b[0;32mif\u001b[0m \u001b[0mengine\u001b[0m \u001b[0;34m==\u001b[0m \u001b[0;34m'python'\u001b[0m\u001b[0;34m:\u001b[0m\u001b[0;34m\u001b[0m\u001b[0m\n",
      "\u001b[0;32m/usr/local/lib/python2.7/site-packages/pandas/io/parsers.pyc\u001b[0m in \u001b[0;36m__init__\u001b[0;34m(self, src, **kwds)\u001b[0m\n\u001b[1;32m   1211\u001b[0m         \u001b[0mkwds\u001b[0m\u001b[0;34m[\u001b[0m\u001b[0;34m'allow_leading_cols'\u001b[0m\u001b[0;34m]\u001b[0m \u001b[0;34m=\u001b[0m \u001b[0mself\u001b[0m\u001b[0;34m.\u001b[0m\u001b[0mindex_col\u001b[0m \u001b[0;32mis\u001b[0m \u001b[0;32mnot\u001b[0m \u001b[0mFalse\u001b[0m\u001b[0;34m\u001b[0m\u001b[0m\n\u001b[1;32m   1212\u001b[0m \u001b[0;34m\u001b[0m\u001b[0m\n\u001b[0;32m-> 1213\u001b[0;31m         \u001b[0mself\u001b[0m\u001b[0;34m.\u001b[0m\u001b[0m_reader\u001b[0m \u001b[0;34m=\u001b[0m \u001b[0m_parser\u001b[0m\u001b[0;34m.\u001b[0m\u001b[0mTextReader\u001b[0m\u001b[0;34m(\u001b[0m\u001b[0msrc\u001b[0m\u001b[0;34m,\u001b[0m \u001b[0;34m**\u001b[0m\u001b[0mkwds\u001b[0m\u001b[0;34m)\u001b[0m\u001b[0;34m\u001b[0m\u001b[0m\n\u001b[0m\u001b[1;32m   1214\u001b[0m \u001b[0;34m\u001b[0m\u001b[0m\n\u001b[1;32m   1215\u001b[0m         \u001b[0;31m# XXX\u001b[0m\u001b[0;34m\u001b[0m\u001b[0;34m\u001b[0m\u001b[0m\n",
      "\u001b[0;32mpandas/parser.pyx\u001b[0m in \u001b[0;36mpandas.parser.TextReader.__cinit__ (pandas/parser.c:3427)\u001b[0;34m()\u001b[0m\n",
      "\u001b[0;32mpandas/parser.pyx\u001b[0m in \u001b[0;36mpandas.parser.TextReader._setup_parser_source (pandas/parser.c:6861)\u001b[0;34m()\u001b[0m\n",
      "\u001b[0;31mIOError\u001b[0m: File Wait_Time/Completed_Cleaned/14_09_30_Wait_Complete.csv does not exist"
     ]
    }
   ],
   "source": [
    "pd.read_csv(\"Wait_Time/Completed_Cleaned/14_09_30_Wait_Complete.csv\").head()"
   ]
  },
  {
   "cell_type": "code",
   "execution_count": null,
   "metadata": {
    "collapsed": false
   },
   "outputs": [],
   "source": [
    "def make_df_complete_2014(Type,Time,File):\n",
    "    Title = \"{}_{}\".format(Type,Time)\n",
    "    csv = pd.read_csv(File,\n",
    "                               usecols=[0,1,5,12,13,14],\n",
    "                               skiprows=[0], #skipping the original header\n",
    "                               names=[\"Location\",\"Appts_{}\".format(Title),\n",
    "                                      \"%_Appts_Over_30_{}\".format(Title),\n",
    "                                      \"PC_Wait_{}\".format(Title),\n",
    "                                      \"SC_Wait_{}\".format(Title),\"MH_Wait_{}\".format(Title)])\n",
    "    csv[\"Station\"] = csv[\"Location\"].apply(get_station)\n",
    "    return csv\n",
    "Complete_1409 = make_df_complete_2014(\"Complete\",\"1409\",\"Wait_Time/Completed_Cleaned/14_09_30_Wait_Complete.csv\")\n",
    "Complete_1409[\"ID\"] = generate_IDs(Complete_1409)\n",
    "Complete_1409"
   ]
  },
  {
   "cell_type": "code",
   "execution_count": null,
   "metadata": {
    "collapsed": false
   },
   "outputs": [],
   "source": [
    "for_dups = []\n",
    "for index, row in Complete_1409.iterrows():\n",
    "    if row[\"ID\"] in dup_list:\n",
    "        for_dups.append(row[\"ID\"])\n",
    "    else:\n",
    "        for_dups.append(row[\"Station\"])\n",
    "Complete_1409[\"for_dups\"] = for_dups"
   ]
  },
  {
   "cell_type": "code",
   "execution_count": null,
   "metadata": {
    "collapsed": false,
    "scrolled": true
   },
   "outputs": [],
   "source": [
    "columns_to_use = Complete_1409.columns.difference(master.columns).tolist()\n",
    "columns_to_use.append(\"for_dups\")\n",
    "\n",
    "master = master.merge(Complete_1409[columns_to_use], on=\"for_dups\", how=\"left\")\n",
    "master.columns\n",
    "\n",
    "\n",
    "\n",
    "\n"
   ]
  },
  {
   "cell_type": "code",
   "execution_count": null,
   "metadata": {
    "collapsed": false
   },
   "outputs": [],
   "source": [
    "master.head()"
   ]
  },
  {
   "cell_type": "code",
   "execution_count": null,
   "metadata": {
    "collapsed": false
   },
   "outputs": [],
   "source": [
    "check_len(master)    "
   ]
  },
  {
   "cell_type": "markdown",
   "metadata": {},
   "source": [
    "# Turnover"
   ]
  },
  {
   "cell_type": "code",
   "execution_count": null,
   "metadata": {
    "collapsed": false
   },
   "outputs": [],
   "source": [
    "turnover = pd.read_csv(\"Turnover/Turnover_Physician.csv\",na_values=\"-\")\n",
    "# to drop national numbers and visn\n",
    "turnover = turnover[turnover[\"Organization\"].str.len() > 5]\n",
    "\n",
    "turnover[\"Station\"]= turnover[\"Organization\"].apply(get_station)\n",
    "\n",
    "for_dups = []\n",
    "for index, row in turnover.iterrows():\n",
    "    if type(row[\"ID\"]) == str:\n",
    "        for_dups.append(row[\"ID\"])\n",
    "    else:\n",
    "        for_dups.append(row[\"Station\"])\n",
    "turnover[\"for_dups\"] = for_dups\n",
    "\n",
    "\n",
    "turnover.head()"
   ]
  },
  {
   "cell_type": "markdown",
   "metadata": {},
   "source": [
    "### Not merging in all of turnover\n",
    "\n",
    "To do this would create a massive number of columns. Instead, it makes more sense to merge filtered versions in on a case by case basis.\n",
    "\n",
    "But...it does make sense to merge in specialty "
   ]
  },
  {
   "cell_type": "code",
   "execution_count": null,
   "metadata": {
    "collapsed": true
   },
   "outputs": [],
   "source": [
    "turnover.to_csv(\"turnover/Turnover_Physician_For_Merging.csv\")"
   ]
  },
  {
   "cell_type": "code",
   "execution_count": null,
   "metadata": {
    "collapsed": false
   },
   "outputs": [],
   "source": [
    "\n",
    "physician_turnover = pd.read_csv(\"Turnover/Turnover_Physician_For_Merging.csv\",na_values=\"-\",\n",
    "                           usecols=[2,3,4,5,6,7,10],\n",
    "                           skiprows=[0], #skipping the original header\n",
    "                           names=[\"Specialty\",\"Physician_Turnover_FY11\",\"Physician_Turnover_FY12\",\n",
    "                                  \"Physician_Turnover_FY13\",\"Physician_Turnover_FY14\",\"Physician_Turnover_FY15\",\n",
    "                                  \"for_dups\"])\n",
    "physician_turnover = physician_turnover[physician_turnover[\"Specialty\"]==\"0602 Physician (All Specialties)\"].drop(\"Specialty\",1)\n",
    "master = master.merge(physician_turnover,on=\"for_dups\",how=\"left\")"
   ]
  },
  {
   "cell_type": "markdown",
   "metadata": {},
   "source": [
    "# Looking at pyschiatrists"
   ]
  },
  {
   "cell_type": "code",
   "execution_count": null,
   "metadata": {
    "collapsed": false
   },
   "outputs": [],
   "source": [
    "psychiatrists_hiring = pd.read_csv(\"Hiring/Hiring_Psychiatrist.csv\")\n",
    "psychiatrists_hiring\n",
    "for_dups = []\n",
    "for index, row in psychiatrists_hiring.iterrows():\n",
    "    if type(row[\"ID\"]) == str:\n",
    "        for_dups.append(row[\"ID\"])\n",
    "    else:\n",
    "        for_dups.append(row[\"Station\"])\n",
    "psychiatrists_hiring[\"for_dups\"] = for_dups\n",
    "psychiatrists_hiring[\"NbrPsychiatrists\"] = psychiatrists_hiring[\"NbrEmps\"]\n",
    "\n",
    "master = master.merge(psychiatrists_hiring[[\"NbrPsychiatrists\",\"for_dups\"]], on=\"for_dups\", how=\"left\")\n"
   ]
  },
  {
   "cell_type": "markdown",
   "metadata": {},
   "source": [
    "# Fixing Percents"
   ]
  },
  {
   "cell_type": "code",
   "execution_count": null,
   "metadata": {
    "collapsed": false
   },
   "outputs": [],
   "source": [
    "master = master.applymap(change_percent)"
   ]
  },
  {
   "cell_type": "markdown",
   "metadata": {},
   "source": [
    "# Self Generated Columns"
   ]
  },
  {
   "cell_type": "code",
   "execution_count": null,
   "metadata": {
    "collapsed": false
   },
   "outputs": [],
   "source": [
    "# Appts\n",
    "master[\"Pending_Increase\"] = master[\"Appts_Pending_1610\"] - master[\"Appts_Pending_1412\"]\n",
    "master[\"Pending_Increase_%\"] = (master[\"Pending_Increase\"]/master[\"Appts_Pending_1412\"])*100\n",
    "master[\"Complete_Increase\"] = master[\"Appts_Complete_1608\"] - master[\"Appts_Complete_1409\"]\n",
    "master[\"Complete_Increase_%\"] = (master[\"Complete_Increase\"]/master[\"Appts_Complete_1409\"])*100\n",
    "master[\"Complete_Pending_Appts_Diff_14\"] = master[\"Appts_Pending_1412\"] - master[\"Appts_Complete_1409\"]\n",
    "master[\"Complete_Pending_Appts_Diff_16\"] = master[\"Appts_Pending_1610\"] - master[\"Appts_Complete_1608\"]\n",
    "\n",
    "master[\"Complete_Pending_Appts_Diff_14_%\"] = ((master[\"Appts_Pending_1412\"] - master[\"Appts_Complete_1409\"])/master[\"Appts_Complete_1409\"])*100\n",
    "master[\"Complete_Pending_Appts_Diff_16_%\"] = ((master[\"Appts_Pending_1610\"] - master[\"Appts_Complete_1608\"])/master[\"Appts_Complete_1608\"])*100\n",
    "\n",
    "\n",
    "\n",
    "\n",
    "master[\"Complete_Pending_Gap_Increase_%\"] = (master[\"Complete_Pending_Appts_Diff_16\"] -\n",
    "                                             master[\"Complete_Pending_Appts_Diff_14\"]) / master[\"Complete_Pending_Appts_Diff_14\"]\n",
    "\n",
    "# Leadership\n",
    "master[\"Missing_Leadership\"] = master[\"Vacancy\"] + master[\"Interim\"]\n",
    "\n",
    "#Staff\n",
    "master[\"Staff_11_To_12_Increase\"] = master[\"MAY-FY12\"] - master[\"MAY-FY11\"]\n",
    "master[\"Staff_11_To_12_Increase_%\"] = (master[\"Staff_11_To_12_Increase\"]/master[\"MAY-FY12\"])*100\n",
    "\n",
    "master[\"Staff_12_To_13_Increase\"] = master[\"MAY-FY13\"] - master[\"MAY-FY12\"]\n",
    "master[\"Staff_12_To_13_Increase_%\"] = (master[\"Staff_12_To_13_Increase\"]/master[\"MAY-FY13\"])*100\n",
    "\n",
    "master[\"Staff_13_To_14_Increase\"] = master[\"MAY-FY14\"] - master[\"MAY-FY13\"]\n",
    "master[\"Staff_13_To_14_Increase_%\"] = (master[\"Staff_13_To_14_Increase\"]/master[\"MAY-FY14\"])*100\n",
    "\n",
    "master[\"Staff_14_To_15_Increase\"] = master[\"MAY-FY15\"] - master[\"MAY-FY14\"]\n",
    "master[\"Staff_14_To_15_Increase_%\"] = (master[\"Staff_14_To_15_Increase\"]/master[\"MAY-FY15\"])*100\n",
    "\n",
    "master[\"Staff_15_To_16_Increase\"] = master[\"MAY-FY16\"] - master[\"MAY-FY15\"]\n",
    "master[\"Staff_15_To_16_Increase_%\"] = (master[\"Staff_15_To_16_Increase\"]/master[\"MAY-FY16\"])*100\n",
    "\n",
    "master[\"Staff_14_To_16_Increase\"] = master[\"MAY-FY16\"] - master[\"MAY-FY14\"]\n",
    "master[\"Staff_14_To_16_Increase_%\"] = (master[\"Staff_14_To_16_Increase\"]/master[\"MAY-FY16\"])*100\n",
    "\n",
    "# Hires\n",
    "master[\"Choice_Increase_%\"] = master[\"Choice_Hires\"]/master[\"MAY-FY14\"]\n",
    "master[\"Choice_Staff_Dif\"] = master[\"Staff_14_To_16_Increase\"] - master[\"Choice_Hires\"] \n",
    "master[\"Choice_Increase_%_PC_Wait_Complete_1409_Ratio\"] = master[\"PC_Wait_Complete_1409\"]/master[\"Choice_Increase_%\"]\n",
    "master[\"Choice_Increase_%_PC_Wait_Pending_1412_Ratio\"] = master[\"PC_Wait_Pending_1412\"]/master[\"Choice_Increase_%\"]\n",
    "\n",
    "# Wait Times\n",
    "master[\"PC_Wait_Pending_Increase\"] = master[\"PC_Wait_Pending_1610\"] - master[\"PC_Wait_Pending_1412\"]\n",
    "master[\"PC_Wait_Pending_Increase_%\"] = (master[\"PC_Wait_Pending_Increase\"]/master[\"PC_Wait_Pending_1412\"])*100\n",
    "\n",
    "master[\"PC_Wait_Complete_Increase\"] = master[\"PC_Wait_Complete_1608\"] - master[\"PC_Wait_Complete_1409\"]\n",
    "master[\"PC_Wait_Complete_Increase_%\"] = (master[\"PC_Wait_Complete_Increase\"]/master[\"PC_Wait_Complete_1409\"])*100\n",
    "\n",
    "master[\"SC_Wait_Pending_Increase\"] = master[\"SC_Wait_Pending_1610\"] - master[\"SC_Wait_Pending_1412\"]\n",
    "master[\"SC_Wait_Pending_Increase_%\"] = (master[\"SC_Wait_Pending_Increase\"]/master[\"PC_Wait_Pending_1412\"])*100\n",
    "\n",
    "master[\"SC_Wait_Complete_Increase\"] = master[\"SC_Wait_Complete_1608\"] - master[\"SC_Wait_Complete_1409\"]\n",
    "master[\"SC_Wait_Complete_Increase_%\"] = (master[\"SC_Wait_Complete_Increase\"]/master[\"SC_Wait_Complete_1409\"])*100\n",
    "\n",
    "master[\"MH_Wait_Pending_Increase\"] = master[\"MH_Wait_Pending_1610\"] - master[\"MH_Wait_Pending_1412\"]\n",
    "master[\"MH_Wait_Pending_Increase_%\"] = (master[\"MH_Wait_Pending_Increase\"]/master[\"PC_Wait_Pending_1412\"])*100\n",
    "\n",
    "master[\"MH_Wait_Complete_Increase\"] = (master[\"MH_Wait_Complete_1608\"] - master[\"MH_Wait_Complete_1409\"])*100\n",
    "master[\"MH_Wait_Complete_Increase_%\"] = (master[\"MH_Wait_Complete_Increase\"]/master[\"MH_Wait_Complete_1409\"])*100\n",
    "\n",
    "# Staff size relative to appointments\n",
    "\n",
    "master[\"Staff_To_Appts_Pending_14\"] = master[\"MAY-FY14\"]/master[\"Appts_Pending_1412\"]\n",
    "master[\"Staff_To_Appts_Pending_16\"] = master[\"MAY-FY16\"]/master[\"Appts_Pending_1610\"]\n",
    "master[\"Staff_To_Appts_Complete_14\"] = master[\"MAY-FY14\"]/master[\"Appts_Complete_1409\"]\n",
    "master[\"Staff_To_Appts_Complete_16\"] = master[\"MAY-FY16\"]/master[\"Appts_Complete_1608\"]\n",
    "\n",
    "\n",
    "# Appointments Over 30\n",
    "\n",
    "master[\"Percentage_Point_Wait_Over_30_Increase_Pending\"] = master['%_Appts_Over_30_Pending_1610'] - master['%_Appts_Over_30_Pending_1412']\n",
    "master[\"Percentage_Point_Wait_Over_30_Increase_Complete\"] = master['%_Appts_Over_30_Complete_1608'] - master['%_Appts_Over_30_Complete_1409']\n",
    "\n",
    "# Get State\n",
    "\n",
    "master[\"State\"] = master[\"Location\"].apply(get_state)\n",
    "\n"
   ]
  },
  {
   "cell_type": "markdown",
   "metadata": {},
   "source": [
    "# Export to CSV"
   ]
  },
  {
   "cell_type": "code",
   "execution_count": null,
   "metadata": {
    "collapsed": false
   },
   "outputs": [],
   "source": [
    "master.to_csv(\"Master/Master.csv\", index=False)"
   ]
  },
  {
   "cell_type": "code",
   "execution_count": null,
   "metadata": {
    "collapsed": false
   },
   "outputs": [],
   "source": [
    "master.columns"
   ]
  },
  {
   "cell_type": "code",
   "execution_count": null,
   "metadata": {
    "collapsed": false,
    "scrolled": false
   },
   "outputs": [],
   "source": [
    "for column in master.columns:\n",
    "    print column"
   ]
  },
  {
   "cell_type": "markdown",
   "metadata": {},
   "source": [
    "# National"
   ]
  },
  {
   "cell_type": "code",
   "execution_count": null,
   "metadata": {
    "collapsed": false
   },
   "outputs": [],
   "source": [
    "#Taken from VA site\n",
    "national_complete = pd.read_csv(\"Wait_Time/Completed_Cleaned/National_Complete.csv\")\n",
    "national_pending = pd.read_csv(\"Wait_Time/Pending_Clean/National_Pending.csv\")\n",
    "\n",
    "\n",
    "#used to strip time from Pending_Time\n",
    "def get_date(test):\n",
    "    test = test.strip('National: ')\n",
    "    return parser.parse(test)\n",
    "\n",
    "national_complete[\"date\"] = national_complete[\"Complete_Time\"].apply(get_date)\n",
    "national_pending[\"date\"] = national_pending[\"Pending_Time\"].apply(get_date)\n",
    "national_complete.sort(\"date\")\n",
    "national_pending.sort(\"date\")\n",
    "\n",
    "national_pending = national_pending.drop(20) #for some reason this was read in as 1989. Just dropping it\n",
    "\n",
    "#national_pending.to_csv(\"National/National_Pending.csv\",index=False)\n",
    "#national_complete.to_csv(\"National/National_Complete.csv\",index=False)\n",
    "\n",
    "#NC = national_complete[[\"Appts_Complete_National\",\"date\"]]\n",
    "#NP = national_pending[[\"Appts_Pending_National\",\"date\"]]"
   ]
  },
  {
   "cell_type": "code",
   "execution_count": null,
   "metadata": {
    "collapsed": true
   },
   "outputs": [],
   "source": []
  }
 ],
 "metadata": {
  "kernelspec": {
   "display_name": "Python 2",
   "language": "python",
   "name": "python2"
  },
  "language_info": {
   "codemirror_mode": {
    "name": "ipython",
    "version": 2
   },
   "file_extension": ".py",
   "mimetype": "text/x-python",
   "name": "python",
   "nbconvert_exporter": "python",
   "pygments_lexer": "ipython2",
   "version": "2.7.12"
  }
 },
 "nbformat": 4,
 "nbformat_minor": 1
}
