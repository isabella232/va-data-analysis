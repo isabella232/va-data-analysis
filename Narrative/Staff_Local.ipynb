{
 "cells": [
  {
   "cell_type": "code",
   "execution_count": 164,
   "metadata": {
    "collapsed": true
   },
   "outputs": [],
   "source": [
    "import pandas as pd\n",
    "\n",
    "%matplotlib inline\n",
    "\n",
    "import matplotlib\n",
    "import numpy as np\n",
    "import matplotlib.pyplot as plt\n",
    "import re"
   ]
  },
  {
   "cell_type": "code",
   "execution_count": 165,
   "metadata": {
    "collapsed": true
   },
   "outputs": [],
   "source": [
    "# Used to mark where in a histogram the station is located. \n",
    "# Code belongs to Tony Babarino from stackoverflow.com.\n",
    "# http://stackoverflow.com/questions/35890738/change-the-colour-of-a-matplotlib-histogram-bin-bar-given-a-value\n",
    "\n",
    "def marked_hist(column,new_ax):\n",
    "    p = master[column].plot(kind=\"hist\", color='teal',bins=20, ax=new_ax)\n",
    "    bar_value_to_label = float(Inspect_Station[column].to_string(index=False))\n",
    "    min_distance = float(\"inf\")\n",
    "    index_of_bar_to_label = 0\n",
    "    for i, rectangle in enumerate(p.patches):  # iterate over every bar\n",
    "        tmp = abs(  # tmp = distance from middle of the bar to bar_value_to_label\n",
    "            (rectangle.get_x() +\n",
    "                (rectangle.get_width() * (1 / 2))) - bar_value_to_label)\n",
    "        if tmp < min_distance:  # we are searching for the bar with x cordinate\n",
    "                                # closest to bar_value_to_label\n",
    "            min_distance = tmp\n",
    "            index_of_bar_to_label = i\n",
    "            \n",
    "    x = Inspect_Station[column].to_string(index=False)\n",
    "    if x != 'NaN':\n",
    "        p.patches[index_of_bar_to_label].set_color('red')"
   ]
  },
  {
   "cell_type": "code",
   "execution_count": 166,
   "metadata": {
    "collapsed": false
   },
   "outputs": [
    {
     "data": {
      "text/html": [
       "<div>\n",
       "<table border=\"1\" class=\"dataframe\">\n",
       "  <thead>\n",
       "    <tr style=\"text-align: right;\">\n",
       "      <th></th>\n",
       "      <th>Appts_Pending_1412</th>\n",
       "      <th>%_Appts_Over_30_Pending_1412</th>\n",
       "      <th>PC_Wait_Pending_1412</th>\n",
       "      <th>SC_Wait_Pending_1412</th>\n",
       "      <th>MH_Wait_Pending_1412</th>\n",
       "      <th>ID</th>\n",
       "      <th>ORGANIZATION</th>\n",
       "      <th>MAY-FY11</th>\n",
       "      <th>MAY-FY12</th>\n",
       "      <th>MAY-FY13</th>\n",
       "      <th>...</th>\n",
       "      <th>SC_Wait_Complete_Increase</th>\n",
       "      <th>SC_Wait_Complete_Increase_%</th>\n",
       "      <th>MH_Wait_Pending_Increase</th>\n",
       "      <th>MH_Wait_Pending_Increase_%</th>\n",
       "      <th>MH_Wait_Complete_Increase</th>\n",
       "      <th>MH_Wait_Complete_Increase_%</th>\n",
       "      <th>Staff_To_Appts_Pending_14</th>\n",
       "      <th>Staff_To_Appts_Pending_16</th>\n",
       "      <th>Staff_To_Appts_Complete_14</th>\n",
       "      <th>Staff_To_Appts_Complete_16</th>\n",
       "    </tr>\n",
       "  </thead>\n",
       "  <tbody>\n",
       "    <tr>\n",
       "      <th>0</th>\n",
       "      <td>42899</td>\n",
       "      <td>2.70%</td>\n",
       "      <td>2.51</td>\n",
       "      <td>4.07</td>\n",
       "      <td>2.77</td>\n",
       "      <td>402to</td>\n",
       "      <td>(V01) (402) HCS TOGUS ME</td>\n",
       "      <td>1293.0</td>\n",
       "      <td>1272.0</td>\n",
       "      <td>1248.0</td>\n",
       "      <td>...</td>\n",
       "      <td>-0.61</td>\n",
       "      <td>-0.182635</td>\n",
       "      <td>0.85</td>\n",
       "      <td>0.338645</td>\n",
       "      <td>0.44</td>\n",
       "      <td>0.307692</td>\n",
       "      <td>0.029907</td>\n",
       "      <td>0.033158</td>\n",
       "      <td>0.052457</td>\n",
       "      <td>0.050413</td>\n",
       "    </tr>\n",
       "    <tr>\n",
       "      <th>1</th>\n",
       "      <td>23709</td>\n",
       "      <td>2.16%</td>\n",
       "      <td>3.92</td>\n",
       "      <td>3.95</td>\n",
       "      <td>0.79</td>\n",
       "      <td>405wh</td>\n",
       "      <td>(V01) (405) MROC WHT RIVER JCT VT</td>\n",
       "      <td>852.0</td>\n",
       "      <td>853.0</td>\n",
       "      <td>881.0</td>\n",
       "      <td>...</td>\n",
       "      <td>0.86</td>\n",
       "      <td>0.267081</td>\n",
       "      <td>1.07</td>\n",
       "      <td>0.272959</td>\n",
       "      <td>0.48</td>\n",
       "      <td>0.571429</td>\n",
       "      <td>0.038846</td>\n",
       "      <td>0.055806</td>\n",
       "      <td>0.047889</td>\n",
       "      <td>0.054539</td>\n",
       "    </tr>\n",
       "    <tr>\n",
       "      <th>2</th>\n",
       "      <td>8105</td>\n",
       "      <td>5.17%</td>\n",
       "      <td>1.12</td>\n",
       "      <td>10.53</td>\n",
       "      <td>4.41</td>\n",
       "      <td>518be</td>\n",
       "      <td>(V01) (518) MC BEDFORD MA</td>\n",
       "      <td>1313.0</td>\n",
       "      <td>1265.0</td>\n",
       "      <td>1245.0</td>\n",
       "      <td>...</td>\n",
       "      <td>0.71</td>\n",
       "      <td>0.133962</td>\n",
       "      <td>-1.34</td>\n",
       "      <td>-1.196429</td>\n",
       "      <td>-2.91</td>\n",
       "      <td>-0.792916</td>\n",
       "      <td>0.154349</td>\n",
       "      <td>0.093525</td>\n",
       "      <td>0.104459</td>\n",
       "      <td>0.102658</td>\n",
       "    </tr>\n",
       "    <tr>\n",
       "      <th>3</th>\n",
       "      <td>85625</td>\n",
       "      <td>1.71%</td>\n",
       "      <td>1.66</td>\n",
       "      <td>3.53</td>\n",
       "      <td>3.92</td>\n",
       "      <td>523va</td>\n",
       "      <td>(V01) (523) HCS BOSTON MA</td>\n",
       "      <td>4022.0</td>\n",
       "      <td>4011.0</td>\n",
       "      <td>4041.0</td>\n",
       "      <td>...</td>\n",
       "      <td>2.58</td>\n",
       "      <td>0.813880</td>\n",
       "      <td>-0.84</td>\n",
       "      <td>-0.506024</td>\n",
       "      <td>-0.46</td>\n",
       "      <td>-0.174905</td>\n",
       "      <td>0.047089</td>\n",
       "      <td>0.051000</td>\n",
       "      <td>0.088287</td>\n",
       "      <td>0.092925</td>\n",
       "    </tr>\n",
       "    <tr>\n",
       "      <th>4</th>\n",
       "      <td>19511</td>\n",
       "      <td>2.64%</td>\n",
       "      <td>2.66</td>\n",
       "      <td>4.21</td>\n",
       "      <td>5.13</td>\n",
       "      <td>608ma</td>\n",
       "      <td>(V01) (608) MC MANCHESTER NH</td>\n",
       "      <td>663.0</td>\n",
       "      <td>683.0</td>\n",
       "      <td>691.0</td>\n",
       "      <td>...</td>\n",
       "      <td>-0.72</td>\n",
       "      <td>-0.197260</td>\n",
       "      <td>0.08</td>\n",
       "      <td>0.030075</td>\n",
       "      <td>-0.07</td>\n",
       "      <td>-0.023256</td>\n",
       "      <td>0.035160</td>\n",
       "      <td>0.031584</td>\n",
       "      <td>0.038942</td>\n",
       "      <td>0.042602</td>\n",
       "    </tr>\n",
       "  </tbody>\n",
       "</table>\n",
       "<p>5 rows × 74 columns</p>\n",
       "</div>"
      ],
      "text/plain": [
       "   Appts_Pending_1412 %_Appts_Over_30_Pending_1412  PC_Wait_Pending_1412  \\\n",
       "0               42899                        2.70%                  2.51   \n",
       "1               23709                        2.16%                  3.92   \n",
       "2                8105                        5.17%                  1.12   \n",
       "3               85625                        1.71%                  1.66   \n",
       "4               19511                        2.64%                  2.66   \n",
       "\n",
       "   SC_Wait_Pending_1412  MH_Wait_Pending_1412     ID  \\\n",
       "0                  4.07                  2.77  402to   \n",
       "1                  3.95                  0.79  405wh   \n",
       "2                 10.53                  4.41  518be   \n",
       "3                  3.53                  3.92  523va   \n",
       "4                  4.21                  5.13  608ma   \n",
       "\n",
       "                        ORGANIZATION  MAY-FY11  MAY-FY12  MAY-FY13  \\\n",
       "0           (V01) (402) HCS TOGUS ME    1293.0    1272.0    1248.0   \n",
       "1  (V01) (405) MROC WHT RIVER JCT VT     852.0     853.0     881.0   \n",
       "2          (V01) (518) MC BEDFORD MA    1313.0    1265.0    1245.0   \n",
       "3          (V01) (523) HCS BOSTON MA    4022.0    4011.0    4041.0   \n",
       "4       (V01) (608) MC MANCHESTER NH     663.0     683.0     691.0   \n",
       "\n",
       "              ...              SC_Wait_Complete_Increase  \\\n",
       "0             ...                                  -0.61   \n",
       "1             ...                                   0.86   \n",
       "2             ...                                   0.71   \n",
       "3             ...                                   2.58   \n",
       "4             ...                                  -0.72   \n",
       "\n",
       "   SC_Wait_Complete_Increase_%  MH_Wait_Pending_Increase  \\\n",
       "0                    -0.182635                      0.85   \n",
       "1                     0.267081                      1.07   \n",
       "2                     0.133962                     -1.34   \n",
       "3                     0.813880                     -0.84   \n",
       "4                    -0.197260                      0.08   \n",
       "\n",
       "   MH_Wait_Pending_Increase_% MH_Wait_Complete_Increase  \\\n",
       "0                    0.338645                      0.44   \n",
       "1                    0.272959                      0.48   \n",
       "2                   -1.196429                     -2.91   \n",
       "3                   -0.506024                     -0.46   \n",
       "4                    0.030075                     -0.07   \n",
       "\n",
       "   MH_Wait_Complete_Increase_%  Staff_To_Appts_Pending_14  \\\n",
       "0                     0.307692                   0.029907   \n",
       "1                     0.571429                   0.038846   \n",
       "2                    -0.792916                   0.154349   \n",
       "3                    -0.174905                   0.047089   \n",
       "4                    -0.023256                   0.035160   \n",
       "\n",
       "   Staff_To_Appts_Pending_16  Staff_To_Appts_Complete_14  \\\n",
       "0                   0.033158                    0.052457   \n",
       "1                   0.055806                    0.047889   \n",
       "2                   0.093525                    0.104459   \n",
       "3                   0.051000                    0.088287   \n",
       "4                   0.031584                    0.038942   \n",
       "\n",
       "   Staff_To_Appts_Complete_16  \n",
       "0                    0.050413  \n",
       "1                    0.054539  \n",
       "2                    0.102658  \n",
       "3                    0.092925  \n",
       "4                    0.042602  \n",
       "\n",
       "[5 rows x 74 columns]"
      ]
     },
     "execution_count": 166,
     "metadata": {},
     "output_type": "execute_result"
    }
   ],
   "source": [
    "master = pd.read_csv(\"../Master/Master.csv\")\n",
    "master.head()"
   ]
  },
  {
   "cell_type": "code",
   "execution_count": 168,
   "metadata": {
    "collapsed": false
   },
   "outputs": [],
   "source": [
    "Inspect_Station = master[master[\"ID\"] ==\"402to\"]"
   ]
  },
  {
   "cell_type": "code",
   "execution_count": 169,
   "metadata": {
    "collapsed": false
   },
   "outputs": [],
   "source": [
    "# Get Station number\n",
    "Station=Inspect_Station[\"Station\"].to_string(index=False)\n",
    "\n",
    "# Get Location\n",
    "query = r\"^([A-z]*) \"\n",
    "query = r\"\\) ([A-z]+, [A-z]+)\"\n",
    "m = re.search(query, Inspect_Station[\"Location\"].to_string(index=False))\n",
    "Location = m.group(1)\n",
    "\n",
    "# Get Staff Size\n",
    "Staff_2016 = str(int(float(Inspect_Station[\"MAY-FY16\"].to_string(index=False))))\n",
    "\n",
    "# Get percent change ins staff 2014 to 2016\n",
    "staff_percent_change = str(round(float(Inspect_Station[\"Staff_14_To_16_Increase_%\"].to_string(index=False)),4)*100)\n",
    "\n",
    "# increase or decrease\n",
    "if float(staff_percent_change) >0:\n",
    "    I_D = \"an increase\"\n",
    "elif float(staff_percent_change) == 0:\n",
    "    I_D = \"neither an increase or decrease\"\n",
    "    staff_percent_change_abs = str(abs(float(staff_percent_change)))\n",
    "else:\n",
    "    I_D = \" a decrease\"\n",
    "\n",
    "# Mean staff increase\n",
    "master_staff_percent_change = str(round(master[\"Staff_14_To_16_Increase_%\"].mean(),5)*100)"
   ]
  },
  {
   "cell_type": "code",
   "execution_count": 170,
   "metadata": {
    "collapsed": false
   },
   "outputs": [
    {
     "data": {
      "text/plain": [
       "'7.325'"
      ]
     },
     "execution_count": 170,
     "metadata": {},
     "output_type": "execute_result"
    }
   ],
   "source": [
    "master_staff_percent_change"
   ]
  },
  {
   "cell_type": "code",
   "execution_count": 171,
   "metadata": {
    "collapsed": false
   },
   "outputs": [
    {
     "data": {
      "text/plain": [
       "'11.27'"
      ]
     },
     "execution_count": 171,
     "metadata": {},
     "output_type": "execute_result"
    }
   ],
   "source": [
    "staff_percent_change"
   ]
  },
  {
   "cell_type": "markdown",
   "metadata": {},
   "source": [
    "# Story"
   ]
  },
  {
   "cell_type": "code",
   "execution_count": 172,
   "metadata": {
    "collapsed": false,
    "scrolled": false
   },
   "outputs": [
    {
     "name": "stdout",
     "output_type": "stream",
     "text": [
      "Station 402, located in Togus, ME, has a staff size of 1446. This represent an increase of 11.27 percent compared with May 2014, right before Veterans Choice was passed.\n",
      "This is more than the national average of 7.325 percent.\n"
     ]
    },
    {
     "data": {
      "image/png": "[encoded data removed]",
      "text/plain": [
       "<matplotlib.figure.Figure at 0x107146550>"
      ]
     },
     "metadata": {},
     "output_type": "display_data"
    }
   ],
   "source": [
    "sentence_1 =  'Station {}, located in {}, has a staff size of {}. '\\\n",
    "'This represent {} of {} percent compared with May 2014, right before Veterans Choice was passed.'\\\n",
    ".format(Station,Location,Staff_2016,I_D,staff_percent_change)\n",
    "\n",
    "if staff_percent_change == master_staff_percent_change:\n",
    "    sentence_2 = 'This is the same as the national average of {} percent'\\\n",
    "    .format(master_staff_percent_change)\n",
    "elif float(staff_percent_change) > float(master_staff_percent_change):\n",
    "    sentence_2 = \"This is more than the national average of {} percent.\"\\\n",
    "    .format(master_staff_percent_change)\n",
    "elif float(staff_percent_change) < float(master_staff_percent_change):\n",
    "    sentence_2 = \"This is less than the national average of {} percent.\"\\\n",
    "    .format(master_staff_percent_change)\n",
    "else:\n",
    "    sentence_2 = \"placeholder\"\n",
    "\n",
    "print sentence_1\n",
    "print sentence_2\n",
    "\n",
    "fig, (ax1) = plt.subplots(nrows=1,ncols=1,figsize=(8,4))\n",
    "ax1.set_title(\"% Increase 2014 to 2016\")\n",
    "ax1 = marked_hist(\"Staff_14_To_16_Increase_%\",ax1)\n"
   ]
  },
  {
   "cell_type": "code",
   "execution_count": 173,
   "metadata": {
    "collapsed": false
   },
   "outputs": [],
   "source": [
    "# Choice Hires\n",
    "\n",
    "sentence_3 = \"Station {} has {} staffer hired under the choice act as of \""
   ]
  },
  {
   "cell_type": "code",
   "execution_count": null,
   "metadata": {
    "collapsed": true
   },
   "outputs": [],
   "source": []
  }
 ],
 "metadata": {
  "kernelspec": {
   "display_name": "Python 2",
   "language": "python",
   "name": "python2"
  },
  "language_info": {
   "codemirror_mode": {
    "name": "ipython",
    "version": 2
   },
   "file_extension": ".py",
   "mimetype": "text/x-python",
   "name": "python",
   "nbconvert_exporter": "python",
   "pygments_lexer": "ipython2",
   "version": "2.7.12"
  }
 },
 "nbformat": 4,
 "nbformat_minor": 1
}
