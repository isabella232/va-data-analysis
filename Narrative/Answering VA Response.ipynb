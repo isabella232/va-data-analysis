{
 "cells": [
  {
   "cell_type": "code",
   "execution_count": 156,
   "metadata": {
    "collapsed": true
   },
   "outputs": [],
   "source": [
    "import pandas as pd\n",
    "\n",
    "%matplotlib inline\n",
    "\n",
    "import matplotlib\n",
    "import numpy as np\n",
    "import matplotlib.pyplot as plt\n",
    "\n",
    "from math import ceil\n"
   ]
  },
  {
   "cell_type": "markdown",
   "metadata": {},
   "source": [
    "# Purpose\n",
    "This Notebook is meant as a check for the VA's response to our questions, particularly about hiring.\n",
    "\n",
    "\n",
    "Here is the response:\n",
    "\n",
    "\"Choice Act funding **did increase staffing**.  Choice Act funding **increased the rate of hiring** in VHA and **resulted in a 6.3% net increase of more than 18,800 additional onboard staff**. During the 17 months of the Choice Act hiring initiative **(August 1, 2014 – December 31, 2015)**, VHA **hired 56,965 employees**, of which **11,287 (20%) were hired using Choice Act funding**.  The total hires in this time frame represented a **13% increase over the level of hiring in the previous 17-month period** (March 2013-July 2014).\""
   ]
  },
  {
   "cell_type": "markdown",
   "metadata": {},
   "source": [
    "## Did Choice Act Funding Increase Staffing/rate of hiring?\n",
    "\n",
    "It's important to note that I can't check rate of hiring. What I can check is the increase in staffing. \n",
    "\n",
    "It's possible that hiring increased, but actual staffing levels/staffing increases did not due to increased loss or failure during the onboarding process (this could really add some relevance to Patricia's story). \n",
    "\n",
    "So let's actually check: was there an increase in staffing levels? \n",
    "\n",
    "I can only look at May 2014 to May 2016 due to the limits of the data. I'm also looking at onboard VHA employees. Since we appear to be losing people during the onboarding process, this is a really important distinction and could explain some discrepencies between VA claims and our findings."
   ]
  },
  {
   "cell_type": "code",
   "execution_count": 125,
   "metadata": {
    "collapsed": false
   },
   "outputs": [
    {
     "name": "stdout",
     "output_type": "stream",
     "text": [
      "Onboard employees by year.\n"
     ]
    },
    {
     "data": {
      "text/html": [
       "<div>\n",
       "<table border=\"1\" class=\"dataframe\">\n",
       "  <thead>\n",
       "    <tr style=\"text-align: right;\">\n",
       "      <th></th>\n",
       "      <th>MAY-FY11</th>\n",
       "      <th>MAY-FY12</th>\n",
       "      <th>MAY-FY13</th>\n",
       "      <th>MAY-FY14</th>\n",
       "      <th>MAY-FY15</th>\n",
       "      <th>MAY-FY16</th>\n",
       "    </tr>\n",
       "  </thead>\n",
       "  <tbody>\n",
       "    <tr>\n",
       "      <th>0</th>\n",
       "      <td>268699</td>\n",
       "      <td>272538.0</td>\n",
       "      <td>283338</td>\n",
       "      <td>294444</td>\n",
       "      <td>307430</td>\n",
       "      <td>318560</td>\n",
       "    </tr>\n",
       "  </tbody>\n",
       "</table>\n",
       "</div>"
      ],
      "text/plain": [
       "   MAY-FY11  MAY-FY12  MAY-FY13  MAY-FY14  MAY-FY15  MAY-FY16\n",
       "0    268699  272538.0    283338    294444    307430    318560"
      ]
     },
     "execution_count": 125,
     "metadata": {},
     "output_type": "execute_result"
    }
   ],
   "source": [
    "# I'm only looking at the first column since that's the level for all of the VHA (I checkec MAY-FY16 and it all the other columns did add up to the VHA amount)\n",
    "# I'm also dropping organization (we're only looking at VHA so we don't need to identify that) and ID isn't needed either.\n",
    "Onboard = pd.read_csv(\"../Data/Staff_Size/Onboard_By_station_By_FY.csv\").head(1).drop(\"ORGANIZATION\",1).drop(\"ID\",1)\n",
    "print \"Onboard employees by year.\"\n",
    "Onboard.head()"
   ]
  },
  {
   "cell_type": "markdown",
   "metadata": {},
   "source": [
    "### Was there an increase between MAY-FY14 and MAY-FY16"
   ]
  },
  {
   "cell_type": "code",
   "execution_count": 126,
   "metadata": {
    "collapsed": false
   },
   "outputs": [
    {
     "name": "stdout",
     "output_type": "stream",
     "text": [
      "Staffing levels increased by 24116 between May 2014 and May 2016.\n"
     ]
    }
   ],
   "source": [
    "Difference = Onboard[\"MAY-FY16\"].item() - Onboard[\"MAY-FY14\"].item()\n",
    "print \"Staffing levels increased by {} between May 2014 and May 2016.\".format(Difference)"
   ]
  },
  {
   "cell_type": "markdown",
   "metadata": {},
   "source": [
    "So there was an increase. But previous years saw an increase too. And the VA said they hired 59,965 (during a window of time contained within May 2014 and May 2016). I only have an additional 24,116 onboard. Less than half during a longer hiring period.\n",
    "\n",
    "Again, they could have hired a bunch of employees and failed to get them though the onboarding process. That is one explanation. \n",
    "\n",
    "She does say that there was a net increase of 6.3% and more than 18,800 additional onboard staff. While that is less than 24,116, it would make sense considering the time window.\n",
    "\n",
    "What happens when we plot staffing levels by year?"
   ]
  },
  {
   "cell_type": "code",
   "execution_count": 75,
   "metadata": {
    "collapsed": false
   },
   "outputs": [
    {
     "data": {
      "image/png": "[encoded data removed]",
      "text/plain": [
       "<matplotlib.figure.Figure at 0x108157b10>"
      ]
     },
     "metadata": {},
     "output_type": "display_data"
    }
   ],
   "source": [
    "ax = Onboard.transpose().plot(kind=\"line\", color=\"teal\")\n",
    "ax.set_ylim(0,380000)\n",
    "ax.set_title(\"VA Staffing Levels By Fiscal Year\")\n",
    "ax.legend_.remove()"
   ]
  },
  {
   "cell_type": "markdown",
   "metadata": {},
   "source": [
    "We're not seeing a significant increase over that time. The slope looks similar to previous years, actually. Let's see how much it actually increased, looking at two year periods. "
   ]
  },
  {
   "cell_type": "code",
   "execution_count": 425,
   "metadata": {
    "collapsed": false
   },
   "outputs": [
    {
     "name": "stdout",
     "output_type": "stream",
     "text": [
      "Percent increase in onboard staff over two year periods.\n"
     ]
    },
    {
     "data": {
      "text/html": [
       "<div>\n",
       "<table border=\"1\" class=\"dataframe\">\n",
       "  <thead>\n",
       "    <tr style=\"text-align: right;\">\n",
       "      <th></th>\n",
       "      <th>11-13</th>\n",
       "      <th>12-14</th>\n",
       "      <th>13-15</th>\n",
       "      <th>14-16</th>\n",
       "    </tr>\n",
       "  </thead>\n",
       "  <tbody>\n",
       "    <tr>\n",
       "      <th>0</th>\n",
       "      <td>5.448104</td>\n",
       "      <td>8.037778</td>\n",
       "      <td>8.502919</td>\n",
       "      <td>8.190352</td>\n",
       "    </tr>\n",
       "  </tbody>\n",
       "</table>\n",
       "</div>"
      ],
      "text/plain": [
       "      11-13     12-14     13-15     14-16\n",
       "0  5.448104  8.037778  8.502919  8.190352"
      ]
     },
     "execution_count": 425,
     "metadata": {},
     "output_type": "execute_result"
    }
   ],
   "source": [
    "percent_increase_dict = {}\n",
    "\n",
    "\n",
    "percent_increase_dict[\"11-13\"] = ((Onboard[\"MAY-FY13\"] -Onboard[\"MAY-FY11\"])/Onboard[\"MAY-FY11\"])*100\n",
    "percent_increase_dict[\"12-14\"] = ((Onboard[\"MAY-FY14\"] -Onboard[\"MAY-FY12\"])/Onboard[\"MAY-FY12\"])*100\n",
    "percent_increase_dict[\"13-15\"] = ((Onboard[\"MAY-FY15\"] -Onboard[\"MAY-FY13\"])/Onboard[\"MAY-FY13\"])*100\n",
    "percent_increase_dict[\"14-16\"] = ((Onboard[\"MAY-FY16\"] -Onboard[\"MAY-FY14\"])/Onboard[\"MAY-FY14\"])*100\n",
    "\n",
    "percent_increase = pd.DataFrame.from_dict(percent_increase_dict)\n",
    "print \"Percent increase in onboard staff over two year periods.\"\n",
    "percent_increase"
   ]
  },
  {
   "cell_type": "code",
   "execution_count": 129,
   "metadata": {
    "collapsed": false
   },
   "outputs": [
    {
     "data": {
      "image/png": "[encoded data removed]",
      "text/plain": [
       "<matplotlib.figure.Figure at 0x1075ef790>"
      ]
     },
     "metadata": {},
     "output_type": "display_data"
    }
   ],
   "source": [
    "ax = percent_increase.transpose().plot(kind=\"bar\",color = [\"teal\",\"teal\",\"teal\",\"teal\",\"purple\"], edgecolor=\"none\")\n",
    "ax.set_title(\"Percent Increase In Onboard Staff For Two Year Periods\")\n",
    "ax.legend_.remove()"
   ]
  },
  {
   "cell_type": "markdown",
   "metadata": {},
   "source": [
    "There is an increase in staffing levels (8.19 percent) from 2014 to 2016, which would make sense with the VA's 6.3 percent claim. \n",
    "\n",
    "However, this increase is barely larger than increases in previous years. "
   ]
  },
  {
   "cell_type": "code",
   "execution_count": 78,
   "metadata": {
    "collapsed": false
   },
   "outputs": [
    {
     "name": "stdout",
     "output_type": "stream",
     "text": [
      "This is only 0.15 percentage points more than 2012 to 2014.\n"
     ]
    }
   ],
   "source": [
    "percentage_points = percent_increase_dict[\"14-16\"].item() - percent_increase_dict[\"12-14\"].item()\n",
    "print \"This is only {} percentage points more than 2012 to 2014.\".format(round(percentage_points,2))"
   ]
  },
  {
   "cell_type": "markdown",
   "metadata": {},
   "source": [
    "### So was there an increase in staffing from 2014 to 2016?\n",
    "\n",
    "Yes, but barely any more than 2012 to 2014. \n"
   ]
  },
  {
   "cell_type": "markdown",
   "metadata": {},
   "source": [
    "What happens when we remove choice acts from this list?\n",
    "\n",
    "Disclaimer - I have choice hires as of 9/15/16, a full four months after my May 2016 staffing numbers. This shouldn't be used for calculating exact numbers, but subtracting these choice hires from onboard staffing will give us some idea as to how many were choice hires (VA said there were 11,287 hires before May 2016 so there isn't much of a difference). "
   ]
  },
  {
   "cell_type": "code",
   "execution_count": 79,
   "metadata": {
    "collapsed": false
   },
   "outputs": [
    {
     "data": {
      "text/plain": [
       "'There were 12308 choice act hires still employed at the VA as of 9/15/16. If we subtract this from the May-FY16 staffing increase, we see about 11808 onboard employees hired around this period were not choice hires.'"
      ]
     },
     "execution_count": 79,
     "metadata": {},
     "output_type": "execute_result"
    }
   ],
   "source": [
    "choice_hires = pd.read_csv(\"../Data/Hiring/Hiring_Clean_All_Positions.csv\")\n",
    "choice_hires_total = choice_hires[\"NbrEmps\"].sum()\n",
    "MAY_FY16_no_choice_hires = Onboard[\"MAY-FY16\"].item() -Onboard[\"MAY-FY14\"].item() - choice_hires_total.item()\n",
    "#percent_increase_dict[\"14-16 No Choice Hires\"] = ((MAY_FY16_no_choice_hires - Onboard[\"MAY-FY14\"].item())/Onboard[\"MAY-FY14\"].item())\n",
    "\"There were {} choice act hires still employed at the VA as of 9/15/16. If we subtract this from the May-FY16 staffing increase, we\"\\\n",
    "\" see about {} onboard employees hired around this period were not choice hires.\".format(choice_hires_total,MAY_FY16_no_choice_hires)"
   ]
  },
  {
   "cell_type": "code",
   "execution_count": 80,
   "metadata": {
    "collapsed": false
   },
   "outputs": [
    {
     "data": {
      "image/png": "[encoded data removed]",
      "text/plain": [
       "<matplotlib.figure.Figure at 0x108241e10>"
      ]
     },
     "metadata": {},
     "output_type": "display_data"
    }
   ],
   "source": [
    "percent_increase_dict[\"14-16 Without Choice Hires\"] = ((Onboard[\"MAY-FY16\"] -Onboard[\"MAY-FY14\"]-MAY_FY16_no_choice_hires)/Onboard[\"MAY-FY14\"])*100\n",
    "\n",
    "\n",
    "\n",
    "\n",
    "\n",
    "percent_increase = pd.DataFrame.from_dict(percent_increase_dict)\n",
    "\n",
    "ax = percent_increase.transpose().plot(kind=\"bar\",color = [\"teal\",\"teal\",\"teal\",\"teal\",\"purple\"], edgecolor=\"none\")\n",
    "ax.set_title(\"Percent Increase In VA Staffing For Two Year Periods\")\n",
    "ax.legend_.remove()"
   ]
  },
  {
   "cell_type": "markdown",
   "metadata": {},
   "source": [
    "What we should be seeing is that the purple bar (2014-2016 without choice hires) is at a similar height to 2012-2014 or even 2011-2013. Instead, the increase we saw in previous years without choice hires is significantly smaller. \n",
    "\n",
    "## Instead of adding a signifcant addition to the VA's usual staffing levels, the choice hire were used in lieu of the usual staffing increases. "
   ]
  },
  {
   "cell_type": "markdown",
   "metadata": {},
   "source": [
    "### So how much did staffing increases, well, increase?\n"
   ]
  },
  {
   "cell_type": "code",
   "execution_count": 115,
   "metadata": {
    "collapsed": false
   },
   "outputs": [
    {
     "name": "stdout",
     "output_type": "stream",
     "text": [
      "Staffing increased by 21906.0 employees from 2012 to 2014 and by 24116 from 2014 to 2016. This represent a 10.09 percent increase in the increase in staffing.\n"
     ]
    }
   ],
   "source": [
    "Increase_2014_2016 = Onboard[\"MAY-FY16\"].item() - Onboard[\"MAY-FY14\"].item()\n",
    "Increase_2012_2014 = Onboard[\"MAY-FY14\"].item() - Onboard[\"MAY-FY12\"].item()\n",
    "\n",
    "Increase = round(((Increase_2014_2016 - Increase_2012_2014)/Increase_2012_2014)*100,2)\n",
    "\n",
    "print \"Staffing increased by {} employees from 2012 to 2014\"\\\n",
    "\" and by {} from 2014 to 2016.\"\\\n",
    "\" This represent a {} percent increase in the increase in staffing.\".format(Increase_2012_2014,Increase_2014_2016,Increase)\n"
   ]
  },
  {
   "cell_type": "markdown",
   "metadata": {},
   "source": [
    "10 percent isn't bad, but what's important to note is that this is an increase of an increase. Another way to look at is it is only a .15 percentage point difference. "
   ]
  },
  {
   "cell_type": "markdown",
   "metadata": {},
   "source": [
    "# Let's go through the VHA's claims again, one by one.\n",
    "\n",
    "### \"Funding did increase staffing\"\n",
    "\n",
    "Staffing did increase, but not significantly more than the previous period. \n",
    "\n",
    "### \"Choice Act funding increased the rate of hiring \"\n",
    "\n",
    "Certainly possible. We don't have hiring numbers. If this is true, a lot of people being hired are not making it through the onboarding process.\n",
    "\n",
    "### \"6.3 percent net increase of more than 18,800 additional onboard staff.\"\n",
    "\n",
    "I don't have the exact same time from for this, but the numbers make sense with what I'm seeing, with May 2014 to 2016 seeing a 8.19 percent increase in onboard staff (24,116) . However, May 2012 to 2014 saw an increase of 8.04 percent (21,906). The increase does not seem very significant when put in that context. \n",
    "\n",
    "### \"During the 17 months of the Choice Act hiring initiative (August 1, 2014 – December 31, 2015), VHA hired 56,965 employees\"\n",
    "\n",
    "Again, can't verify hiring numbers.\n",
    "\n",
    "### \"11,287 (20%) were hired using Choice Act funding.\"\n",
    "\n",
    "This is interesting because this is very similar to the numbers I'm seeing for choice hires (12,308). Yet Choice hires make up way more than 20 percent of the onboard staff, from what I can tell. And while choice hires have increased in numbers of actual onboard staffing since then, we're not seeing general hiring numbers anywhere close to 59,965 (only 24,116 increase in onboard between May 2014 and May 2016.\n",
    "\n",
    "### \"The total hires in this time frame represented a 13% increase over the level of hiring in the previous 17-month period (March 2013-July 2014).\"\n",
    "\n",
    "Once again, I can't look at hires and I have a different time frame. But we do see a 10 percent increase in the increase in staffing in 2014 to 2016 compared to 2012 to 2014. It's the percent of a percent increase so 10 percent seems like a bigger number than it actually represents. A .15 percentage point difference between the two time frames is another way to look at it."
   ]
  },
  {
   "cell_type": "markdown",
   "metadata": {},
   "source": [
    "## Here's one final graph looking at just the raw staffing numbers to give an idea of how little staffing has actually increased.\n",
    "\n",
    "(It's the same as the line graph on the top of the page, just using bars instead)."
   ]
  },
  {
   "cell_type": "code",
   "execution_count": 123,
   "metadata": {
    "collapsed": false
   },
   "outputs": [
    {
     "data": {
      "image/png": "[encoded data removed]",
      "text/plain": [
       "<matplotlib.figure.Figure at 0x10813cc10>"
      ]
     },
     "metadata": {},
     "output_type": "display_data"
    }
   ],
   "source": [
    "ax = Onboard.transpose().plot(kind=\"bar\",color = 'teal', edgecolor=\"none\")\n",
    "ax.legend_.remove()"
   ]
  },
  {
   "cell_type": "markdown",
   "metadata": {},
   "source": [
    "# So how much did it cost per hire?\n",
    "\n",
    "\" Of the \\$5B provided by VACAA, $2.213B was dedicated to the hiring of clinicians and medical support staff by the end of FY2016.\"\n",
    "\n",
    "\n",
    "So 2.213 billion was dedicated to hiring. And they hired 12308. So how much does that work out per person?\n"
   ]
  },
  {
   "cell_type": "code",
   "execution_count": 225,
   "metadata": {
    "collapsed": false
   },
   "outputs": [
    {
     "data": {
      "text/plain": [
       "12308"
      ]
     },
     "execution_count": 225,
     "metadata": {},
     "output_type": "execute_result"
    }
   ],
   "source": [
    "for_hiring = 2213000000"
   ]
  },
  {
   "cell_type": "code",
   "execution_count": 230,
   "metadata": {
    "collapsed": false
   },
   "outputs": [
    {
     "data": {
      "text/plain": [
       "179801.7549561261"
      ]
     },
     "execution_count": 230,
     "metadata": {},
     "output_type": "execute_result"
    }
   ],
   "source": [
    "from __future__ import division\n",
    "for_hiring / choice_hires_total"
   ]
  },
  {
   "cell_type": "code",
   "execution_count": 231,
   "metadata": {
    "collapsed": false
   },
   "outputs": [
    {
     "data": {
      "text/plain": [
       "12308"
      ]
     },
     "execution_count": 231,
     "metadata": {},
     "output_type": "execute_result"
    }
   ],
   "source": [
    "choice_hires_total"
   ]
  },
  {
   "cell_type": "markdown",
   "metadata": {},
   "source": [
    "## So that's looking at choice hires. But what we just look at the amount they hired more than previous years."
   ]
  },
  {
   "cell_type": "code",
   "execution_count": 238,
   "metadata": {
    "collapsed": false
   },
   "outputs": [
    {
     "data": {
      "text/html": [
       "<div>\n",
       "<table border=\"1\" class=\"dataframe\">\n",
       "  <thead>\n",
       "    <tr style=\"text-align: right;\">\n",
       "      <th></th>\n",
       "      <th>11-13</th>\n",
       "      <th>12-14</th>\n",
       "      <th>13-15</th>\n",
       "      <th>14-16</th>\n",
       "    </tr>\n",
       "  </thead>\n",
       "  <tbody>\n",
       "    <tr>\n",
       "      <th>0</th>\n",
       "      <td>14639</td>\n",
       "      <td>21906.0</td>\n",
       "      <td>24092</td>\n",
       "      <td>24116</td>\n",
       "    </tr>\n",
       "  </tbody>\n",
       "</table>\n",
       "</div>"
      ],
      "text/plain": [
       "   11-13    12-14  13-15  14-16\n",
       "0  14639  21906.0  24092  24116"
      ]
     },
     "execution_count": 238,
     "metadata": {},
     "output_type": "execute_result"
    }
   ],
   "source": [
    "increase_dict = {}\n",
    "\n",
    "\n",
    "increase_dict[\"11-13\"] = Onboard[\"MAY-FY13\"] -Onboard[\"MAY-FY11\"]\n",
    "increase_dict[\"12-14\"] = Onboard[\"MAY-FY14\"] -Onboard[\"MAY-FY12\"]\n",
    "increase_dict[\"13-15\"] = Onboard[\"MAY-FY15\"] -Onboard[\"MAY-FY13\"]\n",
    "increase_dict[\"14-16\"] = Onboard[\"MAY-FY16\"] -Onboard[\"MAY-FY14\"]\n",
    "\n",
    "increase = pd.DataFrame.from_dict(increase_dict)\n",
    "increase"
   ]
  },
  {
   "cell_type": "code",
   "execution_count": 242,
   "metadata": {
    "collapsed": false
   },
   "outputs": [
    {
     "data": {
      "text/plain": [
       "1001357.4660633485"
      ]
     },
     "execution_count": 242,
     "metadata": {},
     "output_type": "execute_result"
    }
   ],
   "source": [
    "additional_increase = increase[\"14-16\"].item() - increase[\"12-14\"].item()\n",
    "for_hiring/additional_increase"
   ]
  },
  {
   "cell_type": "code",
   "execution_count": 243,
   "metadata": {
    "collapsed": false
   },
   "outputs": [
    {
     "data": {
      "text/plain": [
       "2210.0"
      ]
     },
     "execution_count": 243,
     "metadata": {},
     "output_type": "execute_result"
    }
   ],
   "source": [
    "additional_increase"
   ]
  },
  {
   "cell_type": "markdown",
   "metadata": {},
   "source": [
    "# We should really see how much the annual budget is and see if we can determine a connection with more money more hires"
   ]
  },
  {
   "cell_type": "code",
   "execution_count": 270,
   "metadata": {
    "collapsed": false
   },
   "outputs": [],
   "source": [
    "budget = pd.read_csv(\"../Data/VA_Budget/VA_Budget.csv\")\n",
    "budget[\"budget\"] = budget[\"budget\"]*1000"
   ]
  },
  {
   "cell_type": "code",
   "execution_count": 272,
   "metadata": {
    "collapsed": false
   },
   "outputs": [],
   "source": [
    "budget_list = []\n",
    "budget_increase = None\n",
    "previous_year = None\n",
    "for index, row in budget.iterrows():\n",
    "    if previous_year:\n",
    "        budget_increase = row[\"budget\"] - previous_year\n",
    "        budget_list.append(budget_increase)\n",
    "        previous_year = row[\"budget\"]\n",
    "    else:\n",
    "        previous_year=row[\"budget\"]\n",
    "        budget_list.append(budget_increase)\n",
    "\n",
    "budget[\"increase\"] = budget_list"
   ]
  },
  {
   "cell_type": "code",
   "execution_count": 448,
   "metadata": {
    "collapsed": false
   },
   "outputs": [
    {
     "data": {
      "text/plain": [
       "[None, 3345330000, 2451755000, 2464945000, 1835489000, 1584659000, 4176797000]"
      ]
     },
     "execution_count": 448,
     "metadata": {},
     "output_type": "execute_result"
    }
   ],
   "source": [
    "budget_list"
   ]
  },
  {
   "cell_type": "code",
   "execution_count": 449,
   "metadata": {
    "collapsed": false
   },
   "outputs": [
    {
     "data": {
      "text/html": [
       "<div>\n",
       "<table border=\"1\" class=\"dataframe\">\n",
       "  <thead>\n",
       "    <tr style=\"text-align: right;\">\n",
       "      <th></th>\n",
       "      <th>year</th>\n",
       "      <th>budget</th>\n",
       "      <th>status</th>\n",
       "      <th>increase</th>\n",
       "    </tr>\n",
       "  </thead>\n",
       "  <tbody>\n",
       "    <tr>\n",
       "      <th>0</th>\n",
       "      <td>2010</td>\n",
       "      <td>47329065000</td>\n",
       "      <td>enacted</td>\n",
       "      <td>nan</td>\n",
       "    </tr>\n",
       "    <tr>\n",
       "      <th>1</th>\n",
       "      <td>2011</td>\n",
       "      <td>50674395000</td>\n",
       "      <td>enacted</td>\n",
       "      <td>3345330000.000</td>\n",
       "    </tr>\n",
       "    <tr>\n",
       "      <th>2</th>\n",
       "      <td>2012</td>\n",
       "      <td>53126150000</td>\n",
       "      <td>enacted</td>\n",
       "      <td>2451755000.000</td>\n",
       "    </tr>\n",
       "    <tr>\n",
       "      <th>3</th>\n",
       "      <td>2013</td>\n",
       "      <td>55591095000</td>\n",
       "      <td>enacted</td>\n",
       "      <td>2464945000.000</td>\n",
       "    </tr>\n",
       "    <tr>\n",
       "      <th>4</th>\n",
       "      <td>2014</td>\n",
       "      <td>57426584000</td>\n",
       "      <td>enacted</td>\n",
       "      <td>1835489000.000</td>\n",
       "    </tr>\n",
       "    <tr>\n",
       "      <th>5</th>\n",
       "      <td>2015</td>\n",
       "      <td>59011243000</td>\n",
       "      <td>estimate</td>\n",
       "      <td>1584659000.000</td>\n",
       "    </tr>\n",
       "    <tr>\n",
       "      <th>6</th>\n",
       "      <td>2016</td>\n",
       "      <td>63188040000</td>\n",
       "      <td>estimate</td>\n",
       "      <td>4176797000.000</td>\n",
       "    </tr>\n",
       "  </tbody>\n",
       "</table>\n",
       "</div>"
      ],
      "text/plain": [
       "   year       budget    status       increase\n",
       "0  2010  47329065000   enacted            nan\n",
       "1  2011  50674395000   enacted 3345330000.000\n",
       "2  2012  53126150000   enacted 2451755000.000\n",
       "3  2013  55591095000   enacted 2464945000.000\n",
       "4  2014  57426584000   enacted 1835489000.000\n",
       "5  2015  59011243000  estimate 1584659000.000\n",
       "6  2016  63188040000  estimate 4176797000.000"
      ]
     },
     "execution_count": 449,
     "metadata": {},
     "output_type": "execute_result"
    }
   ],
   "source": [
    "pd.set_option('display.float_format', lambda x: '%.3f' % x)\n",
    "budget"
   ]
  },
  {
   "cell_type": "code",
   "execution_count": 451,
   "metadata": {
    "collapsed": false
   },
   "outputs": [
    {
     "name": "stdout",
     "output_type": "stream",
     "text": [
      "   year       budget    status       increase\n",
      "0  2010  47329065000   enacted            nan\n",
      "1  2011  50674395000   enacted 3345330000.000\n",
      "2  2012  53126150000   enacted 2451755000.000\n",
      "3  2013  55591095000   enacted 2464945000.000\n",
      "4  2014  57426584000   enacted 1835489000.000\n",
      "5  2015  59011243000  estimate 1584659000.000\n",
      "6  2016  63188040000  estimate 4176797000.000\n"
     ]
    }
   ],
   "source": [
    "print budget"
   ]
  },
  {
   "cell_type": "markdown",
   "metadata": {},
   "source": [
    "   year       budget    status       increase\n",
    "0  2010  47,329,065,000   enacted           \n",
    "1  2011  50,674,395,000   enacted 3,345,330,000.000\n",
    "2  2012  53,126,150,000   enacted 2,451,755,000.000\n",
    "3  2013  55,591,095,000   enacted 2,464,945,000.000\n",
    "4  2014  57,426,584,000   enacted 1,835,489,000.000\n",
    "5  2015  59,011,243,000  estimate 1,584,659,000.000\n",
    "6  2016  63,188,040,000  estimate 4,176,797,000.000"
   ]
  },
  {
   "cell_type": "code",
   "execution_count": 280,
   "metadata": {
    "collapsed": false
   },
   "outputs": [
    {
     "data": {
      "text/html": [
       "<div>\n",
       "<table border=\"1\" class=\"dataframe\">\n",
       "  <thead>\n",
       "    <tr style=\"text-align: right;\">\n",
       "      <th></th>\n",
       "      <th>0</th>\n",
       "      <th>year</th>\n",
       "    </tr>\n",
       "  </thead>\n",
       "  <tbody>\n",
       "    <tr>\n",
       "      <th>MAY-FY11</th>\n",
       "      <td>268699.0</td>\n",
       "      <td>2011</td>\n",
       "    </tr>\n",
       "    <tr>\n",
       "      <th>MAY-FY12</th>\n",
       "      <td>272538.0</td>\n",
       "      <td>2012</td>\n",
       "    </tr>\n",
       "    <tr>\n",
       "      <th>MAY-FY13</th>\n",
       "      <td>283338.0</td>\n",
       "      <td>2013</td>\n",
       "    </tr>\n",
       "    <tr>\n",
       "      <th>MAY-FY14</th>\n",
       "      <td>294444.0</td>\n",
       "      <td>2014</td>\n",
       "    </tr>\n",
       "    <tr>\n",
       "      <th>MAY-FY15</th>\n",
       "      <td>307430.0</td>\n",
       "      <td>2015</td>\n",
       "    </tr>\n",
       "    <tr>\n",
       "      <th>MAY-FY16</th>\n",
       "      <td>318560.0</td>\n",
       "      <td>2016</td>\n",
       "    </tr>\n",
       "  </tbody>\n",
       "</table>\n",
       "</div>"
      ],
      "text/plain": [
       "                 0  year\n",
       "MAY-FY11  268699.0  2011\n",
       "MAY-FY12  272538.0  2012\n",
       "MAY-FY13  283338.0  2013\n",
       "MAY-FY14  294444.0  2014\n",
       "MAY-FY15  307430.0  2015\n",
       "MAY-FY16  318560.0  2016"
      ]
     },
     "execution_count": 280,
     "metadata": {},
     "output_type": "execute_result"
    }
   ],
   "source": [
    "#Onboard = Onboard.transpose()\n",
    "Onboard[\"year\"] = [2011,2012,2013,2014,2015,2016]\n",
    "Onboard"
   ]
  },
  {
   "cell_type": "code",
   "execution_count": 282,
   "metadata": {
    "collapsed": true
   },
   "outputs": [],
   "source": [
    "Onboard.columns = [\"staff\",\"year\"]"
   ]
  },
  {
   "cell_type": "code",
   "execution_count": 289,
   "metadata": {
    "collapsed": false
   },
   "outputs": [
    {
     "data": {
      "text/html": [
       "<div>\n",
       "<table border=\"1\" class=\"dataframe\">\n",
       "  <thead>\n",
       "    <tr style=\"text-align: right;\">\n",
       "      <th></th>\n",
       "      <th>staff</th>\n",
       "      <th>year</th>\n",
       "      <th>staff_increase</th>\n",
       "    </tr>\n",
       "  </thead>\n",
       "  <tbody>\n",
       "    <tr>\n",
       "      <th>MAY-FY11</th>\n",
       "      <td>268699.0</td>\n",
       "      <td>2011</td>\n",
       "      <td>NaN</td>\n",
       "    </tr>\n",
       "    <tr>\n",
       "      <th>MAY-FY12</th>\n",
       "      <td>272538.0</td>\n",
       "      <td>2012</td>\n",
       "      <td>3839.0</td>\n",
       "    </tr>\n",
       "    <tr>\n",
       "      <th>MAY-FY13</th>\n",
       "      <td>283338.0</td>\n",
       "      <td>2013</td>\n",
       "      <td>10800.0</td>\n",
       "    </tr>\n",
       "    <tr>\n",
       "      <th>MAY-FY14</th>\n",
       "      <td>294444.0</td>\n",
       "      <td>2014</td>\n",
       "      <td>11106.0</td>\n",
       "    </tr>\n",
       "    <tr>\n",
       "      <th>MAY-FY15</th>\n",
       "      <td>307430.0</td>\n",
       "      <td>2015</td>\n",
       "      <td>12986.0</td>\n",
       "    </tr>\n",
       "    <tr>\n",
       "      <th>MAY-FY16</th>\n",
       "      <td>318560.0</td>\n",
       "      <td>2016</td>\n",
       "      <td>11130.0</td>\n",
       "    </tr>\n",
       "  </tbody>\n",
       "</table>\n",
       "</div>"
      ],
      "text/plain": [
       "             staff  year  staff_increase\n",
       "MAY-FY11  268699.0  2011             NaN\n",
       "MAY-FY12  272538.0  2012          3839.0\n",
       "MAY-FY13  283338.0  2013         10800.0\n",
       "MAY-FY14  294444.0  2014         11106.0\n",
       "MAY-FY15  307430.0  2015         12986.0\n",
       "MAY-FY16  318560.0  2016         11130.0"
      ]
     },
     "execution_count": 289,
     "metadata": {},
     "output_type": "execute_result"
    }
   ],
   "source": [
    "onboard_list = []\n",
    "onboard_increase = None\n",
    "previous_year = None\n",
    "for index, row in Onboard.iterrows():\n",
    "    if previous_year:\n",
    "        onboard_increase = row[\"staff\"] - previous_year\n",
    "        onboard_list.append(onboard_increase)\n",
    "        previous_year = row[\"staff\"]\n",
    "    else:\n",
    "        previous_year=row[\"staff\"]\n",
    "        onboard_list.append(onboard_increase)\n",
    "Onboard[\"staff_increase\"] = onboard_list\n",
    "Onboard"
   ]
  },
  {
   "cell_type": "code",
   "execution_count": 291,
   "metadata": {
    "collapsed": false
   },
   "outputs": [],
   "source": [
    "df = Onboard.merge(budget,on=\"year\")"
   ]
  },
  {
   "cell_type": "code",
   "execution_count": 292,
   "metadata": {
    "collapsed": false
   },
   "outputs": [
    {
     "data": {
      "text/html": [
       "<div>\n",
       "<table border=\"1\" class=\"dataframe\">\n",
       "  <thead>\n",
       "    <tr style=\"text-align: right;\">\n",
       "      <th></th>\n",
       "      <th>staff</th>\n",
       "      <th>year</th>\n",
       "      <th>staff_increase</th>\n",
       "      <th>budget</th>\n",
       "      <th>status</th>\n",
       "      <th>increase</th>\n",
       "    </tr>\n",
       "  </thead>\n",
       "  <tbody>\n",
       "    <tr>\n",
       "      <th>0</th>\n",
       "      <td>268699.0</td>\n",
       "      <td>2011</td>\n",
       "      <td>NaN</td>\n",
       "      <td>50674395000</td>\n",
       "      <td>enacted</td>\n",
       "      <td>3.345330e+09</td>\n",
       "    </tr>\n",
       "    <tr>\n",
       "      <th>1</th>\n",
       "      <td>272538.0</td>\n",
       "      <td>2012</td>\n",
       "      <td>3839.0</td>\n",
       "      <td>53126150000</td>\n",
       "      <td>enacted</td>\n",
       "      <td>2.451755e+09</td>\n",
       "    </tr>\n",
       "    <tr>\n",
       "      <th>2</th>\n",
       "      <td>283338.0</td>\n",
       "      <td>2013</td>\n",
       "      <td>10800.0</td>\n",
       "      <td>55591095000</td>\n",
       "      <td>enacted</td>\n",
       "      <td>2.464945e+09</td>\n",
       "    </tr>\n",
       "    <tr>\n",
       "      <th>3</th>\n",
       "      <td>294444.0</td>\n",
       "      <td>2014</td>\n",
       "      <td>11106.0</td>\n",
       "      <td>57426584000</td>\n",
       "      <td>enacted</td>\n",
       "      <td>1.835489e+09</td>\n",
       "    </tr>\n",
       "    <tr>\n",
       "      <th>4</th>\n",
       "      <td>307430.0</td>\n",
       "      <td>2015</td>\n",
       "      <td>12986.0</td>\n",
       "      <td>59011243000</td>\n",
       "      <td>estimate</td>\n",
       "      <td>1.584659e+09</td>\n",
       "    </tr>\n",
       "    <tr>\n",
       "      <th>5</th>\n",
       "      <td>318560.0</td>\n",
       "      <td>2016</td>\n",
       "      <td>11130.0</td>\n",
       "      <td>63188040000</td>\n",
       "      <td>estimate</td>\n",
       "      <td>4.176797e+09</td>\n",
       "    </tr>\n",
       "  </tbody>\n",
       "</table>\n",
       "</div>"
      ],
      "text/plain": [
       "      staff  year  staff_increase       budget    status      increase\n",
       "0  268699.0  2011             NaN  50674395000   enacted  3.345330e+09\n",
       "1  272538.0  2012          3839.0  53126150000   enacted  2.451755e+09\n",
       "2  283338.0  2013         10800.0  55591095000   enacted  2.464945e+09\n",
       "3  294444.0  2014         11106.0  57426584000   enacted  1.835489e+09\n",
       "4  307430.0  2015         12986.0  59011243000  estimate  1.584659e+09\n",
       "5  318560.0  2016         11130.0  63188040000  estimate  4.176797e+09"
      ]
     },
     "execution_count": 292,
     "metadata": {},
     "output_type": "execute_result"
    }
   ],
   "source": [
    "df"
   ]
  },
  {
   "cell_type": "code",
   "execution_count": 293,
   "metadata": {
    "collapsed": true
   },
   "outputs": [],
   "source": [
    "df[\"staff_increase_per_budget_increase\"] = df[\"staff_increase\"]/df[\"increase\"]"
   ]
  },
  {
   "cell_type": "code",
   "execution_count": 303,
   "metadata": {
    "collapsed": false
   },
   "outputs": [
    {
     "data": {
      "text/html": [
       "<div>\n",
       "<table border=\"1\" class=\"dataframe\">\n",
       "  <thead>\n",
       "    <tr style=\"text-align: right;\">\n",
       "      <th></th>\n",
       "      <th>staff</th>\n",
       "      <th>year</th>\n",
       "      <th>staff_increase</th>\n",
       "      <th>budget</th>\n",
       "      <th>status</th>\n",
       "      <th>increase</th>\n",
       "      <th>staff_increase_per_budget_increase</th>\n",
       "    </tr>\n",
       "  </thead>\n",
       "  <tbody>\n",
       "    <tr>\n",
       "      <th>0</th>\n",
       "      <td>268699.0</td>\n",
       "      <td>2011</td>\n",
       "      <td>NaN</td>\n",
       "      <td>50674395000</td>\n",
       "      <td>enacted</td>\n",
       "      <td>3.345330e+09</td>\n",
       "      <td>NaN</td>\n",
       "    </tr>\n",
       "    <tr>\n",
       "      <th>1</th>\n",
       "      <td>272538.0</td>\n",
       "      <td>2012</td>\n",
       "      <td>3839.0</td>\n",
       "      <td>53126150000</td>\n",
       "      <td>enacted</td>\n",
       "      <td>2.451755e+09</td>\n",
       "      <td>0.000002</td>\n",
       "    </tr>\n",
       "    <tr>\n",
       "      <th>2</th>\n",
       "      <td>283338.0</td>\n",
       "      <td>2013</td>\n",
       "      <td>10800.0</td>\n",
       "      <td>55591095000</td>\n",
       "      <td>enacted</td>\n",
       "      <td>2.464945e+09</td>\n",
       "      <td>0.000004</td>\n",
       "    </tr>\n",
       "    <tr>\n",
       "      <th>3</th>\n",
       "      <td>294444.0</td>\n",
       "      <td>2014</td>\n",
       "      <td>11106.0</td>\n",
       "      <td>57426584000</td>\n",
       "      <td>enacted</td>\n",
       "      <td>1.835489e+09</td>\n",
       "      <td>0.000006</td>\n",
       "    </tr>\n",
       "    <tr>\n",
       "      <th>4</th>\n",
       "      <td>307430.0</td>\n",
       "      <td>2015</td>\n",
       "      <td>12986.0</td>\n",
       "      <td>59011243000</td>\n",
       "      <td>estimate</td>\n",
       "      <td>1.584659e+09</td>\n",
       "      <td>0.000008</td>\n",
       "    </tr>\n",
       "    <tr>\n",
       "      <th>5</th>\n",
       "      <td>318560.0</td>\n",
       "      <td>2016</td>\n",
       "      <td>11130.0</td>\n",
       "      <td>63188040000</td>\n",
       "      <td>estimate</td>\n",
       "      <td>4.176797e+09</td>\n",
       "      <td>0.000003</td>\n",
       "    </tr>\n",
       "  </tbody>\n",
       "</table>\n",
       "</div>"
      ],
      "text/plain": [
       "      staff  year  staff_increase       budget    status      increase  \\\n",
       "0  268699.0  2011             NaN  50674395000   enacted  3.345330e+09   \n",
       "1  272538.0  2012          3839.0  53126150000   enacted  2.451755e+09   \n",
       "2  283338.0  2013         10800.0  55591095000   enacted  2.464945e+09   \n",
       "3  294444.0  2014         11106.0  57426584000   enacted  1.835489e+09   \n",
       "4  307430.0  2015         12986.0  59011243000  estimate  1.584659e+09   \n",
       "5  318560.0  2016         11130.0  63188040000  estimate  4.176797e+09   \n",
       "\n",
       "   staff_increase_per_budget_increase  \n",
       "0                                 NaN  \n",
       "1                            0.000002  \n",
       "2                            0.000004  \n",
       "3                            0.000006  \n",
       "4                            0.000008  \n",
       "5                            0.000003  "
      ]
     },
     "execution_count": 303,
     "metadata": {},
     "output_type": "execute_result"
    }
   ],
   "source": [
    "df"
   ]
  },
  {
   "cell_type": "code",
   "execution_count": 309,
   "metadata": {
    "collapsed": false
   },
   "outputs": [
    {
     "data": {
      "image/png": "[encoded data removed]",
      "text/plain": [
       "<matplotlib.figure.Figure at 0x10ac3e810>"
      ]
     },
     "metadata": {},
     "output_type": "display_data"
    }
   ],
   "source": [
    "ax = df.plot(kind='bar',x='year',y='increase')\n",
    "ax.set_title(\"Budget Increase in Billions (2015 and 2016 are estimates/requests)\")\n",
    "plt.tight_layout()"
   ]
  },
  {
   "cell_type": "code",
   "execution_count": 307,
   "metadata": {
    "collapsed": false
   },
   "outputs": [
    {
     "data": {
      "text/plain": [
       "<matplotlib.axes._subplots.AxesSubplot at 0x10a631fd0>"
      ]
     },
     "execution_count": 307,
     "metadata": {},
     "output_type": "execute_result"
    },
    {
     "data": {
      "image/png": "[encoded data removed]",
      "text/plain": [
       "<matplotlib.figure.Figure at 0x10a8360d0>"
      ]
     },
     "metadata": {},
     "output_type": "display_data"
    }
   ],
   "source": [
    "df.plot(kind='bar',x='year',y='staff_increase')"
   ]
  },
  {
   "cell_type": "code",
   "execution_count": 302,
   "metadata": {
    "collapsed": false
   },
   "outputs": [
    {
     "data": {
      "text/plain": [
       "<matplotlib.axes._subplots.AxesSubplot at 0x10a163d10>"
      ]
     },
     "execution_count": 302,
     "metadata": {},
     "output_type": "execute_result"
    },
    {
     "data": {
      "image/png": "[encoded data removed]",
      "text/plain": [
       "<matplotlib.figure.Figure at 0x10a1ab610>"
      ]
     },
     "metadata": {},
     "output_type": "display_data"
    }
   ],
   "source": [
    "df.plot(kind='scatter',x='increase',y='staff_increase')"
   ]
  },
  {
   "cell_type": "code",
   "execution_count": 304,
   "metadata": {
    "collapsed": false
   },
   "outputs": [
    {
     "data": {
      "text/plain": [
       "<matplotlib.axes._subplots.AxesSubplot at 0x10a1ab250>"
      ]
     },
     "execution_count": 304,
     "metadata": {},
     "output_type": "execute_result"
    },
    {
     "data": {
      "image/png": "[encoded data removed]",
      "text/plain": [
       "<matplotlib.figure.Figure at 0x10a3351d0>"
      ]
     },
     "metadata": {},
     "output_type": "display_data"
    }
   ],
   "source": [
    "df.plot(kind='scatter',x='budget',y='staff')"
   ]
  },
  {
   "cell_type": "code",
   "execution_count": 319,
   "metadata": {
    "collapsed": false
   },
   "outputs": [
    {
     "data": {
      "text/plain": [
       "8581.6666666666661"
      ]
     },
     "execution_count": 319,
     "metadata": {},
     "output_type": "execute_result"
    }
   ],
   "source": [
    "#looking at FY12,13 and 14 to see what the increase was and get the mean. \n",
    "Onboard.head(4).tail(3)[\"staff_increase\"].mean()"
   ]
  },
  {
   "cell_type": "code",
   "execution_count": 322,
   "metadata": {
    "collapsed": false
   },
   "outputs": [
    {
     "data": {
      "text/plain": [
       "MAY-FY12     3839.0\n",
       "MAY-FY13    10800.0\n",
       "MAY-FY14    11106.0\n",
       "Name: staff_increase, dtype: float64"
      ]
     },
     "execution_count": 322,
     "metadata": {},
     "output_type": "execute_result"
    }
   ],
   "source": [
    "Onboard.head(4).tail(3)[\"staff_increase\"]"
   ]
  },
  {
   "cell_type": "code",
   "execution_count": 329,
   "metadata": {
    "collapsed": false
   },
   "outputs": [
    {
     "data": {
      "text/plain": [
       "<matplotlib.axes._subplots.AxesSubplot at 0x10afaa210>"
      ]
     },
     "execution_count": 329,
     "metadata": {},
     "output_type": "execute_result"
    },
    {
     "data": {
      "image/png": "[encoded data removed]",
      "text/plain": [
       "<matplotlib.figure.Figure at 0x10b043f10>"
      ]
     },
     "metadata": {},
     "output_type": "display_data"
    }
   ],
   "source": [
    "Onboard.plot(kind='bar',y=\"staff_increase\",x='year')"
   ]
  },
  {
   "cell_type": "code",
   "execution_count": 400,
   "metadata": {
    "collapsed": false
   },
   "outputs": [],
   "source": [
    "Onboard = pd.read_csv(\"../Data/Staff_Size/Onboard_By_station_By_FY.csv\").head(1).drop(\"ORGANIZATION\",1).drop(\"ID\",1)\n",
    "\n",
    "staff_increase_dict = {}\n",
    "\n",
    "\n",
    "#staff_increase_dict[\"11-13\"] = Onboard[\"MAY-FY13\"] -Onboard[\"MAY-FY11\"]\n",
    "staff_increase_dict[\"12-14\"] = Onboard[\"MAY-FY14\"] -Onboard[\"MAY-FY12\"]\n",
    "#staff_increase_dict[\"13-15\"] = Onboard[\"MAY-FY15\"] -Onboard[\"MAY-FY13\"]\n",
    "staff_increase_dict[\"14-16\"] = Onboard[\"MAY-FY16\"] -Onboard[\"MAY-FY14\"]\n",
    "staff_increase_dict[\"14-16_without_choice\"] = Onboard[\"MAY-FY16\"] -Onboard[\"MAY-FY14\"] - choice_hires_total\n",
    "\n",
    "staff_increase = pd.DataFrame.from_dict(staff_increase_dict)\n",
    "staff_increase = staff_increase.transpose().reset_index()\n",
    "staff_increase.columns = [\"Year\",\"Raw Increase In Staff\"]"
   ]
  },
  {
   "cell_type": "code",
   "execution_count": 401,
   "metadata": {
    "collapsed": false
   },
   "outputs": [
    {
     "data": {
      "text/html": [
       "<div>\n",
       "<table border=\"1\" class=\"dataframe\">\n",
       "  <thead>\n",
       "    <tr style=\"text-align: right;\">\n",
       "      <th></th>\n",
       "      <th>Year</th>\n",
       "      <th>Raw Increase In Staff</th>\n",
       "    </tr>\n",
       "  </thead>\n",
       "  <tbody>\n",
       "    <tr>\n",
       "      <th>0</th>\n",
       "      <td>12-14</td>\n",
       "      <td>21906.0</td>\n",
       "    </tr>\n",
       "    <tr>\n",
       "      <th>1</th>\n",
       "      <td>14-16</td>\n",
       "      <td>24116.0</td>\n",
       "    </tr>\n",
       "    <tr>\n",
       "      <th>2</th>\n",
       "      <td>14-16_without_choice</td>\n",
       "      <td>11808.0</td>\n",
       "    </tr>\n",
       "  </tbody>\n",
       "</table>\n",
       "</div>"
      ],
      "text/plain": [
       "                   Year  Raw Increase In Staff\n",
       "0                 12-14                21906.0\n",
       "1                 14-16                24116.0\n",
       "2  14-16_without_choice                11808.0"
      ]
     },
     "execution_count": 401,
     "metadata": {},
     "output_type": "execute_result"
    }
   ],
   "source": [
    "staff_increase"
   ]
  },
  {
   "cell_type": "code",
   "execution_count": 436,
   "metadata": {
    "collapsed": false
   },
   "outputs": [
    {
     "data": {
      "image/png": "[encoded data removed]",
      "text/plain": [
       "<matplotlib.figure.Figure at 0x10c1d3110>"
      ]
     },
     "metadata": {},
     "output_type": "display_data"
    }
   ],
   "source": [
    "ax = staff_increase.plot(kind='bar',x=\"Year\",y=\"Raw Increase In Staff\",color = 'teal',edgecolor='none')\n",
    "ax.legend_.remove()"
   ]
  },
  {
   "cell_type": "code",
   "execution_count": 445,
   "metadata": {
    "collapsed": false
   },
   "outputs": [
    {
     "data": {
      "text/html": [
       "<div>\n",
       "<table border=\"1\" class=\"dataframe\">\n",
       "  <thead>\n",
       "    <tr style=\"text-align: right;\">\n",
       "      <th></th>\n",
       "      <th>11-13</th>\n",
       "      <th>12-14</th>\n",
       "      <th>13-15</th>\n",
       "      <th>14-16</th>\n",
       "    </tr>\n",
       "  </thead>\n",
       "  <tbody>\n",
       "    <tr>\n",
       "      <th>0</th>\n",
       "      <td>5.448104</td>\n",
       "      <td>8.037778</td>\n",
       "      <td>8.502919</td>\n",
       "      <td>8.190352</td>\n",
       "    </tr>\n",
       "  </tbody>\n",
       "</table>\n",
       "</div>"
      ],
      "text/plain": [
       "      11-13     12-14     13-15     14-16\n",
       "0  5.448104  8.037778  8.502919  8.190352"
      ]
     },
     "execution_count": 445,
     "metadata": {},
     "output_type": "execute_result"
    }
   ],
   "source": [
    "percent_increase"
   ]
  },
  {
   "cell_type": "code",
   "execution_count": 404,
   "metadata": {
    "collapsed": false
   },
   "outputs": [
    {
     "data": {
      "text/plain": [
       "1835489000.0"
      ]
     },
     "execution_count": 404,
     "metadata": {},
     "output_type": "execute_result"
    }
   ],
   "source": [
    "budget[\"increase\"][4]"
   ]
  },
  {
   "cell_type": "code",
   "execution_count": 435,
   "metadata": {
    "collapsed": false
   },
   "outputs": [
    {
     "name": "stdout",
     "output_type": "stream",
     "text": [
      "Between 2014 and 2016, staffing levels went up by 24116.0 onboard employees.\n",
      "From 2012 to 2014, staffing levels went up by 21906.0 onboard employees.\n",
      "That means there were 2210.0 more employees added between 2014 and 2016 compared to 2012 and 2014.\n",
      "Which means that 12308 choice hires being hired using an allocated 2213000000,\n",
      "an amount equivelant to 26.0 percent of the VHA's entire 2014 budget,\n",
      "there was only 10.0 percent more staff was added versus 2012 to 2014.\n",
      "Or to put it another day, a 0.152573767354 percentage point difference.\n"
     ]
    }
   ],
   "source": [
    "# The Math\n",
    "difference = staff_increase[\"Raw Increase In Staff\"][1] - staff_increase[\"Raw Increase In Staff\"][0]\n",
    "percent_more = round((difference/staff_increase[\"Raw Increase In Staff\"][0])*100)\n",
    "percent_of_budget = round(budget[\"budget\"][4]/for_hiring)\n",
    "percent_difference = percent_increase[\"14-16\"].item() - percent_increase[\"12-14\"].item()\n",
    "# Statement\n",
    "print \"Between 2014 and 2016, staffing levels went up by {} onboard employees.\".format(staff_increase[\"Raw Increase In Staff\"][1])\n",
    "print \"From 2012 to 2014, staffing levels went up by {} onboard employees.\".format(staff_increase[\"Raw Increase In Staff\"][0])\n",
    "print \"That means there were {} more employees added between 2014 and 2016 compared to 2012 and 2014.\".format(difference)\n",
    "print \"Which means that {} choice hires being hired using an allocated {},\".format(choice_hires_total,for_hiring)\n",
    "print \"an amount equivelant to {} percent of the VHA's entire 2014 budget,\".format(percent_of_budget)\n",
    "print \"there was only {} percent more staff was added versus 2012 to 2014.\".format(percent_more)\n",
    "print \"Or to put it another day, a {} percentage point difference.\".format(percent_difference)\n",
    "\n"
   ]
  },
  {
   "cell_type": "code",
   "execution_count": 428,
   "metadata": {
    "collapsed": false
   },
   "outputs": [
    {
     "data": {
      "text/plain": [
       "0.15257376735361028"
      ]
     },
     "execution_count": 428,
     "metadata": {},
     "output_type": "execute_result"
    }
   ],
   "source": [
    "percent_increase[\"14-16\"].item() - percent_increase[\"12-14\"].item()"
   ]
  },
  {
   "cell_type": "code",
   "execution_count": 366,
   "metadata": {
    "collapsed": false
   },
   "outputs": [
    {
     "data": {
      "text/plain": [
       "0    24116\n",
       "dtype: int64"
      ]
     },
     "execution_count": 366,
     "metadata": {},
     "output_type": "execute_result"
    }
   ],
   "source": [
    "Onboard[\"MAY-FY16\"] -Onboard[\"MAY-FY14\"]"
   ]
  },
  {
   "cell_type": "markdown",
   "metadata": {},
   "source": [
    "### Let's figure out their hiring rate. \n"
   ]
  },
  {
   "cell_type": "code",
   "execution_count": 398,
   "metadata": {
    "collapsed": false
   },
   "outputs": [
    {
     "name": "stdout",
     "output_type": "stream",
     "text": [
      "Ndidi said they hired 59965 people in 17 months.\n",
      "That comes out to hires 3527.0 per month.\n",
      "Across 24 months, that would have been 84648.0 hires.\n",
      "Yet they only increased their staff by 24116.0.\n",
      "That leaves a difference of 60532.0\n",
      "Now, some of these could be because of turnover. Shulkin said they were seeing a 9 percent turnover rate.\n",
      "So let's apply that 9 percent turnover rate. That would mean a projected 54169.0 employees were lost to turnover during that two year period.\n",
      "That leaves us with a projecting 6363.0 missing hires.\n",
      "That would mean 13.0 percent of the  hires never made it to being onboard.\n"
     ]
    }
   ],
   "source": [
    "# The Math\n",
    "amount_hired = 59965\n",
    "time_period_months = 17\n",
    "hires_per_month = round(amount_hired/time_period_months)\n",
    "projected_hires_two_years = round(hires_per_month*24)\n",
    "increase_2014_2016 = round(Onboard[\"MAY-FY16\"].item() -Onboard[\"MAY-FY14\"].item())\n",
    "difference = round(projected_hires_two_years - increase_2014_2016)\n",
    "turnover_in_2014 = round(Onboard[\"MAY-FY14\"].item()*.09)\n",
    "turnover_in_2015 = round(Onboard[\"MAY-FY15\"].item()*.09)\n",
    "loss_from_turnover = round(turnover_in_2014 + turnover_in_2015)\n",
    "difference_subtrated_turnover = round(difference - loss_from_turnover)\n",
    "percent_of_hires_missing = round(projected_hires_two_years/difference_subtrated_turnover)\n",
    "# The Statement\n",
    "\n",
    "print \"Ndidi said they hired {} people in {} months.\".format(amount_hired, time_period_months)\n",
    "print \"That comes out to hires {} per month.\".format(hires_per_month)\n",
    "print \"Across 24 months, that would be a projected {} hires.\".format(projected_hires_two_years)\n",
    "print \"Yet they only increased their staff by {}.\".format(increase_2014_2016)\n",
    "print \"That leaves a difference of {}\".format(difference)\n",
    "print \"Now, some of these could be because of turnover. Shulkin said they were seeing a 9 percent turnover rate.\"\n",
    "print \"So let's apply that 9 percent turnover rate. That would mean a projected {} employees were lost to\"\\\n",
    "\" turnover during that two year period.\".format(loss_from_turnover)\n",
    "print \"That leaves us with a projecting {} missing hires.\".format(difference_subtrated_turnover)\n",
    "print \"That would mean {} percent of the  hires never made it to being onboard.\".format(percent_of_hires_missing)"
   ]
  },
  {
   "cell_type": "code",
   "execution_count": 442,
   "metadata": {
    "collapsed": false
   },
   "outputs": [
    {
     "data": {
      "text/plain": [
       "12308"
      ]
     },
     "execution_count": 442,
     "metadata": {},
     "output_type": "execute_result"
    }
   ],
   "source": [
    "choice_hires_total"
   ]
  },
  {
   "cell_type": "code",
   "execution_count": 440,
   "metadata": {
    "collapsed": false
   },
   "outputs": [
    {
     "data": {
      "text/plain": [
       "6363.0"
      ]
     },
     "execution_count": 440,
     "metadata": {},
     "output_type": "execute_result"
    }
   ],
   "source": [
    "difference_subtrated_turnover"
   ]
  },
  {
   "cell_type": "code",
   "execution_count": 443,
   "metadata": {
    "collapsed": false
   },
   "outputs": [
    {
     "data": {
      "text/plain": [
       "0.516980825479363"
      ]
     },
     "execution_count": 443,
     "metadata": {},
     "output_type": "execute_result"
    }
   ],
   "source": [
    "difference_subtrated_turnover/choice_hires_total"
   ]
  },
  {
   "cell_type": "code",
   "execution_count": 444,
   "metadata": {
    "collapsed": false
   },
   "outputs": [
    {
     "data": {
      "text/html": [
       "<div>\n",
       "<table border=\"1\" class=\"dataframe\">\n",
       "  <thead>\n",
       "    <tr style=\"text-align: right;\">\n",
       "      <th></th>\n",
       "      <th>year</th>\n",
       "      <th>budget</th>\n",
       "      <th>status</th>\n",
       "      <th>increase</th>\n",
       "    </tr>\n",
       "  </thead>\n",
       "  <tbody>\n",
       "    <tr>\n",
       "      <th>0</th>\n",
       "      <td>2010</td>\n",
       "      <td>47329065000</td>\n",
       "      <td>enacted</td>\n",
       "      <td>NaN</td>\n",
       "    </tr>\n",
       "    <tr>\n",
       "      <th>1</th>\n",
       "      <td>2011</td>\n",
       "      <td>50674395000</td>\n",
       "      <td>enacted</td>\n",
       "      <td>3.345330e+09</td>\n",
       "    </tr>\n",
       "    <tr>\n",
       "      <th>2</th>\n",
       "      <td>2012</td>\n",
       "      <td>53126150000</td>\n",
       "      <td>enacted</td>\n",
       "      <td>2.451755e+09</td>\n",
       "    </tr>\n",
       "    <tr>\n",
       "      <th>3</th>\n",
       "      <td>2013</td>\n",
       "      <td>55591095000</td>\n",
       "      <td>enacted</td>\n",
       "      <td>2.464945e+09</td>\n",
       "    </tr>\n",
       "    <tr>\n",
       "      <th>4</th>\n",
       "      <td>2014</td>\n",
       "      <td>57426584000</td>\n",
       "      <td>enacted</td>\n",
       "      <td>1.835489e+09</td>\n",
       "    </tr>\n",
       "    <tr>\n",
       "      <th>5</th>\n",
       "      <td>2015</td>\n",
       "      <td>59011243000</td>\n",
       "      <td>estimate</td>\n",
       "      <td>1.584659e+09</td>\n",
       "    </tr>\n",
       "    <tr>\n",
       "      <th>6</th>\n",
       "      <td>2016</td>\n",
       "      <td>63188040000</td>\n",
       "      <td>estimate</td>\n",
       "      <td>4.176797e+09</td>\n",
       "    </tr>\n",
       "  </tbody>\n",
       "</table>\n",
       "</div>"
      ],
      "text/plain": [
       "   year       budget    status      increase\n",
       "0  2010  47329065000   enacted           NaN\n",
       "1  2011  50674395000   enacted  3.345330e+09\n",
       "2  2012  53126150000   enacted  2.451755e+09\n",
       "3  2013  55591095000   enacted  2.464945e+09\n",
       "4  2014  57426584000   enacted  1.835489e+09\n",
       "5  2015  59011243000  estimate  1.584659e+09\n",
       "6  2016  63188040000  estimate  4.176797e+09"
      ]
     },
     "execution_count": 444,
     "metadata": {},
     "output_type": "execute_result"
    }
   ],
   "source": [
    "budget"
   ]
  },
  {
   "cell_type": "code",
   "execution_count": 447,
   "metadata": {
    "collapsed": false
   },
   "outputs": [
    {
     "data": {
      "text/plain": [
       "0             NaN\n",
       "1    3.345330e+09\n",
       "2    2.451755e+09\n",
       "3    2.464945e+09\n",
       "4    1.835489e+09\n",
       "5    1.584659e+09\n",
       "6    4.176797e+09\n",
       "Name: increase, dtype: float64"
      ]
     },
     "execution_count": 447,
     "metadata": {},
     "output_type": "execute_result"
    }
   ],
   "source": [
    "budget[\"increase\"]"
   ]
  },
  {
   "cell_type": "markdown",
   "metadata": {},
   "source": [
    "# VA also mentioned how they distributed choice hires. Let's see if we can check that out.\n",
    "\n",
    "### Va Response:\n",
    "\n",
    "\"At the direction of VHA CO leadership, VHA directed a **5% proportional prioritization** of the VACAA 801 funds distribution to **30 VAMCs experiencing the greatest challenges with Veterans access.**  Since access remained a critical priority across the entire VA Health Care System, **the remaining funds were distributed proportionally** across all sites, **based upon the Veterans population to be served.**\"\n",
    "\n",
    "### the proxies:\n",
    "\n",
    "- Veterans access - Percent over 30 days to see an appointment. \n",
    "- Veterans population served - appointments? Could later bring in census data."
   ]
  },
  {
   "cell_type": "code",
   "execution_count": 147,
   "metadata": {
    "collapsed": false
   },
   "outputs": [
    {
     "name": "stderr",
     "output_type": "stream",
     "text": [
      "/usr/local/lib/python2.7/site-packages/ipykernel/__main__.py:1: FutureWarning: sort(columns=....) is deprecated, use sort_values(by=.....)\n",
      "  if __name__ == '__main__':\n"
     ]
    },
    {
     "data": {
      "text/plain": [
       "45     24.23\n",
       "33     20.32\n",
       "34     19.44\n",
       "86     16.61\n",
       "44     15.31\n",
       "108    14.22\n",
       "50     13.93\n",
       "99     13.57\n",
       "21     13.33\n",
       "73     13.25\n",
       "123    13.08\n",
       "92     13.02\n",
       "98     12.72\n",
       "102    12.12\n",
       "105    11.92\n",
       "103    11.56\n",
       "122    11.53\n",
       "113    11.37\n",
       "125    10.87\n",
       "60     10.69\n",
       "38     10.62\n",
       "110    10.37\n",
       "131     9.95\n",
       "130     9.40\n",
       "25      9.30\n",
       "118     9.26\n",
       "5       9.26\n",
       "106     9.24\n",
       "55      9.14\n",
       "77      9.00\n",
       "Name: %_Appts_Over_30_Pending_1412, dtype: float64"
      ]
     },
     "execution_count": 147,
     "metadata": {},
     "output_type": "execute_result"
    }
   ],
   "source": [
    "df = pd.read_csv(\"../Data/Master/Master.csv\").sort(\"%_Appts_Over_30_Pending_1412\",ascending=False)\n",
    "df[\"%_Appts_Over_30_Pending_1412\"].head(30)"
   ]
  },
  {
   "cell_type": "code",
   "execution_count": 168,
   "metadata": {
    "collapsed": false
   },
   "outputs": [
    {
     "data": {
      "text/plain": [
       "<matplotlib.axes._subplots.AxesSubplot at 0x10760edd0>"
      ]
     },
     "execution_count": 168,
     "metadata": {},
     "output_type": "execute_result"
    },
    {
     "data": {
      "image/png": "[encoded data removed]",
      "text/plain": [
       "<matplotlib.figure.Figure at 0x107c05a90>"
      ]
     },
     "metadata": {},
     "output_type": "display_data"
    }
   ],
   "source": [
    "df[\"%_Appts_Over_30_Pending_1412\"].hist(bins=20)"
   ]
  },
  {
   "cell_type": "code",
   "execution_count": 169,
   "metadata": {
    "collapsed": true
   },
   "outputs": [],
   "source": [
    "mark = []\n",
    "for index, row in df.iterrows():\n",
    "    if row[\"%_Appts_Over_30_Pending_1412\"] >= 15:\n",
    "        mark.append(\"Worst\")\n",
    "    elif row[\"%_Appts_Over_30_Pending_1412\"] >= 10:\n",
    "        mark.append(\"Bad\")\n",
    "    elif row[\"%_Appts_Over_30_Pending_1412\"] >= 5:\n",
    "        mark.append(\"Need Improvement\")\n",
    "    elif row[\"%_Appts_Over_30_Pending_1412\"] >= 0:\n",
    "        mark.append(\"better\")\n",
    "df[\"Mark\"] = mark"
   ]
  },
  {
   "cell_type": "code",
   "execution_count": 176,
   "metadata": {
    "collapsed": false
   },
   "outputs": [
    {
     "data": {
      "image/png": "[encoded data removed]",
      "text/plain": [
       "<matplotlib.figure.Figure at 0x1082a08d0>"
      ]
     },
     "metadata": {},
     "output_type": "display_data"
    }
   ],
   "source": [
    "\n",
    "\n",
    "\n",
    "fig, ax = plt.subplots()\n",
    "\n",
    "colors = { 'Worst':'red','Bad':'orange','Need Improvement':'pink','better':'teal'}\n",
    "ax.scatter(df[\"%_Appts_Over_30_Pending_1412\"], df[\"%_Appts_Over_30_Pending_1610\"], c=df['Mark'].apply(lambda x: colors[x]), edgecolors='none')\n",
    "ax.grid()\n",
    "ax.set_ylim(0,30)\n",
    "ax.set_xlim(0,30)\n",
    "\n",
    "plt.show()"
   ]
  },
  {
   "cell_type": "code",
   "execution_count": 165,
   "metadata": {
    "collapsed": false
   },
   "outputs": [
    {
     "data": {
      "text/plain": [
       "Index([u'Appts_Pending_1412', u'%_Appts_Over_30_Pending_1412',\n",
       "       u'PC_Wait_Pending_1412', u'SC_Wait_Pending_1412',\n",
       "       u'MH_Wait_Pending_1412', u'for_dups', u'ORGANIZATION', u'MAY-FY11',\n",
       "       u'MAY-FY12', u'MAY-FY13', u'MAY-FY14', u'MAY-FY15', u'MAY-FY16', u'ID',\n",
       "       u'Appts_Pending_1610', u'%_Appts_Over_30_Pending_1610',\n",
       "       u'PC_Wait_Pending_1610', u'SC_Wait_Pending_1610',\n",
       "       u'MH_Wait_Pending_1610', u'Appts_Complete_1608',\n",
       "       u'%_Appts_Over_30_Complete_1608', u'PC_Wait_Complete_1608',\n",
       "       u'SC_Wait_Complete_1608', u'MH_Wait_Complete_1608', u'Station',\n",
       "       u'Location', u'Choice_Hires', u'Interim', u'Vacancy',\n",
       "       u'%_Appts_Over_30_Complete_1409', u'Appts_Complete_1409',\n",
       "       u'MH_Wait_Complete_1409', u'PC_Wait_Complete_1409',\n",
       "       u'SC_Wait_Complete_1409', u'Physician_Turnover_FY11',\n",
       "       u'Physician_Turnover_FY12', u'Physician_Turnover_FY13',\n",
       "       u'Physician_Turnover_FY14', u'Physician_Turnover_FY15',\n",
       "       u'NbrPsychiatrists', u'Pending_Increase', u'Pending_Increase_%',\n",
       "       u'Complete_Increase', u'Complete_Increase_%',\n",
       "       u'Complete_Pending_Appts_Diff_14', u'Complete_Pending_Appts_Diff_16',\n",
       "       u'Complete_Pending_Appts_Diff_14_%',\n",
       "       u'Complete_Pending_Appts_Diff_16_%', u'Complete_Pending_Gap_Increase_%',\n",
       "       u'Missing_Leadership', u'Staff_11_To_12_Increase',\n",
       "       u'Staff_11_To_12_Increase_%', u'Staff_12_To_13_Increase',\n",
       "       u'Staff_12_To_13_Increase_%', u'Staff_13_To_14_Increase',\n",
       "       u'Staff_13_To_14_Increase_%', u'Staff_14_To_15_Increase',\n",
       "       u'Staff_14_To_15_Increase_%', u'Staff_15_To_16_Increase',\n",
       "       u'Staff_15_To_16_Increase_%', u'Staff_14_To_16_Increase',\n",
       "       u'Staff_14_To_16_Increase_%', u'Choice_Increase_%', u'Choice_Staff_Dif',\n",
       "       u'Choice_Increase_%_PC_Wait_Complete_1409_Ratio',\n",
       "       u'Choice_Increase_%_PC_Wait_Pending_1412_Ratio',\n",
       "       u'PC_Wait_Pending_Increase', u'PC_Wait_Pending_Increase_%',\n",
       "       u'PC_Wait_Complete_Increase', u'PC_Wait_Complete_Increase_%',\n",
       "       u'SC_Wait_Pending_Increase', u'SC_Wait_Pending_Increase_%',\n",
       "       u'SC_Wait_Complete_Increase', u'SC_Wait_Complete_Increase_%',\n",
       "       u'MH_Wait_Pending_Increase', u'MH_Wait_Pending_Increase_%',\n",
       "       u'MH_Wait_Complete_Increase', u'MH_Wait_Complete_Increase_%',\n",
       "       u'Staff_To_Appts_Pending_14', u'Staff_To_Appts_Pending_16',\n",
       "       u'Staff_To_Appts_Complete_14', u'Staff_To_Appts_Complete_16',\n",
       "       u'Percentage_Point_Wait_Over_30_Increase_Pending',\n",
       "       u'Percentage_Point_Wait_Over_30_Increase_Complete', u'State', u'Name',\n",
       "       u'qualitative_size', u'Mark'],\n",
       "      dtype='object')"
      ]
     },
     "execution_count": 165,
     "metadata": {},
     "output_type": "execute_result"
    }
   ],
   "source": [
    "df.columns"
   ]
  },
  {
   "cell_type": "code",
   "execution_count": 177,
   "metadata": {
    "collapsed": false
   },
   "outputs": [
    {
     "data": {
      "image/png": "[encoded data removed]",
      "text/plain": [
       "<matplotlib.figure.Figure at 0x108651c50>"
      ]
     },
     "metadata": {},
     "output_type": "display_data"
    }
   ],
   "source": [
    "fig, ax = plt.subplots()\n",
    "\n",
    "ax.scatter(df[\"%_Appts_Over_30_Pending_1412\"], df['Percentage_Point_Wait_Over_30_Increase_Pending'], c=df['Mark'].apply(lambda x: colors[x]), edgecolors='none',alpha=.5)\n",
    "ax.grid()\n"
   ]
  },
  {
   "cell_type": "code",
   "execution_count": 179,
   "metadata": {
    "collapsed": false
   },
   "outputs": [
    {
     "data": {
      "text/plain": [
       "<matplotlib.collections.PathCollection at 0x1092cb790>"
      ]
     },
     "execution_count": 179,
     "metadata": {},
     "output_type": "execute_result"
    },
    {
     "data": {
      "image/png": "[encoded data removed]",
      "text/plain": [
       "<matplotlib.figure.Figure at 0x1090552d0>"
      ]
     },
     "metadata": {},
     "output_type": "display_data"
    }
   ],
   "source": [
    "fig, ax = plt.subplots()\n",
    "\n",
    "ax.scatter(df[\"%_Appts_Over_30_Pending_1412\"], df['Choice_Increase_%'], c=df['Mark'].apply(lambda x: colors[x]), edgecolors='none',alpha=.5)\n",
    "#ax.grid()"
   ]
  },
  {
   "cell_type": "code",
   "execution_count": 181,
   "metadata": {
    "collapsed": false
   },
   "outputs": [
    {
     "data": {
      "text/plain": [
       "<matplotlib.collections.PathCollection at 0x1095b4a10>"
      ]
     },
     "execution_count": 181,
     "metadata": {},
     "output_type": "execute_result"
    },
    {
     "data": {
      "image/png": "[encoded data removed]",
      "text/plain": [
       "<matplotlib.figure.Figure at 0x109178b50>"
      ]
     },
     "metadata": {},
     "output_type": "display_data"
    }
   ],
   "source": [
    "fig, ax = plt.subplots()\n",
    "\n",
    "ax.scatter(df[\"%_Appts_Over_30_Pending_1412\"], df['Choice_Increase_%'], c=df['Mark'].apply(lambda x: colors[x]), edgecolors='none',alpha=.5)\n",
    "#ax.grid()"
   ]
  },
  {
   "cell_type": "code",
   "execution_count": null,
   "metadata": {
    "collapsed": true
   },
   "outputs": [],
   "source": [
    "fig, ax = plt.subplots()\n",
    "\n",
    "ax.scatter(df[\"%_Appts_Over_30_Pending_1412\"], df['Choice_Increase_%'], c=df['Mark'].apply(lambda x: colors[x]), edgecolors='none',alpha=.5)\n",
    "#ax.grid()"
   ]
  },
  {
   "cell_type": "code",
   "execution_count": 182,
   "metadata": {
    "collapsed": false
   },
   "outputs": [
    {
     "data": {
      "text/plain": [
       "<matplotlib.collections.PathCollection at 0x1091acb90>"
      ]
     },
     "execution_count": 182,
     "metadata": {},
     "output_type": "execute_result"
    },
    {
     "data": {
      "image/png": "[encoded data removed]",
      "text/plain": [
       "<matplotlib.figure.Figure at 0x1095fc190>"
      ]
     },
     "metadata": {},
     "output_type": "display_data"
    }
   ],
   "source": [
    "fig, ax = plt.subplots()\n",
    "\n",
    "ax.scatter(df[\"MAY-FY14\"], df['Choice_Hires'], c=df['Mark'].apply(lambda x: colors[x]), edgecolors='none',alpha=.5)\n",
    "#ax.grid()"
   ]
  },
  {
   "cell_type": "markdown",
   "metadata": {},
   "source": [
    "# Using Appointments as proxy "
   ]
  },
  {
   "cell_type": "code",
   "execution_count": 217,
   "metadata": {
    "collapsed": false
   },
   "outputs": [
    {
     "name": "stderr",
     "output_type": "stream",
     "text": [
      "/usr/local/lib/python2.7/site-packages/ipykernel/__main__.py:13: SettingWithCopyWarning: \n",
      "A value is trying to be set on a copy of a slice from a DataFrame.\n",
      "Try using .loc[row_indexer,col_indexer] = value instead\n",
      "\n",
      "See the caveats in the documentation: http://pandas.pydata.org/pandas-docs/stable/indexing.html#indexing-view-versus-copy\n"
     ]
    }
   ],
   "source": [
    "hires = df[df[\"Choice_Increase_%\"].notnull()]\n",
    "hires = df[df[\"MAY-FY14\"] > 500]\n",
    "mark = []\n",
    "for index, row in hires.iterrows():\n",
    "    if row[\"Choice_Increase_%\"] >= 15:\n",
    "        mark.append(\"huge increase\")\n",
    "    elif row[\"Choice_Increase_%\"] >= 12:\n",
    "        mark.append(\"big increase\")\n",
    "    elif row[\"Choice_Increase_%\"] >= 5:\n",
    "        mark.append(\"above average\")\n",
    "    elif row[\"Choice_Increase_%\"] >= 0:\n",
    "        mark.append(\"below average\")\n",
    "hires[\"Mark\"] = mark"
   ]
  },
  {
   "cell_type": "code",
   "execution_count": 218,
   "metadata": {
    "collapsed": false
   },
   "outputs": [
    {
     "data": {
      "text/plain": [
       "<matplotlib.axes._subplots.AxesSubplot at 0x108433250>"
      ]
     },
     "execution_count": 218,
     "metadata": {},
     "output_type": "execute_result"
    },
    {
     "data": {
      "image/png": "[encoded data removed]",
      "text/plain": [
       "<matplotlib.figure.Figure at 0x10831dfd0>"
      ]
     },
     "metadata": {},
     "output_type": "display_data"
    }
   ],
   "source": [
    "hires[\"Choice_Increase_%\"].hist(bins=20)"
   ]
  },
  {
   "cell_type": "code",
   "execution_count": 219,
   "metadata": {
    "collapsed": false
   },
   "outputs": [
    {
     "data": {
      "text/plain": [
       "<matplotlib.collections.PathCollection at 0x109bdce10>"
      ]
     },
     "execution_count": 219,
     "metadata": {},
     "output_type": "execute_result"
    },
    {
     "data": {
      "image/png": "[encoded data removed]",
      "text/plain": [
       "<matplotlib.figure.Figure at 0x109b35f90>"
      ]
     },
     "metadata": {},
     "output_type": "display_data"
    }
   ],
   "source": [
    "fig, ax = plt.subplots()\n",
    "colors = { 'huge increase':'red','big increase':'orange','above average':'pink','below average':'teal'}\n",
    "\n",
    "ax.scatter(hires[\"%_Appts_Over_30_Pending_1412\"], hires[\"Appts_Complete_1409\"], c=hires['Mark'].apply(lambda x: colors[x]), edgecolors='none',alpha=.5)\n",
    "#ax.grid()"
   ]
  },
  {
   "cell_type": "code",
   "execution_count": 204,
   "metadata": {
    "collapsed": false
   },
   "outputs": [
    {
     "data": {
      "text/plain": [
       "2.8956530766249999"
      ]
     },
     "execution_count": 204,
     "metadata": {},
     "output_type": "execute_result"
    }
   ],
   "source": [
    "hires[\"Choice_Increase_%\"].quantile(q=.25)"
   ]
  },
  {
   "cell_type": "code",
   "execution_count": 208,
   "metadata": {
    "collapsed": false
   },
   "outputs": [
    {
     "data": {
      "text/plain": [
       "45     29482\n",
       "33     36397\n",
       "34     30057\n",
       "86     49730\n",
       "44     18733\n",
       "108    48874\n",
       "50     90218\n",
       "99     37335\n",
       "21     17926\n",
       "73     45087\n",
       "123    64997\n",
       "92     35431\n",
       "98     18101\n",
       "102    55618\n",
       "105    20803\n",
       "103    15069\n",
       "122    19732\n",
       "113    20010\n",
       "125    24654\n",
       "60     16966\n",
       "38     56618\n",
       "110    28963\n",
       "131    65683\n",
       "130    60802\n",
       "25     39256\n",
       "118    10517\n",
       "5      19536\n",
       "106    22091\n",
       "55     28712\n",
       "77     54663\n",
       "       ...  \n",
       "57     47323\n",
       "111     6596\n",
       "121    15226\n",
       "63     27992\n",
       "0      24458\n",
       "4      17616\n",
       "80     31391\n",
       "26     35530\n",
       "91     24501\n",
       "11     13449\n",
       "94     25728\n",
       "15     26650\n",
       "17     30955\n",
       "7      48622\n",
       "1      19232\n",
       "76     17161\n",
       "120     2292\n",
       "56     38286\n",
       "24     26534\n",
       "68     31610\n",
       "3      45669\n",
       "19     14938\n",
       "84     41239\n",
       "71     24707\n",
       "20      8692\n",
       "16     50405\n",
       "51     77005\n",
       "78     24293\n",
       "22     15159\n",
       "138    44645\n",
       "Name: Appts_Complete_1409, dtype: int64"
      ]
     },
     "execution_count": 208,
     "metadata": {},
     "output_type": "execute_result"
    }
   ],
   "source": [
    "df[\"Appts_Complete_1409\"]"
   ]
  },
  {
   "cell_type": "code",
   "execution_count": 222,
   "metadata": {
    "collapsed": false
   },
   "outputs": [
    {
     "data": {
      "text/plain": [
       "<matplotlib.axes._subplots.AxesSubplot at 0x107995890>"
      ]
     },
     "execution_count": 222,
     "metadata": {},
     "output_type": "execute_result"
    },
    {
     "data": {
      "image/png": "[encoded data removed]",
      "text/plain": [
       "<matplotlib.figure.Figure at 0x109d6c890>"
      ]
     },
     "metadata": {},
     "output_type": "display_data"
    }
   ],
   "source": [
    "hires.plot(kind='scatter',x=\"Appts_Complete_1409\",y='Choice_Increase_%')"
   ]
  },
  {
   "cell_type": "code",
   "execution_count": 220,
   "metadata": {
    "collapsed": false
   },
   "outputs": [
    {
     "data": {
      "text/plain": [
       "Index([u'Appts_Pending_1412', u'%_Appts_Over_30_Pending_1412',\n",
       "       u'PC_Wait_Pending_1412', u'SC_Wait_Pending_1412',\n",
       "       u'MH_Wait_Pending_1412', u'for_dups', u'ORGANIZATION', u'MAY-FY11',\n",
       "       u'MAY-FY12', u'MAY-FY13', u'MAY-FY14', u'MAY-FY15', u'MAY-FY16', u'ID',\n",
       "       u'Appts_Pending_1610', u'%_Appts_Over_30_Pending_1610',\n",
       "       u'PC_Wait_Pending_1610', u'SC_Wait_Pending_1610',\n",
       "       u'MH_Wait_Pending_1610', u'Appts_Complete_1608',\n",
       "       u'%_Appts_Over_30_Complete_1608', u'PC_Wait_Complete_1608',\n",
       "       u'SC_Wait_Complete_1608', u'MH_Wait_Complete_1608', u'Station',\n",
       "       u'Location', u'Choice_Hires', u'Interim', u'Vacancy',\n",
       "       u'%_Appts_Over_30_Complete_1409', u'Appts_Complete_1409',\n",
       "       u'MH_Wait_Complete_1409', u'PC_Wait_Complete_1409',\n",
       "       u'SC_Wait_Complete_1409', u'Physician_Turnover_FY11',\n",
       "       u'Physician_Turnover_FY12', u'Physician_Turnover_FY13',\n",
       "       u'Physician_Turnover_FY14', u'Physician_Turnover_FY15',\n",
       "       u'NbrPsychiatrists', u'Pending_Increase', u'Pending_Increase_%',\n",
       "       u'Complete_Increase', u'Complete_Increase_%',\n",
       "       u'Complete_Pending_Appts_Diff_14', u'Complete_Pending_Appts_Diff_16',\n",
       "       u'Complete_Pending_Appts_Diff_14_%',\n",
       "       u'Complete_Pending_Appts_Diff_16_%', u'Complete_Pending_Gap_Increase_%',\n",
       "       u'Missing_Leadership', u'Staff_11_To_12_Increase',\n",
       "       u'Staff_11_To_12_Increase_%', u'Staff_12_To_13_Increase',\n",
       "       u'Staff_12_To_13_Increase_%', u'Staff_13_To_14_Increase',\n",
       "       u'Staff_13_To_14_Increase_%', u'Staff_14_To_15_Increase',\n",
       "       u'Staff_14_To_15_Increase_%', u'Staff_15_To_16_Increase',\n",
       "       u'Staff_15_To_16_Increase_%', u'Staff_14_To_16_Increase',\n",
       "       u'Staff_14_To_16_Increase_%', u'Choice_Increase_%', u'Choice_Staff_Dif',\n",
       "       u'Choice_Increase_%_PC_Wait_Complete_1409_Ratio',\n",
       "       u'Choice_Increase_%_PC_Wait_Pending_1412_Ratio',\n",
       "       u'PC_Wait_Pending_Increase', u'PC_Wait_Pending_Increase_%',\n",
       "       u'PC_Wait_Complete_Increase', u'PC_Wait_Complete_Increase_%',\n",
       "       u'SC_Wait_Pending_Increase', u'SC_Wait_Pending_Increase_%',\n",
       "       u'SC_Wait_Complete_Increase', u'SC_Wait_Complete_Increase_%',\n",
       "       u'MH_Wait_Pending_Increase', u'MH_Wait_Pending_Increase_%',\n",
       "       u'MH_Wait_Complete_Increase', u'MH_Wait_Complete_Increase_%',\n",
       "       u'Staff_To_Appts_Pending_14', u'Staff_To_Appts_Pending_16',\n",
       "       u'Staff_To_Appts_Complete_14', u'Staff_To_Appts_Complete_16',\n",
       "       u'Percentage_Point_Wait_Over_30_Increase_Pending',\n",
       "       u'Percentage_Point_Wait_Over_30_Increase_Complete', u'State', u'Name',\n",
       "       u'qualitative_size', u'Mark'],\n",
       "      dtype='object')"
      ]
     },
     "execution_count": 220,
     "metadata": {},
     "output_type": "execute_result"
    }
   ],
   "source": [
    "df.columns"
   ]
  },
  {
   "cell_type": "code",
   "execution_count": 223,
   "metadata": {
    "collapsed": false
   },
   "outputs": [
    {
     "data": {
      "image/png": "[encoded data removed]",
      "text/plain": [
       "<matplotlib.figure.Figure at 0x107323110>"
      ]
     },
     "metadata": {},
     "output_type": "display_data"
    }
   ],
   "source": [
    "fig, ax = plt.subplots()\n",
    "\n",
    "ax.scatter(hires[\"%_Appts_Over_30_Pending_1412\"], hires['Percentage_Point_Wait_Over_30_Increase_Pending'], c=hires['Mark'].apply(lambda x: colors[x]), edgecolors='none',alpha=.5)\n",
    "ax.grid()\n"
   ]
  },
  {
   "cell_type": "code",
   "execution_count": null,
   "metadata": {
    "collapsed": true
   },
   "outputs": [],
   "source": []
  }
 ],
 "metadata": {
  "kernelspec": {
   "display_name": "Python 2",
   "language": "python",
   "name": "python2"
  },
  "language_info": {
   "codemirror_mode": {
    "name": "ipython",
    "version": 2
   },
   "file_extension": ".py",
   "mimetype": "text/x-python",
   "name": "python",
   "nbconvert_exporter": "python",
   "pygments_lexer": "ipython2",
   "version": "2.7.12"
  }
 },
 "nbformat": 4,
 "nbformat_minor": 1
}
